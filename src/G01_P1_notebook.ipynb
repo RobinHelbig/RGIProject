{
 "cells": [
  {
   "cell_type": "markdown",
   "metadata": {},
   "source": [
    "<H3>PRI 2022: first project delivery</H3>"
   ]
  },
  {
   "cell_type": "markdown",
   "metadata": {},
   "source": [
    "**GROUP 1**\n",
    "- Robin Helbig, ist1105007\n",
    "- Karolina Kowalczyk, ist1105122\n",
    "- name, number"
   ]
  },
  {
   "cell_type": "markdown",
   "metadata": {},
   "source": [
    "<H3>Part I: demo of facilities</H3>"
   ]
  },
  {
   "cell_type": "code",
   "execution_count": 9,
   "outputs": [],
   "source": [
    "import time\n",
    "import sys\n",
    "\n",
    "from IPython.core.display import HTML\n",
    "\n",
    "#imports\n",
    "\n",
    "from mainFunctions.ranking import ranking\n",
    "from operator import attrgetter\n",
    "from helper.documentHelper import read_files\n",
    "from mainFunctions.indexing import indexing\n",
    "from src.helper.mockDataVisualize import transfer_function_output_ranking\n",
    "from src.mainFunctions.evaluation import calculate_true_pos, calculate_precision_recall, calculate_fbeta_measure, \\\n",
    "    calculate_precision_recall_tables_and_MAP_param, draw_precision_recall_curve, \\\n",
    "    get_MAP_avg_by_cat_and_standard_deviation, draw_MAP_chart, calculate_statistics\n",
    "from src.mainFunctions.visualize import visualize\n",
    "from src.helper.documentHelper import read_files\n",
    "from matplotlib import pyplot as plt\n",
    "from collections import Counter\n",
    "import numpy"
   ],
   "metadata": {
    "collapsed": false
   }
  },
  {
   "cell_type": "markdown",
   "metadata": {},
   "source": [
    "**A) Indexing facilities**"
   ]
  },
  {
   "cell_type": "markdown",
   "metadata": {},
   "source": [
    "*A.1 Preprocessing options: statistics*"
   ]
  },
  {
   "cell_type": "code",
   "execution_count": 10,
   "metadata": {},
   "outputs": [
    {
     "name": "stdout",
     "output_type": "stream",
     "text": [
      "load time:  24.102035999298096\n"
     ]
    }
   ],
   "source": [
    "#rare, most common terms\n",
    "text_processing = True\n",
    "start = time.time()\n",
    "documents = read_files(text_processing)\n",
    "end = time.time()\n",
    "print(\"load time: \", end - start)"
   ]
  },
  {
   "cell_type": "markdown",
   "metadata": {},
   "source": [
    "*A.2 Indexing statistics*"
   ]
  },
  {
   "cell_type": "code",
   "execution_count": 11,
   "metadata": {},
   "outputs": [
    {
     "name": "stdout",
     "output_type": "stream",
     "text": [
      "corpus index time:  2.932609796524048\n",
      "corpus index size:  20971608\n",
      "corpus idfs size:  20971608\n"
     ]
    }
   ],
   "source": [
    "#code, statistics and/or charts here\n",
    "start = time.time()\n",
    "\n",
    "corpus_index = indexing(list(map(attrgetter('text_terms'), documents)))\n",
    "corpus_idfs: {str: float} = {}\n",
    "for v in corpus_index:\n",
    "    corpus_idfs[v] = corpus_index[v].inverted_document_frequency\n",
    "\n",
    "end = time.time()\n",
    "print(\"corpus index time: \", end - start)\n",
    "print(\"corpus index size: \", sys.getsizeof(corpus_index))\n",
    "print(\"corpus idfs size: \", sys.getsizeof(corpus_idfs))\n"
   ]
  },
  {
   "cell_type": "markdown",
   "metadata": {},
   "source": [
    "**B) Ranking facilities**"
   ]
  },
  {
   "cell_type": "code",
   "execution_count": 12,
   "outputs": [],
   "source": [
    "order_ranked = True\n",
    "max_sent = 8\n",
    "max_chars = 1010\n",
    "\n",
    "document = documents[32]\n",
    "\n",
    "summary_tf = ranking(document, max_sent, max_chars, order_ranked, corpus_idfs, {\"rank_option\": \"tf\", \"mmr\": False})\n",
    "summary_tfidf = ranking(document, max_sent, max_chars, order_ranked, corpus_idfs, {\"rank_option\": \"tf-idf\", \"mmr\": False})\n",
    "summary_bm25 = ranking(document, max_sent, max_chars, order_ranked, corpus_idfs, {\"rank_option\": \"bm25\", \"mmr\": False})\n",
    "summary_rrf = ranking(document, max_sent, max_chars, order_ranked, corpus_idfs, {\"rank_option\": \"rrf\", \"mmr\": False})\n",
    "summary_mmr = ranking(document, max_sent, max_chars, order_ranked, corpus_idfs, {\"rank_option\": \"tf-idf\", \"mmr\": True})"
   ],
   "metadata": {
    "collapsed": false
   }
  },
  {
   "cell_type": "markdown",
   "metadata": {},
   "source": [
    "*B.1 Summarization solution: results for a given document*"
   ]
  },
  {
   "cell_type": "code",
   "execution_count": 13,
   "metadata": {},
   "outputs": [
    {
     "name": "stdout",
     "output_type": "stream",
     "text": [
      "TF Ranking\n",
      "Precision:  0.5\n",
      "Recall:  0.2857142857142857\n",
      "F-beta:  0.4347826086956521\n",
      "MAP:  0.4303571428571428\n"
     ]
    },
    {
     "name": "stderr",
     "output_type": "stream",
     "text": [
      "/Users/robinhelbig/Dev/Semester 3/RGI/Project/src/mainFunctions/evaluation.py:159: UserWarning: color is redundantly defined by the 'color' keyword argument and the fmt string \"k-\" (-> color='k'). The keyword argument will take precedence.\n",
      "  ax.plot((r[i],\n",
      "/Users/robinhelbig/Dev/Semester 3/RGI/Project/src/mainFunctions/evaluation.py:161: UserWarning: color is redundantly defined by the 'color' keyword argument and the fmt string \"k-\" (-> color='k'). The keyword argument will take precedence.\n",
      "  ax.plot((r[i], r[i + 1]), (p[i + 1], p[i + 1]), 'k-', label='', color='red')\n",
      "/Users/robinhelbig/Dev/Semester 3/RGI/Project/src/mainFunctions/evaluation.py:163: UserWarning: color is redundantly defined by the 'color' keyword argument and the fmt string \"k--\" (-> color='k'). The keyword argument will take precedence.\n",
      "  ax.plot(r, dup_p, 'k--', color='blue')\n",
      "/Users/robinhelbig/Dev/PythonInterpreter/lib/python3.10/site-packages/IPython/core/pylabtools.py:151: UserWarning: This figure includes Axes that are not compatible with tight_layout, so results might be incorrect.\n",
      "  fig.canvas.print_figure(bytes_io, **kw)\n"
     ]
    },
    {
     "data": {
      "text/plain": "<Figure size 750x350 with 1 Axes>",
      "image/png": "[encoded data removed]"
     },
     "metadata": {},
     "output_type": "display_data"
    }
   ],
   "source": [
    "document.summary = summary_tf\n",
    "\n",
    "TP = calculate_true_pos(document)\n",
    "precision, recall = calculate_precision_recall(document.referenceSummary, document.summary, TP)\n",
    "fbeta = calculate_fbeta_measure(precision, recall)\n",
    "recall_table, precision_table, MAP = calculate_precision_recall_tables_and_MAP_param(document.summary, TP)\n",
    "precision_recall_tuple = (recall_table, precision_table)\n",
    "\n",
    "print(\"TF Ranking\")\n",
    "print(\"Precision: \", precision)\n",
    "print(\"Recall: \", recall)\n",
    "print(\"F-beta: \", fbeta)\n",
    "print(\"MAP: \", MAP)\n",
    "draw_precision_recall_curve(precision_recall_tuple)"
   ]
  },
  {
   "cell_type": "markdown",
   "metadata": {},
   "source": [
    "*B.2 Classic IR models: differences*"
   ]
  },
  {
   "cell_type": "code",
   "execution_count": 14,
   "metadata": {},
   "outputs": [
    {
     "name": "stdout",
     "output_type": "stream",
     "text": [
      "TF-IDF Ranking\n",
      "Precision:  0.375\n",
      "Recall:  0.21428571428571427\n",
      "F-beta:  0.3260869565217391\n",
      "MAP:  0.33730158730158727\n",
      "\n",
      "\n",
      "BM25 Ranking\n",
      "Precision:  0.625\n",
      "Recall:  0.35714285714285715\n",
      "F-beta:  0.5434782608695652\n",
      "MAP:  0.7961904761904762\n"
     ]
    }
   ],
   "source": [
    "document.summary = summary_tfidf\n",
    "\n",
    "TP = calculate_true_pos(document)\n",
    "precision, recall = calculate_precision_recall(document.referenceSummary, document.summary, TP)\n",
    "fbeta = calculate_fbeta_measure(precision, recall)\n",
    "_, _, MAP = calculate_precision_recall_tables_and_MAP_param(document.summary, TP)\n",
    "\n",
    "print(\"TF-IDF Ranking\")\n",
    "print(\"Precision: \", precision)\n",
    "print(\"Recall: \", recall)\n",
    "print(\"F-beta: \", fbeta)\n",
    "print(\"MAP: \", MAP)\n",
    "\n",
    "document.summary = summary_bm25\n",
    "\n",
    "TP = calculate_true_pos(document)\n",
    "precision, recall = calculate_precision_recall(document.referenceSummary, document.summary, TP)\n",
    "fbeta = calculate_fbeta_measure(precision, recall)\n",
    "_, _, MAP = calculate_precision_recall_tables_and_MAP_param(document.summary, TP)\n",
    "\n",
    "print(\"\\n\")\n",
    "print(\"BM25 Ranking\")\n",
    "print(\"Precision: \", precision)\n",
    "print(\"Recall: \", recall)\n",
    "print(\"F-beta: \", fbeta)\n",
    "print(\"MAP: \", MAP)"
   ]
  },
  {
   "cell_type": "markdown",
   "metadata": {},
   "source": [
    "*B.3 Reciprocal rank funsion*"
   ]
  },
  {
   "cell_type": "code",
   "execution_count": 15,
   "metadata": {},
   "outputs": [
    {
     "name": "stdout",
     "output_type": "stream",
     "text": [
      "RRF Ranking\n",
      "Precision:  0.5\n",
      "Recall:  0.2857142857142857\n",
      "F-beta:  0.4347826086956521\n",
      "MAP:  0.4125\n"
     ]
    }
   ],
   "source": [
    "document.summary = summary_rrf\n",
    "\n",
    "TP = calculate_true_pos(document)\n",
    "precision, recall = calculate_precision_recall(document.referenceSummary, document.summary, TP)\n",
    "fbeta = calculate_fbeta_measure(precision, recall)\n",
    "_, _, MAP = calculate_precision_recall_tables_and_MAP_param(document.summary, TP)\n",
    "\n",
    "print(\"RRF Ranking\")\n",
    "print(\"Precision: \", precision)\n",
    "print(\"Recall: \", recall)\n",
    "print(\"F-beta: \", fbeta)\n",
    "print(\"MAP: \", MAP)"
   ]
  },
  {
   "cell_type": "markdown",
   "metadata": {},
   "source": [
    "*B.4 Maximal Marginal Relevance*"
   ]
  },
  {
   "cell_type": "code",
   "execution_count": 16,
   "metadata": {},
   "outputs": [
    {
     "name": "stdout",
     "output_type": "stream",
     "text": [
      "MMR Ranking\n",
      "Precision:  0.375\n",
      "Recall:  0.21428571428571427\n",
      "F-beta:  0.3260869565217391\n",
      "MAP:  0.33730158730158727\n"
     ]
    }
   ],
   "source": [
    "document.summary = summary_mmr\n",
    "\n",
    "TP = calculate_true_pos(document)\n",
    "precision, recall = calculate_precision_recall(document.referenceSummary, document.summary, TP)\n",
    "fbeta = calculate_fbeta_measure(precision, recall)\n",
    "_, _, MAP = calculate_precision_recall_tables_and_MAP_param(document.summary, TP)\n",
    "\n",
    "print(\"MMR Ranking\")\n",
    "print(\"Precision: \", precision)\n",
    "print(\"Recall: \", recall)\n",
    "print(\"F-beta: \", fbeta)\n",
    "print(\"MAP: \", MAP)"
   ]
  },
  {
   "cell_type": "markdown",
   "metadata": {},
   "source": [
    "**C) Sentence higlighting facilities**"
   ]
  },
  {
   "cell_type": "markdown",
   "source": [],
   "metadata": {
    "collapsed": false
   }
  },
  {
   "cell_type": "code",
   "execution_count": 17,
   "metadata": {},
   "outputs": [
    {
     "data": {
      "text/plain": "<IPython.core.display.HTML object>",
      "text/html": "<html>\n    <head>\n    <title>summaries/summary1</title>\n        </head> \n        <body>\n        <p>The market, former British government minister Michael Heseltine once said, has no morality.And indeed, stock exchange traders around Asia have wasted little time regretting the victims of this week's disaster.<strong>Stock markets in Indonesia and India have hit all-time highs this week; even in Sri Lanka, more comprehensively affected, the main index has lost only 5% since the waves hit.</strong>Bigger markets further afield have barely twitched.<strong>The MSCI World share index, a measure of global stock market performance, hit its highest level this week since early 2001; the BBC Global 30 has risen by 3% in the past week.</strong>And this at a time when - all sentiment aside - insurance costs are already estimated in the tens of billions of dollars, and countries around the region are looking at trimming their growth forecasts.In fact, the markets are being perfectly rational.For a start, the notional insurance cost of the disaster will have little bearing on corporate bottom lines.The overwhelming majority of the victims will have had no insurance: according to estimates from India, only one-quarter of those affected there were wealthy enough to afford insurance, and only one-quarter of that group at most will have taken out policies.Indonesia is likely to have even lower take-up rates.And where insurance certainly is in place - in, for example, the many tourist complexes affected - the costs will be borne in far-away corners of the global reinsurance market, rather than landing locally.Second, stock markets do not trade the sort of companies likely to have been damaged.Most of the biggest companies traded on the soaring Jakarta Stock Exchange are in oil, technology and financial services - none of which have been hit by the flooding.Tourist businesses, the most likely sufferers, are either foreign-owned or too small to have their shares listed.Those that are listed have suffered: Confifi Hotel Holdings, a small Sri Lankan tourism firm, has halved in value this week.But there are winners as well as losers.<b>Asian stock markets are heavily inclined towards property and construction companies, many of which will be rubbing their hands over the reconstruction opportunities.</b>In Indonesia, shares in state construction companies Adhi Karya and Semen Gresik have jumped sharply this week.More broadly, the academic consensus is that major disasters are largely neutral in their longer-term economic impact.According to the Natural Hazards Research and Applications Information Center at Colorado State University, there is little evidence that disasters are inevitably followed by a depression.<strong>The need to find money to replace lost and damaged property is balanced by the beneficial effect of reconstruction activity; there is rarely, the centre says, any sort of rebuilding boom, but in most cases sizeable indirect losses are avoided.</strong><b>A study of the 1993 Des Moines floods, from the Disaster Research Center at the University of Delaware*, found that 70% of local businesses were no worse off after the disaster, and another 18% felt themselves better off.</b><b>\"Although it is commonly assumed on the basis of anecdotal evidence that disasters result in business failures and bankruptcies on a large scale, our research indicates that most businesses, even those that are especially hard-hit, do indeed recover,\" the authors concluded.</b>But disasters have a vast psychological impact, and markets are driven by psychological factors.In particular, many analysts warn of panic spreading unchecked through the global financial system, as investors seek to cover themselves against the unforeseeable effects of unguessable events.In fact, again, the risks here are lower than they seem.Even the costliest natural disaster is rendered minuscule by the global capital market - currently $30 trillion and rising.<strong>A series of recent shocks, the Colorado centre has argued, have demonstrated that this seamless global contagion hardly ever happens: market tremors rarely translate into economic slumps, and economic woes rarely seriously undermine markets.</strong><strong>The trillion-dollar debts of Japan's banks, for example, have had no effect on stock markets further afield than Tokyo.</strong>And the US stock market was on its way down long before 11 September, 2001; it rose by 20% during the six months following the attacks.\"It is not that the broking community is indifferent to disasters or feelings,\" one Bombay trader said this week.\"But the reaction would have been seen if business had been affected.Business sense probably tends to overrule everything else.\"</p> \n    </body>\n    </html>"
     },
     "execution_count": 17,
     "metadata": {},
     "output_type": "execute_result"
    }
   ],
   "source": [
    "dict = transfer_function_output_ranking(document.text_sentences, summary_bm25)\n",
    "doc_path = \"summaries/summary1\"\n",
    "visualize(doc_path, dict, 1)\n",
    "HTML(filename=doc_path + \".html\")"
   ]
  },
  {
   "cell_type": "code",
   "execution_count": 18,
   "outputs": [
    {
     "data": {
      "text/plain": "<IPython.core.display.HTML object>",
      "text/html": "<html>\n    <head>\n    <title>summaries/summary2</title>\n        </head> \n        <body>\n        <p>The market, former British government minister Michael Heseltine once said, has no morality.And indeed, stock exchange traders around Asia have wasted little time regretting the victims of this week's disaster.<b><big>Stock markets in Indonesia and India have hit all-time highs this week; even in Sri Lanka, more comprehensively affected, the main index has lost only 5% since the waves hit.</big></b><strong>Stock markets in Indonesia and India have hit all-time highs this week; even in Sri Lanka, more comprehensively affected, the main index has lost only 5% since the waves hit.</strong>Bigger markets further afield have barely twitched.<b><big>The MSCI World share index, a measure of global stock market performance, hit its highest level this week since early 2001; the BBC Global 30 has risen by 3% in the past week.</big></b><strong>The MSCI World share index, a measure of global stock market performance, hit its highest level this week since early 2001; the BBC Global 30 has risen by 3% in the past week.</strong>And this at a time when - all sentiment aside - insurance costs are already estimated in the tens of billions of dollars, and countries around the region are looking at trimming their growth forecasts.In fact, the markets are being perfectly rational.For a start, the notional insurance cost of the disaster will have little bearing on corporate bottom lines.The overwhelming majority of the victims will have had no insurance: according to estimates from India, only one-quarter of those affected there were wealthy enough to afford insurance, and only one-quarter of that group at most will have taken out policies.Indonesia is likely to have even lower take-up rates.And where insurance certainly is in place - in, for example, the many tourist complexes affected - the costs will be borne in far-away corners of the global reinsurance market, rather than landing locally.Second, stock markets do not trade the sort of companies likely to have been damaged.Most of the biggest companies traded on the soaring Jakarta Stock Exchange are in oil, technology and financial services - none of which have been hit by the flooding.Tourist businesses, the most likely sufferers, are either foreign-owned or too small to have their shares listed.Those that are listed have suffered: Confifi Hotel Holdings, a small Sri Lankan tourism firm, has halved in value this week.But there are winners as well as losers.<b>Asian stock markets are heavily inclined towards property and construction companies, many of which will be rubbing their hands over the reconstruction opportunities.</b>In Indonesia, shares in state construction companies Adhi Karya and Semen Gresik have jumped sharply this week.More broadly, the academic consensus is that major disasters are largely neutral in their longer-term economic impact.According to the Natural Hazards Research and Applications Information Center at Colorado State University, there is little evidence that disasters are inevitably followed by a depression.<b><big>The need to find money to replace lost and damaged property is balanced by the beneficial effect of reconstruction activity; there is rarely, the centre says, any sort of rebuilding boom, but in most cases sizeable indirect losses are avoided.</big></b><strong>The need to find money to replace lost and damaged property is balanced by the beneficial effect of reconstruction activity; there is rarely, the centre says, any sort of rebuilding boom, but in most cases sizeable indirect losses are avoided.</strong><b>A study of the 1993 Des Moines floods, from the Disaster Research Center at the University of Delaware*, found that 70% of local businesses were no worse off after the disaster, and another 18% felt themselves better off.</b><b>\"Although it is commonly assumed on the basis of anecdotal evidence that disasters result in business failures and bankruptcies on a large scale, our research indicates that most businesses, even those that are especially hard-hit, do indeed recover,\" the authors concluded.</b>But disasters have a vast psychological impact, and markets are driven by psychological factors.In particular, many analysts warn of panic spreading unchecked through the global financial system, as investors seek to cover themselves against the unforeseeable effects of unguessable events.In fact, again, the risks here are lower than they seem.Even the costliest natural disaster is rendered minuscule by the global capital market - currently $30 trillion and rising.<b><big>A series of recent shocks, the Colorado centre has argued, have demonstrated that this seamless global contagion hardly ever happens: market tremors rarely translate into economic slumps, and economic woes rarely seriously undermine markets.</big></b><strong>A series of recent shocks, the Colorado centre has argued, have demonstrated that this seamless global contagion hardly ever happens: market tremors rarely translate into economic slumps, and economic woes rarely seriously undermine markets.</strong><b><big>The trillion-dollar debts of Japan's banks, for example, have had no effect on stock markets further afield than Tokyo.</big></b><strong>The trillion-dollar debts of Japan's banks, for example, have had no effect on stock markets further afield than Tokyo.</strong>And the US stock market was on its way down long before 11 September, 2001; it rose by 20% during the six months following the attacks.\"It is not that the broking community is indifferent to disasters or feelings,\" one Bombay trader said this week.\"But the reaction would have been seen if business had been affected.Business sense probably tends to overrule everything else.\"</p> \n    </body>\n    </html>"
     },
     "execution_count": 18,
     "metadata": {},
     "output_type": "execute_result"
    }
   ],
   "source": [
    "dict = transfer_function_output_ranking(document.text_sentences, summary_bm25)\n",
    "doc_path = \"summaries/summary2\"\n",
    "visualize(doc_path, dict, 2)\n",
    "HTML(filename=doc_path + \".html\")"
   ],
   "metadata": {
    "collapsed": false
   }
  },
  {
   "cell_type": "code",
   "execution_count": 19,
   "outputs": [
    {
     "data": {
      "text/plain": "<IPython.core.display.HTML object>",
      "text/html": "<html>\n    <head>\n    <title>summaries/summary3</title>\n        </head> \n        <body>\n        <p>The market, former British government minister Michael Heseltine once said, has no morality.And indeed, stock exchange traders around Asia have wasted little time regretting the victims of this week's disaster.<b>Stock markets in Indonesia and India have hit all-time highs this week; even in Sri Lanka, more comprehensively affected, the main index has lost only 5% since the waves hit.</b>Bigger markets further afield have barely twitched.<b>The MSCI World share index, a measure of global stock market performance, hit its highest level this week since early 2001; the BBC Global 30 has risen by 3% in the past week.</b>And this at a time when - all sentiment aside - insurance costs are already estimated in the tens of billions of dollars, and countries around the region are looking at trimming their growth forecasts.In fact, the markets are being perfectly rational.For a start, the notional insurance cost of the disaster will have little bearing on corporate bottom lines.The overwhelming majority of the victims will have had no insurance: according to estimates from India, only one-quarter of those affected there were wealthy enough to afford insurance, and only one-quarter of that group at most will have taken out policies.Indonesia is likely to have even lower take-up rates.And where insurance certainly is in place - in, for example, the many tourist complexes affected - the costs will be borne in far-away corners of the global reinsurance market, rather than landing locally.Second, stock markets do not trade the sort of companies likely to have been damaged.Most of the biggest companies traded on the soaring Jakarta Stock Exchange are in oil, technology and financial services - none of which have been hit by the flooding.Tourist businesses, the most likely sufferers, are either foreign-owned or too small to have their shares listed.Those that are listed have suffered: Confifi Hotel Holdings, a small Sri Lankan tourism firm, has halved in value this week.But there are winners as well as losers.<b>Asian stock markets are heavily inclined towards property and construction companies, many of which will be rubbing their hands over the reconstruction opportunities.</b>In Indonesia, shares in state construction companies Adhi Karya and Semen Gresik have jumped sharply this week.More broadly, the academic consensus is that major disasters are largely neutral in their longer-term economic impact.According to the Natural Hazards Research and Applications Information Center at Colorado State University, there is little evidence that disasters are inevitably followed by a depression.<b>The need to find money to replace lost and damaged property is balanced by the beneficial effect of reconstruction activity; there is rarely, the centre says, any sort of rebuilding boom, but in most cases sizeable indirect losses are avoided.</b><b>A study of the 1993 Des Moines floods, from the Disaster Research Center at the University of Delaware*, found that 70% of local businesses were no worse off after the disaster, and another 18% felt themselves better off.</b><b>\"Although it is commonly assumed on the basis of anecdotal evidence that disasters result in business failures and bankruptcies on a large scale, our research indicates that most businesses, even those that are especially hard-hit, do indeed recover,\" the authors concluded.</b>But disasters have a vast psychological impact, and markets are driven by psychological factors.In particular, many analysts warn of panic spreading unchecked through the global financial system, as investors seek to cover themselves against the unforeseeable effects of unguessable events.In fact, again, the risks here are lower than they seem.Even the costliest natural disaster is rendered minuscule by the global capital market - currently $30 trillion and rising.<b>A series of recent shocks, the Colorado centre has argued, have demonstrated that this seamless global contagion hardly ever happens: market tremors rarely translate into economic slumps, and economic woes rarely seriously undermine markets.</b><b>The trillion-dollar debts of Japan's banks, for example, have had no effect on stock markets further afield than Tokyo.</b>And the US stock market was on its way down long before 11 September, 2001; it rose by 20% during the six months following the attacks.\"It is not that the broking community is indifferent to disasters or feelings,\" one Bombay trader said this week.\"But the reaction would have been seen if business had been affected.Business sense probably tends to overrule everything else.\"</p> \n    </body>\n    </html>"
     },
     "execution_count": 19,
     "metadata": {},
     "output_type": "execute_result"
    }
   ],
   "source": [
    "dict = transfer_function_output_ranking(document.text_sentences, summary_bm25)\n",
    "doc_path = \"summaries/summary3\"\n",
    "visualize(doc_path, dict, 3)\n",
    "HTML(filename=doc_path + \".html\")"
   ],
   "metadata": {
    "collapsed": false
   }
  },
  {
   "cell_type": "code",
   "execution_count": 20,
   "outputs": [
    {
     "data": {
      "text/plain": "<IPython.core.display.HTML object>",
      "text/html": "<html>\n    <head>\n    <title>summaries/summary4</title>\n        </head> \n        <body>\n        <p></p>The market, former British government minister Michael Heseltine once said, has no morality.And indeed, stock exchange traders around Asia have wasted little time regretting the victims of this week's disaster.<font size=\"4\"> Stock markets in Indonesia and India have hit all-time highs this week; even in Sri Lanka, more comprehensively affected, the main index has lost only 5% since the waves hit.</fontBigger markets further afield have barely twitched.<font size=\"4\"> The MSCI World share index, a measure of global stock market performance, hit its highest level this week since early 2001; the BBC Global 30 has risen by 3% in the past week.</fontAnd this at a time when - all sentiment aside - insurance costs are already estimated in the tens of billions of dollars, and countries around the region are looking at trimming their growth forecasts.In fact, the markets are being perfectly rational.For a start, the notional insurance cost of the disaster will have little bearing on corporate bottom lines.The overwhelming majority of the victims will have had no insurance: according to estimates from India, only one-quarter of those affected there were wealthy enough to afford insurance, and only one-quarter of that group at most will have taken out policies.Indonesia is likely to have even lower take-up rates.And where insurance certainly is in place - in, for example, the many tourist complexes affected - the costs will be borne in far-away corners of the global reinsurance market, rather than landing locally.Second, stock markets do not trade the sort of companies likely to have been damaged.Most of the biggest companies traded on the soaring Jakarta Stock Exchange are in oil, technology and financial services - none of which have been hit by the flooding.Tourist businesses, the most likely sufferers, are either foreign-owned or too small to have their shares listed.Those that are listed have suffered: Confifi Hotel Holdings, a small Sri Lankan tourism firm, has halved in value this week.But there are winners as well as losers.<font size=\"4\"> Asian stock markets are heavily inclined towards property and construction companies, many of which will be rubbing their hands over the reconstruction opportunities.</fontIn Indonesia, shares in state construction companies Adhi Karya and Semen Gresik have jumped sharply this week.More broadly, the academic consensus is that major disasters are largely neutral in their longer-term economic impact.According to the Natural Hazards Research and Applications Information Center at Colorado State University, there is little evidence that disasters are inevitably followed by a depression.<font size=\"4\"> The need to find money to replace lost and damaged property is balanced by the beneficial effect of reconstruction activity; there is rarely, the centre says, any sort of rebuilding boom, but in most cases sizeable indirect losses are avoided.</font<font size=\"4\"> A study of the 1993 Des Moines floods, from the Disaster Research Center at the University of Delaware*, found that 70% of local businesses were no worse off after the disaster, and another 18% felt themselves better off.</font<font size=\"4\"> \"Although it is commonly assumed on the basis of anecdotal evidence that disasters result in business failures and bankruptcies on a large scale, our research indicates that most businesses, even those that are especially hard-hit, do indeed recover,\" the authors concluded.</fontBut disasters have a vast psychological impact, and markets are driven by psychological factors.In particular, many analysts warn of panic spreading unchecked through the global financial system, as investors seek to cover themselves against the unforeseeable effects of unguessable events.In fact, again, the risks here are lower than they seem.Even the costliest natural disaster is rendered minuscule by the global capital market - currently $30 trillion and rising.<font size=\"4\"> A series of recent shocks, the Colorado centre has argued, have demonstrated that this seamless global contagion hardly ever happens: market tremors rarely translate into economic slumps, and economic woes rarely seriously undermine markets.</font<font size=\"4\"> The trillion-dollar debts of Japan's banks, for example, have had no effect on stock markets further afield than Tokyo.</fontAnd the US stock market was on its way down long before 11 September, 2001; it rose by 20% during the six months following the attacks.\"It is not that the broking community is indifferent to disasters or feelings,\" one Bombay trader said this week.\"But the reaction would have been seen if business had been affected.Business sense probably tends to overrule everything else.\"</p> \n    </body>\n    </html>"
     },
     "execution_count": 20,
     "metadata": {},
     "output_type": "execute_result"
    }
   ],
   "source": [
    "dict = transfer_function_output_ranking(document.text_sentences, summary_bm25)\n",
    "doc_path = \"summaries/summary4\"\n",
    "visualize(doc_path, dict, 4)\n",
    "HTML(filename=doc_path + \".html\")"
   ],
   "metadata": {
    "collapsed": false
   }
  },
  {
   "cell_type": "code",
   "execution_count": 21,
   "outputs": [
    {
     "data": {
      "text/plain": "<IPython.core.display.HTML object>",
      "text/html": "<html>\n    <head>\n    <title>summaries/summary5</title>\n        </head> \n        <body>\n        <p></p>The market, former British government minister Michael Heseltine once said, has no morality.And indeed, stock exchange traders around Asia have wasted little time regretting the victims of this week's disaster.<b><font size=\"4\"> Stock markets in Indonesia and India have hit all-time highs this week; even in Sri Lanka, more comprehensively affected, the main index has lost only 5% since the waves hit.</font><b><font size=\"4\"> Stock markets in Indonesia and India have hit all-time highs this week; even in Sri Lanka, more comprehensively affected, the main index has lost only 5% since the waves hit.</fontBigger markets further afield have barely twitched.<b><font size=\"4\"> The MSCI World share index, a measure of global stock market performance, hit its highest level this week since early 2001; the BBC Global 30 has risen by 3% in the past week.</font><b><font size=\"4\"> The MSCI World share index, a measure of global stock market performance, hit its highest level this week since early 2001; the BBC Global 30 has risen by 3% in the past week.</fontAnd this at a time when - all sentiment aside - insurance costs are already estimated in the tens of billions of dollars, and countries around the region are looking at trimming their growth forecasts.In fact, the markets are being perfectly rational.For a start, the notional insurance cost of the disaster will have little bearing on corporate bottom lines.The overwhelming majority of the victims will have had no insurance: according to estimates from India, only one-quarter of those affected there were wealthy enough to afford insurance, and only one-quarter of that group at most will have taken out policies.Indonesia is likely to have even lower take-up rates.And where insurance certainly is in place - in, for example, the many tourist complexes affected - the costs will be borne in far-away corners of the global reinsurance market, rather than landing locally.Second, stock markets do not trade the sort of companies likely to have been damaged.Most of the biggest companies traded on the soaring Jakarta Stock Exchange are in oil, technology and financial services - none of which have been hit by the flooding.Tourist businesses, the most likely sufferers, are either foreign-owned or too small to have their shares listed.Those that are listed have suffered: Confifi Hotel Holdings, a small Sri Lankan tourism firm, has halved in value this week.But there are winners as well as losers.<b><font size=\"4\"> Asian stock markets are heavily inclined towards property and construction companies, many of which will be rubbing their hands over the reconstruction opportunities.</font><b><font size=\"4\"> Asian stock markets are heavily inclined towards property and construction companies, many of which will be rubbing their hands over the reconstruction opportunities.</fontIn Indonesia, shares in state construction companies Adhi Karya and Semen Gresik have jumped sharply this week.More broadly, the academic consensus is that major disasters are largely neutral in their longer-term economic impact.According to the Natural Hazards Research and Applications Information Center at Colorado State University, there is little evidence that disasters are inevitably followed by a depression.<b><font size=\"4\"> The need to find money to replace lost and damaged property is balanced by the beneficial effect of reconstruction activity; there is rarely, the centre says, any sort of rebuilding boom, but in most cases sizeable indirect losses are avoided.</font><b><font size=\"4\"> The need to find money to replace lost and damaged property is balanced by the beneficial effect of reconstruction activity; there is rarely, the centre says, any sort of rebuilding boom, but in most cases sizeable indirect losses are avoided.</font<b><font size=\"4\"> A study of the 1993 Des Moines floods, from the Disaster Research Center at the University of Delaware*, found that 70% of local businesses were no worse off after the disaster, and another 18% felt themselves better off.</font><b><font size=\"4\"> A study of the 1993 Des Moines floods, from the Disaster Research Center at the University of Delaware*, found that 70% of local businesses were no worse off after the disaster, and another 18% felt themselves better off.</font<b><font size=\"4\"> \"Although it is commonly assumed on the basis of anecdotal evidence that disasters result in business failures and bankruptcies on a large scale, our research indicates that most businesses, even those that are especially hard-hit, do indeed recover,\" the authors concluded.</font><b><font size=\"4\"> \"Although it is commonly assumed on the basis of anecdotal evidence that disasters result in business failures and bankruptcies on a large scale, our research indicates that most businesses, even those that are especially hard-hit, do indeed recover,\" the authors concluded.</fontBut disasters have a vast psychological impact, and markets are driven by psychological factors.In particular, many analysts warn of panic spreading unchecked through the global financial system, as investors seek to cover themselves against the unforeseeable effects of unguessable events.In fact, again, the risks here are lower than they seem.Even the costliest natural disaster is rendered minuscule by the global capital market - currently $30 trillion and rising.<b><font size=\"4\"> A series of recent shocks, the Colorado centre has argued, have demonstrated that this seamless global contagion hardly ever happens: market tremors rarely translate into economic slumps, and economic woes rarely seriously undermine markets.</font><b><font size=\"4\"> A series of recent shocks, the Colorado centre has argued, have demonstrated that this seamless global contagion hardly ever happens: market tremors rarely translate into economic slumps, and economic woes rarely seriously undermine markets.</font<b><font size=\"4\"> The trillion-dollar debts of Japan's banks, for example, have had no effect on stock markets further afield than Tokyo.</font><b><font size=\"4\"> The trillion-dollar debts of Japan's banks, for example, have had no effect on stock markets further afield than Tokyo.</fontAnd the US stock market was on its way down long before 11 September, 2001; it rose by 20% during the six months following the attacks.\"It is not that the broking community is indifferent to disasters or feelings,\" one Bombay trader said this week.\"But the reaction would have been seen if business had been affected.Business sense probably tends to overrule everything else.\"</p> \n    </body>\n    </html>"
     },
     "execution_count": 21,
     "metadata": {},
     "output_type": "execute_result"
    }
   ],
   "source": [
    "dict = transfer_function_output_ranking(document.text_sentences, summary_bm25)\n",
    "doc_path = \"summaries/summary5\"\n",
    "visualize(doc_path, dict, 5)\n",
    "HTML(filename=doc_path + \".html\")"
   ],
   "metadata": {
    "collapsed": false
   }
  },
  {
   "cell_type": "markdown",
   "metadata": {},
   "source": [
    "**D) Evaluation facilities**"
   ]
  },
  {
   "cell_type": "markdown",
   "metadata": {},
   "source": [
    "*D.1 Evaluation options*"
   ]
  },
  {
   "cell_type": "code",
   "execution_count": 22,
   "metadata": {},
   "outputs": [
    {
     "name": "stdout",
     "output_type": "stream",
     "text": [
      "(0.6631962673958478, 0.18499593409105664) (0.6541198612432876, 0.19384784988493758) (0.6033610662490412, 0.21432516174630337) (0.629691769728113, 0.21531416410198223) (0.6490178748140983, 0.2058385136749442)\n"
     ]
    },
    {
     "name": "stderr",
     "output_type": "stream",
     "text": [
      "/Users/robinhelbig/Dev/PythonInterpreter/lib/python3.10/site-packages/IPython/core/pylabtools.py:151: UserWarning: This figure includes Axes that are not compatible with tight_layout, so results might be incorrect.\n",
      "  fig.canvas.print_figure(bytes_io, **kw)\n"
     ]
    },
    {
     "data": {
      "text/plain": "<Figure size 750x350 with 1 Axes>",
      "image/png": "[encoded data removed]"
     },
     "metadata": {},
     "output_type": "display_data"
    }
   ],
   "source": [
    "for document in documents:\n",
    "    document.summary = ranking(document, max_sent, max_chars, order_ranked, corpus_idfs, {\"rank_option\": \"tf\", \"mmr\": False})\n",
    "\n",
    "business_docs = list(filter(lambda d: d.category == \"business\", documents))\n",
    "business = get_MAP_avg_by_cat_and_standard_deviation(business_docs)\n",
    "entertainment_docs = list(filter(lambda d: d.category == \"entertainment\", documents))\n",
    "entertainment = get_MAP_avg_by_cat_and_standard_deviation(entertainment_docs)\n",
    "politics_docs = list(filter(lambda d: d.category == \"politics\", documents))\n",
    "politics = get_MAP_avg_by_cat_and_standard_deviation(politics_docs)\n",
    "sport_docs = list(filter(lambda d: d.category == \"sport\", documents))\n",
    "sport = get_MAP_avg_by_cat_and_standard_deviation(sport_docs)\n",
    "tech_docs = list(filter(lambda d: d.category == \"tech\", documents))\n",
    "tech = get_MAP_avg_by_cat_and_standard_deviation(tech_docs)\n",
    "\n",
    "print(business, entertainment, politics, sport, tech)\n",
    "draw_MAP_chart(business, entertainment, politics, sport, tech)"
   ]
  },
  {
   "cell_type": "markdown",
   "metadata": {},
   "source": [
    "*D.2 Comparison of settings (IR models, preprocessing)*"
   ]
  },
  {
   "cell_type": "code",
   "execution_count": 23,
   "metadata": {},
   "outputs": [
    {
     "name": "stdout",
     "output_type": "stream",
     "text": [
      "### TF ###\n",
      "Average Precision:  0.489852862493312\n",
      "Average Recall:  0.5865056878164239\n",
      "Average F-Beta:  0.4936685051021447\n",
      "Average MAP:  0.6401575683456918\n",
      "##########\n",
      "### TF-IDF ###\n",
      "Average Precision:  0.4867067950775817\n",
      "Average Recall:  0.5858110746355357\n",
      "Average F-Beta:  0.4912979016457239\n",
      "Average MAP:  0.633157494458459\n",
      "##########\n",
      "### BM25 ###\n",
      "Average Precision:  0.574852862493312\n",
      "Average Recall:  0.668924528591727\n",
      "Average F-Beta:  0.5762088329662882\n",
      "Average MAP:  0.7668698208871588\n",
      "##########\n",
      "### RRF ###\n",
      "Average Precision:  0.5228865703584805\n",
      "Average Recall:  0.6194304651253445\n",
      "Average F-Beta:  0.5259825397681428\n",
      "Average MAP:  0.6889688679966396\n",
      "##########\n",
      "### MMR ###\n",
      "Average Precision:  0.3469315141787053\n",
      "Average Recall:  0.435239731199037\n",
      "Average F-Beta:  0.35259053695182563\n",
      "Average MAP:  0.5778323473209521\n",
      "##########\n"
     ]
    }
   ],
   "source": [
    "#code, statistics and/or charts here\n",
    "for document in documents:\n",
    "    document.summary = ranking(document, max_sent, max_chars, order_ranked, corpus_idfs, {\"rank_option\": \"tf\", \"mmr\": False})\n",
    "\n",
    "precision_avg, recall_avg, fbeta_avg, MAP_avg = calculate_statistics(documents)\n",
    "print(\"### TF ###\")\n",
    "print(\"Average Precision: \", precision_avg)\n",
    "print(\"Average Recall: \", recall_avg)\n",
    "print(\"Average F-Beta: \", fbeta_avg)\n",
    "print(\"Average MAP: \", MAP_avg)\n",
    "print(\"##########\")\n",
    "\n",
    "for document in documents:\n",
    "    document.summary = ranking(document, max_sent, max_chars, order_ranked, corpus_idfs, {\"rank_option\": \"tf-idf\", \"mmr\": False})\n",
    "\n",
    "precision_avg, recall_avg, fbeta_avg, MAP_avg = calculate_statistics(documents)\n",
    "print(\"### TF-IDF ###\")\n",
    "print(\"Average Precision: \", precision_avg)\n",
    "print(\"Average Recall: \", recall_avg)\n",
    "print(\"Average F-Beta: \", fbeta_avg)\n",
    "print(\"Average MAP: \", MAP_avg)\n",
    "print(\"##########\")\n",
    "\n",
    "for document in documents:\n",
    "    document.summary = ranking(document, max_sent, max_chars, order_ranked, corpus_idfs, {\"rank_option\": \"bm25\", \"mmr\": False})\n",
    "\n",
    "precision_avg, recall_avg, fbeta_avg, MAP_avg = calculate_statistics(documents)\n",
    "print(\"### BM25 ###\")\n",
    "print(\"Average Precision: \", precision_avg)\n",
    "print(\"Average Recall: \", recall_avg)\n",
    "print(\"Average F-Beta: \", fbeta_avg)\n",
    "print(\"Average MAP: \", MAP_avg)\n",
    "print(\"##########\")\n",
    "\n",
    "for document in documents:\n",
    "    document.summary = ranking(document, max_sent, max_chars, order_ranked, corpus_idfs, {\"rank_option\": \"rrf\", \"mmr\": False})\n",
    "\n",
    "precision_avg, recall_avg, fbeta_avg, MAP_avg = calculate_statistics(documents)\n",
    "print(\"### RRF ###\")\n",
    "print(\"Average Precision: \", precision_avg)\n",
    "print(\"Average Recall: \", recall_avg)\n",
    "print(\"Average F-Beta: \", fbeta_avg)\n",
    "print(\"Average MAP: \", MAP_avg)\n",
    "print(\"##########\")\n",
    "\n",
    "for document in documents:\n",
    "    document.summary = ranking(document, max_sent, max_chars, order_ranked, corpus_idfs, {\"rank_option\": \"tf-idf\", \"mmr\": True})\n",
    "\n",
    "precision_avg, recall_avg, fbeta_avg, MAP_avg = calculate_statistics(documents)\n",
    "print(\"### MMR ###\")\n",
    "print(\"Average Precision: \", precision_avg)\n",
    "print(\"Average Recall: \", recall_avg)\n",
    "print(\"Average F-Beta: \", fbeta_avg)\n",
    "print(\"Average MAP: \", MAP_avg)\n",
    "print(\"##########\")"
   ]
  },
  {
   "cell_type": "markdown",
   "source": [],
   "metadata": {
    "collapsed": false
   }
  },
  {
   "cell_type": "markdown",
   "metadata": {},
   "source": [
    "<H3>Part II: questions materials (optional)</H3>"
   ]
  },
  {
   "cell_type": "markdown",
   "metadata": {},
   "source": [
    "**(a)** Corpus and summary description. Distribution of informative terms before and after text processing."
   ]
  },
  {
   "cell_type": "code",
   "execution_count": 24,
   "metadata": {},
   "outputs": [],
   "source": [
    "# documents_without_preprocessing = read_files(False)\n",
    "# documents_with_preprocessing = read_files(True)\n",
    "#\n",
    "# without_array = []\n",
    "# with_array = []\n",
    "# enum1 = []\n",
    "# enum_number = 0\n",
    "#\n",
    "# for d in documents_without_preprocessing:\n",
    "#     enum_number += 1\n",
    "#     terms_without_preprocessing = d.text_terms\n",
    "#     # [\"Cats\" \"are\" black or white and eat mickey mouse]\n",
    "#     without_array.append(len(terms_without_preprocessing))\n",
    "#     enum1.append(enum_number)\n",
    "#\n",
    "# enum_number = 0\n",
    "# for d in documents_with_preprocessing:\n",
    "#     terms_with_preprocessing = d.text_terms\n",
    "#     # [\"Cats\", black, white, mickey, mouse, Cats black, black white, white mickey, mickey mouse]\n",
    "#     with_array.append(len(terms_with_preprocessing))\n",
    "#\n",
    "# with_array_mod = []\n",
    "# without_array_mod = []\n",
    "# for value in with_array:\n",
    "#     with_array_mod.append(int(value/100))\n",
    "# for value in without_array:\n",
    "#     without_array_mod.append(int(value / 100))\n",
    "#\n",
    "# c1_counted = Counter(with_array_mod)\n",
    "# c2_counted = Counter(without_array_mod)\n",
    "#\n",
    "#\n",
    "#\n",
    "# plt.bar(c1_counted.keys(), c1_counted.values(), label = \"with processing\")\n",
    "# plt.bar(c2_counted.keys(), c2_counted.values(), label = \"without processing\")\n",
    "# plt.xlabel('words * 10^2')\n",
    "# plt.ylabel('number of documents')\n",
    "# plt.legend()\n",
    "# plt.show()"
   ]
  },
  {
   "cell_type": "markdown",
   "source": [
    "**(b)** Summarization performance for the overall and category-conditional corpora."
   ],
   "metadata": {
    "collapsed": false
   }
  },
  {
   "cell_type": "code",
   "execution_count": 25,
   "outputs": [],
   "source": [
    "# from operator import attrgetter\n",
    "#\n",
    "# from src.mainFunctions.indexing import indexing\n",
    "# from src.helper.documentHelper import read_files\n",
    "# from src.mainFunctions.ranking import ranking\n",
    "#\n",
    "# from src.mainFunctions.evaluation import calculate_true_pos\n",
    "# from src.mainFunctions.evaluation import get_MAP_avg_by_cat_and_standard_deviation\n",
    "# from src.mainFunctions.evaluation import draw_MAP_chart\n",
    "# from src.mainFunctions.evaluation import calculate_precision_recall_tables_and_MAP_param\n",
    "# from src.mainFunctions.evaluation import draw_precision_recall_curve\n",
    "# from src.mainFunctions.evaluation import calculate_precision_recall\n",
    "# from src.mainFunctions.evaluation import calculate_fbeta_measure\n",
    "#\n",
    "# from src.helper.helper import write_to_csv\n",
    "#\n",
    "# order_ranked = True\n",
    "# text_processing = True\n",
    "# documents = read_files(text_processing)\n",
    "# index = indexing(list(map(attrgetter('text_terms'), documents)))\n",
    "# corpus_idfs: {str: float} = {}\n",
    "# for v in index:\n",
    "#     corpus_idfs[v] = index[v].inverted_document_frequency\n",
    "# fbeta_list_tf = []\n",
    "# # MAP_avg_by_cat_and_standard_deviation, interpolated recall-and-precision curve for doc 2 - tf\n",
    "# for document in documents:\n",
    "#     document.summary = ranking(document, 8, 1010, order_ranked, corpus_idfs, {\"rank_option\": \"tf\", \"mmr\": False})\n",
    "#     true_pos = calculate_true_pos(document)\n",
    "#     precision_recall_tuple = calculate_precision_recall(document.referenceSummary, document.summary, true_pos)\n",
    "#     fbeta_list_tf.append(calculate_fbeta_measure(precision_recall_tuple[0], precision_recall_tuple[1]))\n",
    "#     precision_recall_tuple_table = calculate_precision_recall_tables_and_MAP_param(document.summary,\n",
    "#                                                                              true_pos)\n",
    "#     if document.id == 2:\n",
    "#         draw_precision_recall_curve(precision_recall_tuple_table)\n",
    "#\n",
    "# avg_fbeta_tf = sum(fbeta_list_tf) / len(fbeta_list_tf)\n",
    "# print(avg_fbeta_tf)\n",
    "#\n",
    "# business_docs = list(filter(lambda d: d.category == \"business\", documents))\n",
    "# business = get_MAP_avg_by_cat_and_standard_deviation(business_docs)\n",
    "#\n",
    "# entertainment_docs = list(filter(lambda d: d.category == \"entertainment\", documents))\n",
    "# entertainment = get_MAP_avg_by_cat_and_standard_deviation(entertainment_docs)\n",
    "#\n",
    "# politics_docs = list(filter(lambda d: d.category == \"politics\", documents))\n",
    "# politics = get_MAP_avg_by_cat_and_standard_deviation(politics_docs)\n",
    "#\n",
    "# sport_docs = list(filter(lambda d: d.category == \"sport\", documents))\n",
    "# sport = get_MAP_avg_by_cat_and_standard_deviation(sport_docs)\n",
    "#\n",
    "# tech_docs = list(filter(lambda d: d.category == \"tech\", documents))\n",
    "# tech = get_MAP_avg_by_cat_and_standard_deviation(tech_docs)\n",
    "#\n",
    "# draw_MAP_chart(business, entertainment, politics, sport, tech)\n",
    "#\n",
    "# fbeta_list_tf_idf = []\n",
    "# # MAP_avg_by_cat_and_standard_deviation, interpolated recall-and-precision curve for doc 2 - tf-idf\n",
    "# for document in documents:\n",
    "#     document.summary = ranking(document, 8, 1010, order_ranked, corpus_idfs, {\"rank_option\": \"tf-idf\", \"mmr\": False})\n",
    "#     true_pos = calculate_true_pos(document)\n",
    "#     precision_recall_tuple = calculate_precision_recall(document.referenceSummary, document.summary, true_pos)\n",
    "#     fbeta_list_tf_idf.append(calculate_fbeta_measure(precision_recall_tuple[0], precision_recall_tuple[1]))\n",
    "#     precision_recall_tuple_table = calculate_precision_recall_tables_and_MAP_param(document.summary,\n",
    "#                                                                                    true_pos)\n",
    "#     if document.id == 2:\n",
    "#         draw_precision_recall_curve(precision_recall_tuple_table)\n",
    "#\n",
    "# avg_fbeta_tf_idf = sum(fbeta_list_tf_idf) / len(fbeta_list_tf_idf)\n",
    "# print(avg_fbeta_tf_idf)\n",
    "#\n",
    "# business_docs = list(filter(lambda d: d.category == \"business\", documents))\n",
    "# business = get_MAP_avg_by_cat_and_standard_deviation(business_docs)\n",
    "#\n",
    "# entertainment_docs = list(filter(lambda d: d.category == \"entertainment\", documents))\n",
    "# entertainment = get_MAP_avg_by_cat_and_standard_deviation(entertainment_docs)\n",
    "#\n",
    "# politics_docs = list(filter(lambda d: d.category == \"politics\", documents))\n",
    "# politics = get_MAP_avg_by_cat_and_standard_deviation(politics_docs)\n",
    "#\n",
    "# sport_docs = list(filter(lambda d: d.category == \"sport\", documents))\n",
    "# sport = get_MAP_avg_by_cat_and_standard_deviation(sport_docs)\n",
    "#\n",
    "# tech_docs = list(filter(lambda d: d.category == \"tech\", documents))\n",
    "# tech = get_MAP_avg_by_cat_and_standard_deviation(tech_docs)\n",
    "#\n",
    "# draw_MAP_chart(business, entertainment, politics, sport, tech)\n",
    "#\n",
    "# fbeta_list_bm25 = []\n",
    "# # MAP_avg_by_cat_and_standard_deviation, interpolated recall-and-precision curve for doc 2 - bm25\n",
    "# for document in documents:\n",
    "#     document.summary = ranking(document, 8, 1010, order_ranked, corpus_idfs, {\"rank_option\": \"bm25\", \"mmr\": False})\n",
    "#     true_pos = calculate_true_pos(document)\n",
    "#     precision_recall_tuple = calculate_precision_recall(document.referenceSummary, document.summary, true_pos)\n",
    "#     fbeta_list_bm25.append(calculate_fbeta_measure(precision_recall_tuple[0], precision_recall_tuple[1]))\n",
    "#     precision_recall_tuple_table = calculate_precision_recall_tables_and_MAP_param(document.summary,\n",
    "#                                                                                    true_pos)\n",
    "#     if document.id == 2:\n",
    "#         draw_precision_recall_curve(precision_recall_tuple_table)\n",
    "#\n",
    "# avg_fbeta_bm25 = sum(fbeta_list_bm25) / len(fbeta_list_bm25)\n",
    "# print(avg_fbeta_bm25)\n",
    "#\n",
    "# business_docs = list(filter(lambda d: d.category == \"business\", documents))\n",
    "# business = get_MAP_avg_by_cat_and_standard_deviation(business_docs)\n",
    "#\n",
    "# entertainment_docs = list(filter(lambda d: d.category == \"entertainment\", documents))\n",
    "# entertainment = get_MAP_avg_by_cat_and_standard_deviation(entertainment_docs)\n",
    "#\n",
    "# politics_docs = list(filter(lambda d: d.category == \"politics\", documents))\n",
    "# politics = get_MAP_avg_by_cat_and_standard_deviation(politics_docs)\n",
    "#\n",
    "# sport_docs = list(filter(lambda d: d.category == \"sport\", documents))\n",
    "# sport = get_MAP_avg_by_cat_and_standard_deviation(sport_docs)\n",
    "#\n",
    "# tech_docs = list(filter(lambda d: d.category == \"tech\", documents))\n",
    "# tech = get_MAP_avg_by_cat_and_standard_deviation(tech_docs)\n",
    "#\n",
    "# draw_MAP_chart(business, entertainment, politics, sport, tech)\n",
    "#\n",
    "# fbeta_header = ['all_docs_tf', 'all_docs_tf_idf', 'all_docs_bm25']\n",
    "# fbeta_data = [avg_fbeta_tf, avg_fbeta_tf_idf, avg_fbeta_bm25]\n",
    "# write_to_csv('fbeta.csv', fbeta_header, [fbeta_data])"
   ],
   "metadata": {
    "collapsed": false
   }
  },
  {
   "cell_type": "markdown",
   "source": [
    "**(c)** Impact of Lambda on MMR"
   ],
   "metadata": {
    "collapsed": false
   }
  },
  {
   "cell_type": "code",
   "execution_count": 26,
   "outputs": [],
   "source": [
    "# from src.mainFunctions.evaluation import calculate_accuracy, calculate_redundancy\n",
    "# import pandas\n",
    "#\n",
    "# data = []\n",
    "# headers=[\"lambda\", \"accuracy\", \"redundancy\"]\n",
    "#\n",
    "# accuracy_avg = 0.0\n",
    "# redundancy_avg = 0.0\n",
    "# document_count = len(documents)\n",
    "#\n",
    "# for document in documents:\n",
    "#     document.summary = ranking(document, max_sent, max_chars, order_ranked, corpus_idfs, {\"rank_option\": \"tf-idf\", \"mmr\": True, \"lam\": 0.01})\n",
    "#     accuracy_avg += calculate_accuracy(document)\n",
    "#     redundancy_avg += calculate_redundancy(document.summary, text_processing)\n",
    "#\n",
    "# accuracy_avg = accuracy_avg / document_count\n",
    "# redundancy_avg = redundancy_avg / document_count\n",
    "#\n",
    "# data.append([0.01, accuracy_avg, redundancy_avg])\n",
    "#\n",
    "# accuracy_avg = 0.0\n",
    "# redundancy_avg = 0.0\n",
    "# document_count = len(documents)\n",
    "#\n",
    "# for document in documents:\n",
    "#     document.summary = ranking(document, max_sent, max_chars, order_ranked, corpus_idfs, {\"rank_option\": \"tf-idf\", \"mmr\": True, \"lam\": 0.5})\n",
    "#     accuracy_avg += calculate_accuracy(document)\n",
    "#     redundancy_avg += calculate_redundancy(document.summary, text_processing)\n",
    "#\n",
    "# accuracy_avg = accuracy_avg / document_count\n",
    "# redundancy_avg = redundancy_avg / document_count\n",
    "#\n",
    "# data.append([0.5, accuracy_avg, redundancy_avg])\n",
    "#\n",
    "#\n",
    "#\n",
    "# accuracy_avg = 0.0\n",
    "# redundancy_avg = 0.0\n",
    "# document_count = len(documents)\n",
    "#\n",
    "# for document in documents:\n",
    "#     document.summary = ranking(document, max_sent, max_chars, order_ranked, corpus_idfs, {\"rank_option\": \"tf-idf\", \"mmr\": True, \"lam\": 0.99})\n",
    "#     accuracy_avg += calculate_accuracy(document)\n",
    "#     redundancy_avg += calculate_redundancy(document.summary, text_processing)\n",
    "#\n",
    "# accuracy_avg = accuracy_avg / document_count\n",
    "# redundancy_avg = redundancy_avg / document_count\n",
    "#\n",
    "# data.append([0.99, accuracy_avg, redundancy_avg])\n",
    "#\n",
    "# print(pandas.DataFrame(data, None, headers))"
   ],
   "metadata": {
    "collapsed": false
   }
  },
  {
   "cell_type": "markdown",
   "source": [
    "<h5> General </h5>\n",
    "<pre>\n",
    "     lambda  accuracy  redundancy\n",
    "0    0.01  0.562047    3.373847\n",
    "1    0.50  0.452772    3.296634\n",
    "2    0.99  0.362888    3.218444\n",
    "</pre>\n",
    "\n",
    "<h5> Business </h5>\n",
    "<pre>\n",
    "     lambda  accuracy  redundancy\n",
    "0    0.01  0.553130    3.395823\n",
    "1    0.50  0.425835    3.318441\n",
    "2    0.99  0.334509    3.256647\n",
    "</pre>\n",
    "\n",
    "<h5> Politics </h5>\n",
    "<pre>\n",
    "     lambda  accuracy  redundancy\n",
    "0    0.01  0.556492    3.404166\n",
    "1    0.50  0.463163    3.322589\n",
    "2    0.99  0.386060    3.226669\n",
    "</pre>\n",
    "\n",
    "\n",
    "<h5> Entertainment </h5>\n",
    "<pre>\n",
    "     lambda  accuracy  redundancy\n",
    "0    0.01  0.535047    3.385929\n",
    "1    0.50  0.430906    3.315085\n",
    "2    0.99  0.343709    3.235589\n",
    "</pre>\n",
    "\n",
    "<h5> Sport </h5>\n",
    "<pre>\n",
    "     lambda  accuracy  redundancy\n",
    "0    0.01  0.556325    3.305894\n",
    "1    0.50  0.479434    3.254696\n",
    "2    0.99  0.385884    3.177505\n",
    "</pre>\n",
    "\n",
    "<h5> Tech </h5>\n",
    "<pre>\n",
    "     lambda  accuracy  redundancy\n",
    "0    0.01  0.581861    3.387714\n",
    "1    0.50  0.470324    3.298496\n",
    "2    0.99  0.378990    3.201768\n",
    "</pre>"
   ],
   "metadata": {
    "collapsed": false
   }
  },
  {
   "cell_type": "markdown",
   "source": [
    "**(d)** Impact of p and l on precision and recall"
   ],
   "metadata": {
    "collapsed": false
   }
  },
  {
   "cell_type": "code",
   "execution_count": 27,
   "outputs": [],
   "source": [
    "# #question 4\n",
    "# from operator import attrgetter\n",
    "#\n",
    "# from src.mainFunctions.indexing import indexing\n",
    "# from src.helper.documentHelper import read_files\n",
    "# from src.mainFunctions.ranking import ranking\n",
    "#\n",
    "# from src.mainFunctions.evaluation import calculate_true_pos\n",
    "# from src.mainFunctions.evaluation import get_MAP_avg_by_cat_and_standard_deviation\n",
    "# from src.mainFunctions.evaluation import draw_MAP_chart\n",
    "# from src.mainFunctions.evaluation import calculate_precision_recall_tables_and_MAP_param\n",
    "# from src.mainFunctions.evaluation import draw_precision_recall_curve\n",
    "# from src.mainFunctions.evaluation import calculate_precision_recall\n",
    "# from src.mainFunctions.evaluation import calculate_fbeta_measure\n",
    "#\n",
    "# from src.helper.helper import write_to_csv\n",
    "#\n",
    "# def calculate_avg_precision_recall_for_category(category_docs, p, l):\n",
    "#     precision_table = []\n",
    "#     recall_table = []\n",
    "#     for document in category_docs:\n",
    "#         document.summary = ranking(document, p, l, order_ranked, corpus_idfs,\n",
    "#                                    {\"rank_option\": \"tf-idf\", \"mmr\": False})\n",
    "#         true_pos = calculate_true_pos(document)\n",
    "#         precision_recall_tuple = calculate_precision_recall(document.referenceSummary, document.summary, true_pos)\n",
    "#         precision_table.append(precision_recall_tuple[0])\n",
    "#         recall_table.append(precision_recall_tuple[1])\n",
    "#\n",
    "#     precision_avg = sum(precision_table) / len(recall_table)\n",
    "#     recall_avg = sum(recall_table) / len(recall_table)\n",
    "#     return precision_avg, recall_avg\n",
    "#\n",
    "#\n",
    "# order_ranked = True\n",
    "# text_processing = True\n",
    "# documents = read_files(text_processing)\n",
    "# index = indexing(list(map(attrgetter('text_terms'), documents)))\n",
    "# corpus_idfs: {str: float} = {}\n",
    "# for v in index:\n",
    "#     corpus_idfs[v] = index[v].inverted_document_frequency\n",
    "#\n",
    "# row1 = [6, 800]\n",
    "# row2 = [6, 1010]\n",
    "# row3 = [6, 1200]\n",
    "# row4 = [8, 800]\n",
    "# row5 = [8, 1010]\n",
    "# row6 = [8, 1200]\n",
    "# row7 = [10, 800]\n",
    "# row8 = [10, 1010]\n",
    "# row9 = [10, 1200]\n",
    "#\n",
    "#\n",
    "# all_documents_6_800 = calculate_avg_precision_recall_for_category(documents, 6, 800)\n",
    "# precision_avg_6_800 = all_documents_6_800[0]\n",
    "# recall_avg_6_800 = all_documents_6_800[1]\n",
    "# row1.append(precision_avg_6_800)\n",
    "# row1.append(recall_avg_6_800)\n",
    "#\n",
    "# all_documents_6_1010 = calculate_avg_precision_recall_for_category(documents, 6, 1010)\n",
    "# precision_avg_6_1010 = all_documents_6_1010[0]\n",
    "# recall_avg_6_1010 = all_documents_6_1010[1]\n",
    "# row2.append(precision_avg_6_1010)\n",
    "# row2.append(recall_avg_6_1010)\n",
    "#\n",
    "# all_documents_6_1200 = calculate_avg_precision_recall_for_category(documents, 6, 1200)\n",
    "# precision_avg_6_1200 = all_documents_6_1200[0]\n",
    "# recall_avg_6_1200 = all_documents_6_1200[1]\n",
    "# row3.append(precision_avg_6_1200)\n",
    "# row3.append(recall_avg_6_1200)\n",
    "#\n",
    "# all_documents_8_800 = calculate_avg_precision_recall_for_category(documents, 8, 800)\n",
    "# precision_avg_8_800 = all_documents_8_800[0]\n",
    "# recall_avg_8_800 = all_documents_8_800[1]\n",
    "# row4.append(precision_avg_8_800)\n",
    "# row4.append(recall_avg_8_800)\n",
    "#\n",
    "# all_documents_8_1010 = calculate_avg_precision_recall_for_category(documents, 8, 1010)\n",
    "# precision_avg_8_1010 = all_documents_8_1010[0]\n",
    "# recall_avg_8_1010 = all_documents_8_1010[1]\n",
    "# row5.append(precision_avg_8_1010)\n",
    "# row5.append(recall_avg_8_1010)\n",
    "#\n",
    "# all_documents_8_1200 = calculate_avg_precision_recall_for_category(documents, 8, 1200)\n",
    "# precision_avg_8_1200 = all_documents_8_1200[0]\n",
    "# recall_avg_8_1200 = all_documents_8_1200[1]\n",
    "# row6.append(precision_avg_8_1200)\n",
    "# row6.append(recall_avg_8_1200)\n",
    "#\n",
    "# all_documents_10_800 = calculate_avg_precision_recall_for_category(documents, 10, 800)\n",
    "# precision_avg_10_800 = all_documents_10_800[0]\n",
    "# recall_avg_10_800 = all_documents_10_800[1]\n",
    "# row7.append(precision_avg_10_800)\n",
    "# row7.append(recall_avg_10_800)\n",
    "#\n",
    "# all_documents_10_1010 = calculate_avg_precision_recall_for_category(documents, 10, 1010)\n",
    "# precision_avg_10_1010 = all_documents_10_1010[0]\n",
    "# recall_avg_10_1010 = all_documents_10_1010[1]\n",
    "# row8.append(precision_avg_10_1010)\n",
    "# row8.append(recall_avg_10_1010)\n",
    "#\n",
    "# all_documents_10_1200 = calculate_avg_precision_recall_for_category(documents, 10, 1200)\n",
    "# precision_avg_10_1200 = all_documents_10_1200[0]\n",
    "# recall_avg_10_1200 = all_documents_10_1200[1]\n",
    "# row9.append(precision_avg_10_1200)\n",
    "# row9.append(recall_avg_10_1200)\n",
    "#\n",
    "# business_docs = list(filter(lambda d: d.category == \"business\", documents))\n",
    "#\n",
    "# business_6_800 = calculate_avg_precision_recall_for_category(business_docs, 6, 800)\n",
    "# business_precision_avg_6_800 = business_6_800[0]\n",
    "# business_recall_avg_6_800 = business_6_800[1]\n",
    "# row1.append(business_precision_avg_6_800)\n",
    "# row1.append(business_precision_avg_6_800)\n",
    "#\n",
    "# business_6_1010 = calculate_avg_precision_recall_for_category(business_docs, 6, 1010)\n",
    "# business_precision_avg_6_1010 = business_6_1010[0]\n",
    "# business_recall_avg_6_1010 = business_6_1010[1]\n",
    "# row2.append(business_precision_avg_6_1010)\n",
    "# row2.append(business_recall_avg_6_1010)\n",
    "#\n",
    "# business_6_1200 = calculate_avg_precision_recall_for_category(business_docs, 6, 1200)\n",
    "# business_precision_avg_6_1200 = business_6_1200[0]\n",
    "# business_recall_avg_6_1200 = business_6_1200[1]\n",
    "# row3.append(business_precision_avg_6_1200)\n",
    "# row3.append(business_recall_avg_6_1200)\n",
    "#\n",
    "# business_8_800 = calculate_avg_precision_recall_for_category(business_docs, 8, 800)\n",
    "# business_precision_avg_8_800 = business_8_800[0]\n",
    "# business_recall_avg_8_800 = business_8_800[1]\n",
    "# row4.append(business_precision_avg_8_800)\n",
    "# row4.append(business_recall_avg_8_800)\n",
    "#\n",
    "# business_8_1010 = calculate_avg_precision_recall_for_category(business_docs, 8, 1010)\n",
    "# business_precision_avg_8_1010 = business_8_1010[0]\n",
    "# business_recall_avg_8_1010 = business_8_1010[1]\n",
    "# row5.append(business_precision_avg_8_1010)\n",
    "# row5.append(business_recall_avg_8_1010)\n",
    "#\n",
    "# business_8_1200 = calculate_avg_precision_recall_for_category(business_docs, 8, 1200)\n",
    "# business_precision_avg_8_1200 = business_8_1200[0]\n",
    "# business_recall_avg_8_1200 = business_8_1200[1]\n",
    "# row6.append(business_precision_avg_8_1200)\n",
    "# row6.append(business_recall_avg_8_1200)\n",
    "#\n",
    "# business_10_800 = calculate_avg_precision_recall_for_category(business_docs, 10, 800)\n",
    "# business_precision_avg_10_800 = business_10_800[0]\n",
    "# business_recall_avg_10_800 = business_10_800[1]\n",
    "# row7.append(business_precision_avg_10_800)\n",
    "# row7.append(business_recall_avg_10_800)\n",
    "#\n",
    "# business_10_1010 = calculate_avg_precision_recall_for_category(business_docs, 10, 1010)\n",
    "# business_precision_avg_10_1010 = business_10_1010[0]\n",
    "# business_recall_avg_10_1010 = business_10_1010[1]\n",
    "# row8.append(business_precision_avg_10_1010)\n",
    "# row8.append(business_recall_avg_10_1010)\n",
    "#\n",
    "# business_10_1200 = calculate_avg_precision_recall_for_category(business_docs, 10, 1200)\n",
    "# business_precision_avg_10_1200 = business_10_1200[0]\n",
    "# business_recall_avg_10_1200 = business_10_1200[1]\n",
    "# row9.append(business_precision_avg_10_1200)\n",
    "# row9.append(business_recall_avg_10_1200)\n",
    "#\n",
    "# entertainment_docs = list(filter(lambda d: d.category == \"entertainment\", documents))\n",
    "#\n",
    "# entertainment_6_800 = calculate_avg_precision_recall_for_category(entertainment_docs, 6, 800)\n",
    "# entertainment_precision_avg_6_800 = entertainment_6_800[0]\n",
    "# entertainment_recall_avg_6_800 = entertainment_6_800[1]\n",
    "# row1.append(entertainment_precision_avg_6_800)\n",
    "# row1.append(entertainment_precision_avg_6_800)\n",
    "#\n",
    "# entertainment_6_1010 = calculate_avg_precision_recall_for_category(entertainment_docs, 6, 1010)\n",
    "# entertainment_precision_avg_6_1010 = entertainment_6_1010[0]\n",
    "# entertainment_recall_avg_6_1010 = entertainment_6_1010[1]\n",
    "# row2.append(entertainment_precision_avg_6_1010)\n",
    "# row2.append(entertainment_recall_avg_6_1010)\n",
    "#\n",
    "# entertainment_6_1200 = calculate_avg_precision_recall_for_category(entertainment_docs, 6, 1200)\n",
    "# entertainment_precision_avg_6_1200 = entertainment_6_1200[0]\n",
    "# entertainment_recall_avg_6_1200 = entertainment_6_1200[1]\n",
    "# row3.append(entertainment_precision_avg_6_1200)\n",
    "# row3.append(entertainment_recall_avg_6_1200)\n",
    "#\n",
    "# entertainment_8_800 = calculate_avg_precision_recall_for_category(entertainment_docs, 8, 800)\n",
    "# entertainment_precision_avg_8_800 = entertainment_8_800[0]\n",
    "# entertainment_recall_avg_8_800 = entertainment_8_800[1]\n",
    "# row4.append(entertainment_precision_avg_8_800)\n",
    "# row4.append(entertainment_recall_avg_8_800)\n",
    "#\n",
    "# entertainment_8_1010 = calculate_avg_precision_recall_for_category(entertainment_docs, 8, 1010)\n",
    "# entertainment_precision_avg_8_1010 = entertainment_8_1010[0]\n",
    "# entertainment_recall_avg_8_1010 = entertainment_8_1010[1]\n",
    "# row5.append(entertainment_precision_avg_8_1010)\n",
    "# row5.append(entertainment_recall_avg_8_1010)\n",
    "#\n",
    "# entertainment_8_1200 = calculate_avg_precision_recall_for_category(entertainment_docs, 8, 1200)\n",
    "# entertainment_precision_avg_8_1200 = entertainment_8_1200[0]\n",
    "# entertainment_recall_avg_8_1200 = entertainment_8_1200[1]\n",
    "# row6.append(entertainment_precision_avg_8_1200)\n",
    "# row6.append(entertainment_recall_avg_8_1200)\n",
    "#\n",
    "# entertainment_10_800 = calculate_avg_precision_recall_for_category(entertainment_docs, 10, 800)\n",
    "# entertainment_precision_avg_10_800 = entertainment_10_800[0]\n",
    "# entertainment_recall_avg_10_800 = entertainment_10_800[1]\n",
    "# row7.append(entertainment_precision_avg_10_800)\n",
    "# row7.append(entertainment_recall_avg_10_800)\n",
    "#\n",
    "# entertainment_10_1010 = calculate_avg_precision_recall_for_category(entertainment_docs, 10, 1010)\n",
    "# entertainment_precision_avg_10_1010 = entertainment_10_1010[0]\n",
    "# entertainment_recall_avg_10_1010 = entertainment_10_1010[1]\n",
    "# row8.append(entertainment_precision_avg_10_1010)\n",
    "# row8.append(entertainment_recall_avg_10_1010)\n",
    "#\n",
    "# entertainment_10_1200 = calculate_avg_precision_recall_for_category(entertainment_docs, 10, 1200)\n",
    "# entertainment_precision_avg_10_1200 = entertainment_10_1200[0]\n",
    "# entertainment_recall_avg_10_1200 = entertainment_10_1200[1]\n",
    "# row9.append(entertainment_precision_avg_10_1200)\n",
    "# row9.append(entertainment_recall_avg_10_1200)\n",
    "#\n",
    "# politics_docs = list(filter(lambda d: d.category == \"politics\", documents))\n",
    "# politics_6_800 = calculate_avg_precision_recall_for_category(politics_docs, 6, 800)\n",
    "# politics_precision_avg_6_800 = politics_6_800[0]\n",
    "# politics_recall_avg_6_800 = politics_6_800[1]\n",
    "# row1.append(politics_precision_avg_6_800)\n",
    "# row1.append(politics_precision_avg_6_800)\n",
    "#\n",
    "# politics_6_1010 = calculate_avg_precision_recall_for_category(politics_docs, 6, 1010)\n",
    "# politics_precision_avg_6_1010 = politics_6_1010[0]\n",
    "# politics_recall_avg_6_1010 = politics_6_1010[1]\n",
    "# row2.append(politics_precision_avg_6_1010)\n",
    "# row2.append(politics_recall_avg_6_1010)\n",
    "#\n",
    "# politics_6_1200 = calculate_avg_precision_recall_for_category(politics_docs, 6, 1200)\n",
    "# politics_precision_avg_6_1200 = politics_6_1200[0]\n",
    "# politics_recall_avg_6_1200 = politics_6_1200[1]\n",
    "# row3.append(politics_precision_avg_6_1200)\n",
    "# row3.append(politics_recall_avg_6_1200)\n",
    "#\n",
    "# politics_8_800 = calculate_avg_precision_recall_for_category(politics_docs, 8, 800)\n",
    "# politics_precision_avg_8_800 = politics_8_800[0]\n",
    "# politics_recall_avg_8_800 = politics_8_800[1]\n",
    "# row4.append(politics_precision_avg_8_800)\n",
    "# row4.append(politics_recall_avg_8_800)\n",
    "#\n",
    "# politics_8_1010 = calculate_avg_precision_recall_for_category(politics_docs, 8, 1010)\n",
    "# politics_precision_avg_8_1010 = politics_8_1010[0]\n",
    "# politics_recall_avg_8_1010 = politics_8_1010[1]\n",
    "# row5.append(politics_precision_avg_8_1010)\n",
    "# row5.append(politics_recall_avg_8_1010)\n",
    "#\n",
    "# politics_8_1200 = calculate_avg_precision_recall_for_category(politics_docs, 8, 1200)\n",
    "# politics_precision_avg_8_1200 = politics_8_1200[0]\n",
    "# politics_recall_avg_8_1200 = politics_8_1200[1]\n",
    "# row6.append(politics_precision_avg_8_1200)\n",
    "# row6.append(politics_recall_avg_8_1200)\n",
    "#\n",
    "# politics_10_800 = calculate_avg_precision_recall_for_category(politics_docs, 10, 800)\n",
    "# politics_precision_avg_10_800 = politics_10_800[0]\n",
    "# politics_recall_avg_10_800 = politics_10_800[1]\n",
    "# row7.append(politics_precision_avg_10_800)\n",
    "# row7.append(politics_recall_avg_10_800)\n",
    "#\n",
    "# politics_10_1010 = calculate_avg_precision_recall_for_category(politics_docs, 10, 1010)\n",
    "# politics_precision_avg_10_1010 = politics_10_1010[0]\n",
    "# politics_recall_avg_10_1010 = politics_10_1010[1]\n",
    "# row8.append(politics_precision_avg_10_1010)\n",
    "# row8.append(politics_recall_avg_10_1010)\n",
    "#\n",
    "# politics_10_1200 = calculate_avg_precision_recall_for_category(politics_docs, 10, 1200)\n",
    "# politics_precision_avg_10_1200 = politics_10_1200[0]\n",
    "# politics_recall_avg_10_1200 = politics_10_1200[1]\n",
    "# row9.append(politics_precision_avg_10_1200)\n",
    "# row9.append(politics_recall_avg_10_1200)\n",
    "#\n",
    "# sport_docs = list(filter(lambda d: d.category == \"sport\", documents))\n",
    "# sport_6_800 = calculate_avg_precision_recall_for_category(sport_docs, 6, 800)\n",
    "# sport_precision_avg_6_800 = sport_6_800[0]\n",
    "# sport_recall_avg_6_800 = sport_6_800[1]\n",
    "# row1.append(sport_precision_avg_6_800)\n",
    "# row1.append(sport_precision_avg_6_800)\n",
    "#\n",
    "# sport_6_1010 = calculate_avg_precision_recall_for_category(sport_docs, 6, 1010)\n",
    "# sport_precision_avg_6_1010 = sport_6_1010[0]\n",
    "# sport_recall_avg_6_1010 = sport_6_1010[1]\n",
    "# row2.append(sport_precision_avg_6_1010)\n",
    "# row2.append(sport_recall_avg_6_1010)\n",
    "#\n",
    "# sport_6_1200 = calculate_avg_precision_recall_for_category(sport_docs, 6, 1200)\n",
    "# sport_precision_avg_6_1200 = sport_6_1200[0]\n",
    "# sport_recall_avg_6_1200 = sport_6_1200[1]\n",
    "# row3.append(sport_precision_avg_6_1200)\n",
    "# row3.append(sport_recall_avg_6_1200)\n",
    "#\n",
    "# sport_8_800 = calculate_avg_precision_recall_for_category(sport_docs, 8, 800)\n",
    "# sport_precision_avg_8_800 = sport_8_800[0]\n",
    "# sport_recall_avg_8_800 = sport_8_800[1]\n",
    "# row4.append(sport_precision_avg_8_800)\n",
    "# row4.append(sport_recall_avg_8_800)\n",
    "#\n",
    "# sport_8_1010 = calculate_avg_precision_recall_for_category(sport_docs, 8, 1010)\n",
    "# sport_precision_avg_8_1010 = sport_8_1010[0]\n",
    "# sport_recall_avg_8_1010 = sport_8_1010[1]\n",
    "# row5.append(sport_precision_avg_8_1010)\n",
    "# row5.append(sport_recall_avg_8_1010)\n",
    "#\n",
    "# sport_8_1200 = calculate_avg_precision_recall_for_category(sport_docs, 8, 1200)\n",
    "# sport_precision_avg_8_1200 = sport_8_1200[0]\n",
    "# sport_recall_avg_8_1200 = sport_8_1200[1]\n",
    "# row6.append(sport_precision_avg_8_1200)\n",
    "# row6.append(sport_recall_avg_8_1200)\n",
    "#\n",
    "# sport_10_800 = calculate_avg_precision_recall_for_category(sport_docs, 10, 800)\n",
    "# sport_precision_avg_10_800 = sport_10_800[0]\n",
    "# sport_recall_avg_10_800 = sport_10_800[1]\n",
    "# row7.append(sport_precision_avg_10_800)\n",
    "# row7.append(sport_recall_avg_10_800)\n",
    "#\n",
    "# sport_10_1010 = calculate_avg_precision_recall_for_category(sport_docs, 10, 1010)\n",
    "# sport_precision_avg_10_1010 = sport_10_1010[0]\n",
    "# sport_recall_avg_10_1010 = sport_10_1010[1]\n",
    "# row8.append(sport_precision_avg_10_1010)\n",
    "# row8.append(sport_recall_avg_10_1010)\n",
    "#\n",
    "# sport_10_1200 = calculate_avg_precision_recall_for_category(sport_docs, 10, 1200)\n",
    "# sport_precision_avg_10_1200 = sport_10_1200[0]\n",
    "# sport_recall_avg_10_1200 = sport_10_1200[1]\n",
    "# row9.append(sport_precision_avg_10_1200)\n",
    "# row9.append(sport_recall_avg_10_1200)\n",
    "#\n",
    "#\n",
    "# tech_docs = list(filter(lambda d: d.category == \"tech\", documents))\n",
    "# tech_6_800 = calculate_avg_precision_recall_for_category(tech_docs, 6, 800)\n",
    "# tech_precision_avg_6_800 = tech_6_800[0]\n",
    "# tech_recall_avg_6_800 = tech_6_800[1]\n",
    "# row1.append(tech_precision_avg_6_800)\n",
    "# row1.append(tech_precision_avg_6_800)\n",
    "#\n",
    "# tech_6_1010 = calculate_avg_precision_recall_for_category(tech_docs, 6, 1010)\n",
    "# tech_precision_avg_6_1010 = tech_6_1010[0]\n",
    "# tech_recall_avg_6_1010 = tech_6_1010[1]\n",
    "# row2.append(tech_precision_avg_6_1010)\n",
    "# row2.append(tech_recall_avg_6_1010)\n",
    "#\n",
    "# tech_6_1200 = calculate_avg_precision_recall_for_category(tech_docs, 6, 1200)\n",
    "# tech_precision_avg_6_1200 = tech_6_1200[0]\n",
    "# tech_recall_avg_6_1200 = tech_6_1200[1]\n",
    "# row3.append(tech_precision_avg_6_1200)\n",
    "# row3.append(tech_recall_avg_6_1200)\n",
    "#\n",
    "# tech_8_800 = calculate_avg_precision_recall_for_category(tech_docs, 8, 800)\n",
    "# tech_precision_avg_8_800 = tech_8_800[0]\n",
    "# tech_recall_avg_8_800 = tech_8_800[1]\n",
    "# row4.append(tech_precision_avg_8_800)\n",
    "# row4.append(tech_recall_avg_8_800)\n",
    "#\n",
    "# tech_8_1010 = calculate_avg_precision_recall_for_category(tech_docs, 8, 1010)\n",
    "# tech_precision_avg_8_1010 = tech_8_1010[0]\n",
    "# tech_recall_avg_8_1010 = tech_8_1010[1]\n",
    "# row5.append(tech_precision_avg_8_1010)\n",
    "# row5.append(tech_recall_avg_8_1010)\n",
    "#\n",
    "# tech_8_1200 = calculate_avg_precision_recall_for_category(tech_docs, 8, 1200)\n",
    "# tech_precision_avg_8_1200 = tech_8_1200[0]\n",
    "# tech_recall_avg_8_1200 = tech_8_1200[1]\n",
    "# row6.append(tech_precision_avg_8_1200)\n",
    "# row6.append(tech_recall_avg_8_1200)\n",
    "#\n",
    "# tech_10_800 = calculate_avg_precision_recall_for_category(tech_docs, 10, 800)\n",
    "# tech_precision_avg_10_800 = tech_10_800[0]\n",
    "# tech_recall_avg_10_800 = tech_10_800[1]\n",
    "# row7.append(tech_precision_avg_10_800)\n",
    "# row7.append(tech_recall_avg_10_800)\n",
    "#\n",
    "# tech_10_1010 = calculate_avg_precision_recall_for_category(tech_docs, 10, 1010)\n",
    "# tech_precision_avg_10_1010 = tech_10_1010[0]\n",
    "# tech_recall_avg_10_1010 = tech_10_1010[1]\n",
    "# row8.append(tech_precision_avg_10_1010)\n",
    "# row8.append(tech_recall_avg_10_1010)\n",
    "#\n",
    "# tech_10_1200 = calculate_avg_precision_recall_for_category(tech_docs, 10, 1200)\n",
    "# tech_precision_avg_10_1200 = tech_10_1200[0]\n",
    "# tech_recall_avg_10_1200 = tech_10_1200[1]\n",
    "# row9.append(tech_precision_avg_10_1200)\n",
    "# row9.append(tech_recall_avg_10_1200)\n",
    "#\n",
    "#\n",
    "# header = [\"p\", \"l\", \"all_docs_precision\", \"all_docs_recall\", \"business_precision\", \"business_recall\",\"entertainment_precision\", \"entertainment_recall\",\"politics_precision\", \"politics_recall\",\"sport_precision\", \"sport_recall\",\"tech_precision\", \"tech_recall\"]\n",
    "# data = [row1, row2, row3, row4, row5, row6, row7, row8, row9]\n",
    "# write_to_csv('precision_recall.csv', header, data)"
   ],
   "metadata": {
    "collapsed": false
   }
  },
  {
   "cell_type": "markdown",
   "source": [
    "**(e)** Impact of noun phrases and bigrams on retrieval"
   ],
   "metadata": {
    "collapsed": false
   }
  },
  {
   "cell_type": "code",
   "execution_count": 28,
   "outputs": [
    {
     "name": "stdout",
     "output_type": "stream",
     "text": [
      "### No Processing ###\n",
      "Average Precision:  0.6036730872124128\n",
      "Average Recall:  0.7004742943225133\n",
      "Average F-Beta:  0.6050408793433583\n",
      "Average MAP:  0.8139973680858108\n",
      "##########\n",
      "### Processing ###\n",
      "Average Precision:  0.574852862493312\n",
      "Average Recall:  0.668924528591727\n",
      "Average F-Beta:  0.5762088329662882\n",
      "Average MAP:  0.7668698208871588\n",
      "##########\n"
     ]
    }
   ],
   "source": [
    "order_ranked = True\n",
    "max_sent = 8\n",
    "max_chars = 1010\n",
    "\n",
    "text_processing = False\n",
    "documents_no_processing = read_files(text_processing)\n",
    "corpus_index_no_processing = indexing(list(map(attrgetter('text_terms'), documents_no_processing)))\n",
    "corpus_idfs_no_processing: {str: float} = {}\n",
    "for v in corpus_index_no_processing:\n",
    "    corpus_idfs_no_processing[v] = corpus_index_no_processing[v].inverted_document_frequency\n",
    "\n",
    "\n",
    "for document in documents_no_processing:\n",
    "    document.summary = ranking(document, max_sent, max_chars, order_ranked, corpus_idfs_no_processing, {\"rank_option\": \"bm25\", \"mmr\": False})\n",
    "\n",
    "precision_avg, recall_avg, fbeta_avg, MAP_avg = calculate_statistics(documents_no_processing)\n",
    "print(\"### No Processing ###\")\n",
    "print(\"Average Precision: \", precision_avg)\n",
    "print(\"Average Recall: \", recall_avg)\n",
    "print(\"Average F-Beta: \", fbeta_avg)\n",
    "print(\"Average MAP: \", MAP_avg)\n",
    "print(\"##########\")\n",
    "\n",
    "\n",
    "\n",
    "\n",
    "\n",
    "text_processing = True\n",
    "documents_processing = read_files(text_processing)\n",
    "corpus_index_processing = indexing(list(map(attrgetter('text_terms'), documents_processing)))\n",
    "corpus_idfs_processing: {str: float} = {}\n",
    "for v in corpus_index_processing:\n",
    "    corpus_idfs_processing[v] = corpus_index_processing[v].inverted_document_frequency\n",
    "\n",
    "\n",
    "\n",
    "for document in documents_processing:\n",
    "    document.summary = ranking(document, max_sent, max_chars, order_ranked, corpus_idfs_processing, {\"rank_option\": \"bm25\", \"mmr\": False})\n",
    "\n",
    "precision_avg, recall_avg, fbeta_avg, MAP_avg = calculate_statistics(documents_processing)\n",
    "print(\"### Processing ###\")\n",
    "print(\"Average Precision: \", precision_avg)\n",
    "print(\"Average Recall: \", recall_avg)\n",
    "print(\"Average F-Beta: \", fbeta_avg)\n",
    "print(\"Average MAP: \", MAP_avg)\n",
    "print(\"##########\")"
   ],
   "metadata": {
    "collapsed": false
   }
  },
  {
   "cell_type": "markdown",
   "source": [
    "**(f)** Influence of IR model and RRF on retrieval"
   ],
   "metadata": {
    "collapsed": false
   }
  },
  {
   "cell_type": "code",
   "execution_count": 29,
   "outputs": [],
   "source": [
    "#code, statistics and/or charts here"
   ],
   "metadata": {
    "collapsed": false
   }
  },
  {
   "cell_type": "markdown",
   "source": [
    "**(g)** Impact of lengthier sentences"
   ],
   "metadata": {
    "collapsed": false
   }
  },
  {
   "cell_type": "code",
   "execution_count": 30,
   "outputs": [],
   "source": [
    "#code, statistics and/or charts here"
   ],
   "metadata": {
    "collapsed": false
   }
  },
  {
   "cell_type": "markdown",
   "source": [
    "<H3>Part III: Other caluclations to support the project</H3>"
   ],
   "metadata": {
    "collapsed": false
   }
  },
  {
   "cell_type": "code",
   "execution_count": 31,
   "outputs": [
    {
     "name": "stdout",
     "output_type": "stream",
     "text": [
      "avg sentences 7.821123595505618\n",
      "avg characters 1007.7069662921348\n"
     ]
    }
   ],
   "source": [
    "# get average sentences and characters of the reference summaries\n",
    "from helper.documentHelper import read_files\n",
    "totalSentences = 0\n",
    "totalCharacters = 0\n",
    "totalDocuments = 0\n",
    "documents = read_files(False)\n",
    "\n",
    "for document in documents:\n",
    "    sentences = document.referenceSummary\n",
    "    totalSentences += len(sentences)\n",
    "    totalCharacters += len(\" \".join(sentences))\n",
    "    totalDocuments +=1\n",
    "\n",
    "print(\"avg sentences\", totalSentences / totalDocuments)\n",
    "print(\"avg characters\", totalCharacters /totalDocuments)"
   ],
   "metadata": {
    "collapsed": false
   }
  },
  {
   "cell_type": "markdown",
   "metadata": {},
   "source": [
    "<H3>END</H3>"
   ]
  }
 ],
 "metadata": {
  "kernelspec": {
   "display_name": "Python 3 (ipykernel)",
   "language": "python",
   "name": "python3"
  },
  "language_info": {
   "codemirror_mode": {
    "name": "ipython",
    "version": 3
   },
   "file_extension": ".py",
   "mimetype": "text/x-python",
   "name": "python",
   "nbconvert_exporter": "python",
   "pygments_lexer": "ipython3",
   "version": "3.10.7"
  }
 },
 "nbformat": 4,
 "nbformat_minor": 4
}
