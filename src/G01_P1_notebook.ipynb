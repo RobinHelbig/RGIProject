{
 "cells": [
  {
   "cell_type": "markdown",
   "metadata": {},
   "source": [
    "<H3>PRI 2022: first project delivery</H3>"
   ]
  },
  {
   "cell_type": "markdown",
   "metadata": {},
   "source": [
    "**GROUP X**\n",
    "- name, number\n",
    "- name, number\n",
    "- name, number"
   ]
  },
  {
   "cell_type": "markdown",
   "metadata": {},
   "source": [
    "<H3>Part I: demo of facilities</H3>"
   ]
  },
  {
   "cell_type": "code",
   "execution_count": 14,
   "outputs": [],
   "source": [
    "from IPython.core.display import HTML\n",
    "\n",
    "#imports\n",
    "\n",
    "from mainFunctions.ranking import ranking\n",
    "from operator import attrgetter\n",
    "from helper.documentHelper import read_files\n",
    "from mainFunctions.indexing import indexing\n",
    "from src.helper.mockDataVisualize import transfer_function_output_ranking\n",
    "from src.mainFunctions.evaluation import calculate_true_pos, calculate_precision_recall, calculate_fbeta_measure, \\\n",
    "    calculate_precision_recall_tables_and_MAP_param, draw_precision_recall_curve, \\\n",
    "    get_MAP_avg_by_cat_and_standard_deviation, draw_MAP_chart, calculate_statistics\n",
    "from src.mainFunctions.visualize import visualize"
   ],
   "metadata": {
    "collapsed": false
   }
  },
  {
   "cell_type": "markdown",
   "metadata": {},
   "source": [
    "**A) Indexing facilities**"
   ]
  },
  {
   "cell_type": "markdown",
   "metadata": {},
   "source": [
    "*A.1 Preprocessing options: statistics*"
   ]
  },
  {
   "cell_type": "code",
   "execution_count": 15,
   "metadata": {},
   "outputs": [],
   "source": [
    "#rare, most common terms\n"
   ]
  },
  {
   "cell_type": "markdown",
   "metadata": {},
   "source": [
    "*A.2 Indexing statistics*"
   ]
  },
  {
   "cell_type": "code",
   "execution_count": 16,
   "metadata": {},
   "outputs": [],
   "source": [
    "#code, statistics and/or charts here\n",
    "#time, memory"
   ]
  },
  {
   "cell_type": "markdown",
   "metadata": {},
   "source": [
    "**B) Ranking facilities**"
   ]
  },
  {
   "cell_type": "code",
   "execution_count": 17,
   "outputs": [
    {
     "name": "stdout",
     "output_type": "stream",
     "text": [
      "Warning: parsing empty text\n",
      "['The BCC found confidence increased in the quarter across both the manufacturing and service sectors although overall it failed to reach the levels at the start of 2004.', '\"While consumer spending is set to decelerate significantly over the next 12-18 months, it is unlikely that investment and exports will rise sufficiently strongly to pick up the slack.\"', \"The group's quarterly survey of companies found exports had picked up in the last three months of 2004 to their best levels in eight years.\", '\"The pressure on costs and margins, the relentless increase in regulations, and the threat of higher taxes remain serious problems,\" BCC director general David Frost said.', 'The UK manufacturing sector will continue to face \"serious challenges\" over the next two years, the British Chamber of Commerce (BCC) has said.', 'The outlook for the service sector was \"uncertain\" despite an increase in exports and orders over the quarter, the BCC noted.', 'However, the BCC found the whole UK economy still faced \"major risks\" and warned that growth is set to slow.', 'It recently forecast economic growth will slow from more than 3% in 2004 to a little below 2.5% in both 2005 and 2006.']\n",
      "\n",
      "\n",
      "['The BCC found confidence increased in the quarter across both the manufacturing and service sectors although overall it failed to reach the levels at the start of 2004.', '\"The pressure on costs and margins, the relentless increase in regulations, and the threat of higher taxes remain serious problems,\" BCC director general David Frost said.', '\"While consumer spending is set to decelerate significantly over the next 12-18 months, it is unlikely that investment and exports will rise sufficiently strongly to pick up the slack.\"', '\"Despite some positive news for the export sector, there are worrying signs for manufacturing,\" the BCC said.', 'The outlook for the service sector was \"uncertain\" despite an increase in exports and orders over the quarter, the BCC noted.', 'However, the BCC found the whole UK economy still faced \"major risks\" and warned that growth is set to slow.', 'The UK manufacturing sector will continue to face \"serious challenges\" over the next two years, the British Chamber of Commerce (BCC) has said.', \"The group's quarterly survey of companies found exports had picked up in the last three months of 2004 to their best levels in eight years.\"]\n"
     ]
    }
   ],
   "source": [
    "# load files\n",
    "\n",
    "order_ranked = True\n",
    "text_processing = True\n",
    "max_sent = 8\n",
    "max_chars = 1010\n",
    "documents = read_files(text_processing, [\"business\"])\n",
    "\n",
    "corpus_index = indexing(list(map(attrgetter('text_terms'), documents)))\n",
    "corpus_idfs: {str: float} = {}\n",
    "\n",
    "for v in corpus_index:\n",
    "    corpus_idfs[v] = corpus_index[v].inverted_document_frequency\n",
    "\n",
    "document = documents[32]\n",
    "\n",
    "summary_tf = ranking(document, max_sent, max_chars, order_ranked, corpus_idfs, {\"rank_option\": \"tf\", \"mmr\": False})\n",
    "summary_tfidf = ranking(document, max_sent, max_chars, order_ranked, corpus_idfs, {\"rank_option\": \"tf-idf\", \"mmr\": False})\n",
    "summary_bm25 = ranking(document, max_sent, max_chars, order_ranked, corpus_idfs, {\"rank_option\": \"bm25\", \"mmr\": False})\n",
    "summary_rrf = ranking(document, max_sent, max_chars, order_ranked, corpus_idfs, {\"rank_option\": \"rrf\", \"mmr\": False})\n",
    "summary_mmr = ranking(document, max_sent, max_chars, order_ranked, corpus_idfs, {\"rank_option\": \"tf-idf\", \"mmr\": True})\n",
    "\n",
    "print(summary_tf)\n",
    "print(\"\\n\")\n",
    "print(summary_tfidf)"
   ],
   "metadata": {
    "collapsed": false
   }
  },
  {
   "cell_type": "markdown",
   "metadata": {},
   "source": [
    "*B.1 Summarization solution: results for a given document*"
   ]
  },
  {
   "cell_type": "code",
   "execution_count": 18,
   "metadata": {},
   "outputs": [
    {
     "name": "stdout",
     "output_type": "stream",
     "text": [
      "TF Ranking\n",
      "Precision:  0.5\n",
      "Recall:  0.5714285714285714\n",
      "F-beta:  0.5128205128205128\n",
      "MAP:  0.6178571428571429\n"
     ]
    },
    {
     "name": "stderr",
     "output_type": "stream",
     "text": [
      "/Users/robinhelbig/Dev/Semester 3/RGI/Project/src/mainFunctions/evaluation.py:112: UserWarning: color is redundantly defined by the 'color' keyword argument and the fmt string \"k-\" (-> color='k'). The keyword argument will take precedence.\n",
      "  ax.plot((r[i],\n",
      "/Users/robinhelbig/Dev/Semester 3/RGI/Project/src/mainFunctions/evaluation.py:114: UserWarning: color is redundantly defined by the 'color' keyword argument and the fmt string \"k-\" (-> color='k'). The keyword argument will take precedence.\n",
      "  ax.plot((r[i], r[i + 1]), (p[i + 1], p[i + 1]), 'k-', label='', color='red')\n",
      "/Users/robinhelbig/Dev/Semester 3/RGI/Project/src/mainFunctions/evaluation.py:116: UserWarning: color is redundantly defined by the 'color' keyword argument and the fmt string \"k--\" (-> color='k'). The keyword argument will take precedence.\n",
      "  ax.plot(r, dup_p, 'k--', color='blue')\n"
     ]
    },
    {
     "data": {
      "text/plain": "<Figure size 750x350 with 1 Axes>",
      "image/png": "[encoded data removed]"
     },
     "metadata": {},
     "output_type": "display_data"
    }
   ],
   "source": [
    "document.summary = summary_tf\n",
    "\n",
    "TP = calculate_true_pos(document)\n",
    "precision, recall = calculate_precision_recall(document.referenceSummary, document.summary, TP)\n",
    "fbeta = calculate_fbeta_measure(precision, recall)\n",
    "recall_table, precision_table, MAP = calculate_precision_recall_tables_and_MAP_param(document.summary, TP)\n",
    "precision_recall_tuple = (recall_table, precision_table)\n",
    "\n",
    "print(\"TF Ranking\")\n",
    "print(\"Precision: \", precision)\n",
    "print(\"Recall: \", recall)\n",
    "print(\"F-beta: \", fbeta)\n",
    "print(\"MAP: \", MAP)\n",
    "draw_precision_recall_curve(precision_recall_tuple)"
   ]
  },
  {
   "cell_type": "markdown",
   "metadata": {},
   "source": [
    "*B.2 Classic IR models: differences*"
   ]
  },
  {
   "cell_type": "code",
   "execution_count": 19,
   "metadata": {},
   "outputs": [
    {
     "name": "stdout",
     "output_type": "stream",
     "text": [
      "TF-IDF Ranking\n",
      "Precision:  0.625\n",
      "Recall:  0.7142857142857143\n",
      "F-beta:  0.6410256410256411\n",
      "MAP:  0.6961904761904762\n",
      "\n",
      "\n",
      "BM25 Ranking\n",
      "Precision:  0.625\n",
      "Recall:  0.7142857142857143\n",
      "F-beta:  0.6410256410256411\n",
      "MAP:  0.9666666666666666\n"
     ]
    }
   ],
   "source": [
    "document.summary = summary_tfidf\n",
    "\n",
    "TP = calculate_true_pos(document)\n",
    "precision, recall = calculate_precision_recall(document.referenceSummary, document.summary, TP)\n",
    "fbeta = calculate_fbeta_measure(precision, recall)\n",
    "_, _, MAP = calculate_precision_recall_tables_and_MAP_param(document.summary, TP)\n",
    "\n",
    "print(\"TF-IDF Ranking\")\n",
    "print(\"Precision: \", precision)\n",
    "print(\"Recall: \", recall)\n",
    "print(\"F-beta: \", fbeta)\n",
    "print(\"MAP: \", MAP)\n",
    "\n",
    "document.summary = summary_bm25\n",
    "\n",
    "TP = calculate_true_pos(document)\n",
    "precision, recall = calculate_precision_recall(document.referenceSummary, document.summary, TP)\n",
    "fbeta = calculate_fbeta_measure(precision, recall)\n",
    "_, _, MAP = calculate_precision_recall_tables_and_MAP_param(document.summary, TP)\n",
    "\n",
    "print(\"\\n\")\n",
    "print(\"BM25 Ranking\")\n",
    "print(\"Precision: \", precision)\n",
    "print(\"Recall: \", recall)\n",
    "print(\"F-beta: \", fbeta)\n",
    "print(\"MAP: \", MAP)"
   ]
  },
  {
   "cell_type": "markdown",
   "metadata": {},
   "source": [
    "*B.3 Reciprocal rank funsion*"
   ]
  },
  {
   "cell_type": "code",
   "execution_count": 20,
   "metadata": {},
   "outputs": [
    {
     "name": "stdout",
     "output_type": "stream",
     "text": [
      "RRF Ranking\n",
      "Precision:  0.625\n",
      "Recall:  0.7142857142857143\n",
      "F-beta:  0.6410256410256411\n",
      "MAP:  0.6783333333333333\n"
     ]
    }
   ],
   "source": [
    "document.summary = summary_rrf\n",
    "\n",
    "TP = calculate_true_pos(document)\n",
    "precision, recall = calculate_precision_recall(document.referenceSummary, document.summary, TP)\n",
    "fbeta = calculate_fbeta_measure(precision, recall)\n",
    "_, _, MAP = calculate_precision_recall_tables_and_MAP_param(document.summary, TP)\n",
    "\n",
    "print(\"RRF Ranking\")\n",
    "print(\"Precision: \", precision)\n",
    "print(\"Recall: \", recall)\n",
    "print(\"F-beta: \", fbeta)\n",
    "print(\"MAP: \", MAP)"
   ]
  },
  {
   "cell_type": "markdown",
   "metadata": {},
   "source": [
    "*B.4 Maximal Marginal Relevance*"
   ]
  },
  {
   "cell_type": "code",
   "execution_count": 21,
   "metadata": {},
   "outputs": [
    {
     "name": "stdout",
     "output_type": "stream",
     "text": [
      "MMR Ranking\n",
      "Precision:  0.125\n",
      "Recall:  0.14285714285714285\n",
      "F-beta:  0.1282051282051282\n",
      "MAP:  1.0\n"
     ]
    }
   ],
   "source": [
    "document.summary = summary_mmr\n",
    "\n",
    "TP = calculate_true_pos(document)\n",
    "precision, recall = calculate_precision_recall(document.referenceSummary, document.summary, TP)\n",
    "fbeta = calculate_fbeta_measure(precision, recall)\n",
    "_, _, MAP = calculate_precision_recall_tables_and_MAP_param(document.summary, TP)\n",
    "\n",
    "print(\"MMR Ranking\")\n",
    "print(\"Precision: \", precision)\n",
    "print(\"Recall: \", recall)\n",
    "print(\"F-beta: \", fbeta)\n",
    "print(\"MAP: \", MAP)"
   ]
  },
  {
   "cell_type": "markdown",
   "metadata": {},
   "source": [
    "**C) Sentence higlighting facilities**"
   ]
  },
  {
   "cell_type": "markdown",
   "source": [],
   "metadata": {
    "collapsed": false
   }
  },
  {
   "cell_type": "code",
   "execution_count": 22,
   "metadata": {},
   "outputs": [
    {
     "data": {
      "text/plain": "<IPython.core.display.HTML object>",
      "text/html": "<html>\n    <head>\n    <title>summaries/summary1</title>\n        </head> \n        <body>\n        <p><b>The UK manufacturing sector will continue to face \"serious challenges\" over the next two years, the British Chamber of Commerce (BCC) has said.</b><b>The group's quarterly survey of companies found exports had picked up in the last three months of 2004 to their best levels in eight years.</b>The rise came despite exchange rates being cited as a major concern.<b>However, the BCC found the whole UK economy still faced \"major risks\" and warned that growth is set to slow.</b><b>It recently forecast economic growth will slow from more than 3% in 2004 to a little below 2.5% in both 2005 and 2006.</b>Manufacturers' domestic sales growth fell back slightly in the quarter, the survey of 5,196 firms found.Employment in manufacturing also fell and job expectations were at their lowest level for a year.\"Despite some positive news for the export sector, there are worrying signs for manufacturing,\" the BCC said.\"These results reinforce our concern over the sector's persistent inability to sustain recovery.\"<b>The outlook for the service sector was \"uncertain\" despite an increase in exports and orders over the quarter, the BCC noted.</b><b>The BCC found confidence increased in the quarter across both the manufacturing and service sectors although overall it failed to reach the levels at the start of 2004.</b>The reduced threat of interest rate increases had contributed to improved confidence, it said.The Bank of England raised interest rates five times between November 2003 and August last year.But rates have been kept on hold since then amid signs of falling consumer confidence and a slowdown in output.<b>\"The pressure on costs and margins, the relentless increase in regulations, and the threat of higher taxes remain serious problems,\" BCC director general David Frost said.</b><b>\"While consumer spending is set to decelerate significantly over the next 12-18 months, it is unlikely that investment and exports will rise sufficiently strongly to pick up the slack.\"</b></p> \n    </body>\n    </html>"
     },
     "execution_count": 22,
     "metadata": {},
     "output_type": "execute_result"
    }
   ],
   "source": [
    "dict = transfer_function_output_ranking(document.text_sentences, summary_tf)\n",
    "doc_path = \"summaries/summary1\"\n",
    "visualize(doc_path, dict, 3)\n",
    "HTML(filename=doc_path + \".html\")"
   ]
  },
  {
   "cell_type": "code",
   "execution_count": 23,
   "outputs": [
    {
     "data": {
      "text/plain": "<IPython.core.display.HTML object>",
      "text/html": "<html>\n    <head>\n    <title>summaries/summary2</title>\n        </head> \n        <body>\n        <p><b>The UK manufacturing sector will continue to face \"serious challenges\" over the next two years, the British Chamber of Commerce (BCC) has said.</b><b>The group's quarterly survey of companies found exports had picked up in the last three months of 2004 to their best levels in eight years.</b>The rise came despite exchange rates being cited as a major concern.<b>However, the BCC found the whole UK economy still faced \"major risks\" and warned that growth is set to slow.</b>It recently forecast economic growth will slow from more than 3% in 2004 to a little below 2.5% in both 2005 and 2006.Manufacturers' domestic sales growth fell back slightly in the quarter, the survey of 5,196 firms found.Employment in manufacturing also fell and job expectations were at their lowest level for a year.<b>\"Despite some positive news for the export sector, there are worrying signs for manufacturing,\" the BCC said.</b>\"These results reinforce our concern over the sector's persistent inability to sustain recovery.\"<b>The outlook for the service sector was \"uncertain\" despite an increase in exports and orders over the quarter, the BCC noted.</b><b>The BCC found confidence increased in the quarter across both the manufacturing and service sectors although overall it failed to reach the levels at the start of 2004.</b>The reduced threat of interest rate increases had contributed to improved confidence, it said.The Bank of England raised interest rates five times between November 2003 and August last year.But rates have been kept on hold since then amid signs of falling consumer confidence and a slowdown in output.<b>\"The pressure on costs and margins, the relentless increase in regulations, and the threat of higher taxes remain serious problems,\" BCC director general David Frost said.</b><b>\"While consumer spending is set to decelerate significantly over the next 12-18 months, it is unlikely that investment and exports will rise sufficiently strongly to pick up the slack.\"</b></p> \n    </body>\n    </html>"
     },
     "execution_count": 23,
     "metadata": {},
     "output_type": "execute_result"
    }
   ],
   "source": [
    "dict = transfer_function_output_ranking(document.text_sentences, summary_tfidf)\n",
    "doc_path = \"summaries/summary2\"\n",
    "visualize(doc_path, dict, 3)\n",
    "HTML(filename=doc_path + \".html\")"
   ],
   "metadata": {
    "collapsed": false
   }
  },
  {
   "cell_type": "code",
   "execution_count": 24,
   "outputs": [
    {
     "data": {
      "text/plain": "<IPython.core.display.HTML object>",
      "text/html": "<html>\n    <head>\n    <title>summaries/summary3</title>\n        </head> \n        <body>\n        <p><b>The UK manufacturing sector will continue to face \"serious challenges\" over the next two years, the British Chamber of Commerce (BCC) has said.</b><b>The group's quarterly survey of companies found exports had picked up in the last three months of 2004 to their best levels in eight years.</b>The rise came despite exchange rates being cited as a major concern.<b>However, the BCC found the whole UK economy still faced \"major risks\" and warned that growth is set to slow.</b>It recently forecast economic growth will slow from more than 3% in 2004 to a little below 2.5% in both 2005 and 2006.Manufacturers' domestic sales growth fell back slightly in the quarter, the survey of 5,196 firms found.Employment in manufacturing also fell and job expectations were at their lowest level for a year.<b>\"Despite some positive news for the export sector, there are worrying signs for manufacturing,\" the BCC said.</b>\"These results reinforce our concern over the sector's persistent inability to sustain recovery.\"<b>The outlook for the service sector was \"uncertain\" despite an increase in exports and orders over the quarter, the BCC noted.</b><b>The BCC found confidence increased in the quarter across both the manufacturing and service sectors although overall it failed to reach the levels at the start of 2004.</b>The reduced threat of interest rate increases had contributed to improved confidence, it said.The Bank of England raised interest rates five times between November 2003 and August last year.But rates have been kept on hold since then amid signs of falling consumer confidence and a slowdown in output.<b>\"The pressure on costs and margins, the relentless increase in regulations, and the threat of higher taxes remain serious problems,\" BCC director general David Frost said.</b><b>\"While consumer spending is set to decelerate significantly over the next 12-18 months, it is unlikely that investment and exports will rise sufficiently strongly to pick up the slack.\"</b></p> \n    </body>\n    </html>"
     },
     "execution_count": 24,
     "metadata": {},
     "output_type": "execute_result"
    }
   ],
   "source": [
    "dict = transfer_function_output_ranking(document.text_sentences, summary_bm25)\n",
    "doc_path = \"summaries/summary3\"\n",
    "visualize(doc_path, dict, 3)\n",
    "HTML(filename=doc_path + \".html\")"
   ],
   "metadata": {
    "collapsed": false
   }
  },
  {
   "cell_type": "markdown",
   "metadata": {},
   "source": [
    "**D) Evaluation facilities**"
   ]
  },
  {
   "cell_type": "markdown",
   "metadata": {},
   "source": [
    "*D.1 Evaluation options*"
   ]
  },
  {
   "cell_type": "code",
   "execution_count": 25,
   "metadata": {},
   "outputs": [
    {
     "name": "stdout",
     "output_type": "stream",
     "text": [
      "(0.6858559312613939, 0.18758090416083767) (0.6616704116879901, 0.194353306384381) (0.6086560819371708, 0.2178616182217355) (0.6459914089575814, 0.2174429022294043) (0.669592642543301, 0.19931057796888052)\n"
     ]
    },
    {
     "name": "stderr",
     "output_type": "stream",
     "text": [
      "/Users/robinhelbig/Dev/PythonInterpreter/lib/python3.10/site-packages/IPython/core/pylabtools.py:151: UserWarning: This figure includes Axes that are not compatible with tight_layout, so results might be incorrect.\n",
      "  fig.canvas.print_figure(bytes_io, **kw)\n"
     ]
    },
    {
     "data": {
      "text/plain": "<Figure size 750x350 with 1 Axes>",
      "image/png": "[encoded data removed]"
     },
     "metadata": {},
     "output_type": "display_data"
    }
   ],
   "source": [
    "#code, statistics and/or charts here\n",
    "order_ranked = True\n",
    "text_processing = False\n",
    "max_sent = 8\n",
    "max_chars = 1010\n",
    "documents = read_files(text_processing)\n",
    "\n",
    "corpus_index = indexing(list(map(attrgetter('text_terms'), documents)))\n",
    "corpus_idfs: {str: float} = {}\n",
    "\n",
    "for v in corpus_index:\n",
    "    corpus_idfs[v] = corpus_index[v].inverted_document_frequency\n",
    "\n",
    "for document in documents:\n",
    "    document.summary = ranking(document, max_sent, max_chars, order_ranked, corpus_idfs, {\"rank_option\": \"tf\", \"mmr\": False})\n",
    "\n",
    "business_docs = list(filter(lambda d: d.category == \"business\", documents))\n",
    "business = get_MAP_avg_by_cat_and_standard_deviation(business_docs)\n",
    "entertainment_docs = list(filter(lambda d: d.category == \"entertainment\", documents))\n",
    "entertainment = get_MAP_avg_by_cat_and_standard_deviation(entertainment_docs)\n",
    "politics_docs = list(filter(lambda d: d.category == \"politics\", documents))\n",
    "politics = get_MAP_avg_by_cat_and_standard_deviation(politics_docs)\n",
    "sport_docs = list(filter(lambda d: d.category == \"sport\", documents))\n",
    "sport = get_MAP_avg_by_cat_and_standard_deviation(sport_docs)\n",
    "tech_docs = list(filter(lambda d: d.category == \"tech\", documents))\n",
    "tech = get_MAP_avg_by_cat_and_standard_deviation(tech_docs)\n",
    "\n",
    "print(business, entertainment, politics, sport, tech)\n",
    "draw_MAP_chart(business, entertainment, politics, sport, tech)"
   ]
  },
  {
   "cell_type": "markdown",
   "metadata": {},
   "source": [
    "*D.2 Comparison of settings (IR models, preprocessing)*"
   ]
  },
  {
   "cell_type": "code",
   "execution_count": null,
   "metadata": {
    "pycharm": {
     "is_executing": true
    }
   },
   "outputs": [
    {
     "name": "stdout",
     "output_type": "stream",
     "text": [
      "### TF ###\n",
      "Average Precision:  0.4946281433921884\n",
      "Average Recall:  0.5935637744756285\n",
      "Average F-Beta:  0.49911787715213457\n",
      "Average MAP:  0.6551052358021867\n",
      "##########\n",
      "### TF-IDF ###\n",
      "Average Precision:  0.5067067950775817\n",
      "Average Recall:  0.6085742480029592\n",
      "Average F-Beta:  0.5116578843661505\n",
      "Average MAP:  0.6665697368085826\n",
      "##########\n",
      "### BM25 ###\n",
      "Average Precision:  0.5992348849652219\n",
      "Average Recall:  0.6987769222427856\n",
      "Average F-Beta:  0.6018261812008249\n",
      "Average MAP:  0.8089187750006369\n",
      "##########\n",
      "### RRF ###\n",
      "Average Precision:  0.549852862493312\n",
      "Average Recall:  0.6500457371509447\n",
      "Average F-Beta:  0.5535868643167435\n",
      "Average MAP:  0.7349685749955422\n",
      "##########\n"
     ]
    }
   ],
   "source": [
    "#code, statistics and/or charts here\n",
    "for document in documents:\n",
    "    document.summary = ranking(document, max_sent, max_chars, order_ranked, corpus_idfs, {\"rank_option\": \"tf\", \"mmr\": False})\n",
    "\n",
    "precision_avg, recall_avg, fbeta_avg, MAP_avg = calculate_statistics(documents)\n",
    "print(\"### TF ###\")\n",
    "print(\"Average Precision: \", precision_avg)\n",
    "print(\"Average Recall: \", recall_avg)\n",
    "print(\"Average F-Beta: \", fbeta_avg)\n",
    "print(\"Average MAP: \", MAP_avg)\n",
    "print(\"##########\")\n",
    "\n",
    "for document in documents:\n",
    "    document.summary = ranking(document, max_sent, max_chars, order_ranked, corpus_idfs, {\"rank_option\": \"tf-idf\", \"mmr\": False})\n",
    "\n",
    "precision_avg, recall_avg, fbeta_avg, MAP_avg = calculate_statistics(documents)\n",
    "print(\"### TF-IDF ###\")\n",
    "print(\"Average Precision: \", precision_avg)\n",
    "print(\"Average Recall: \", recall_avg)\n",
    "print(\"Average F-Beta: \", fbeta_avg)\n",
    "print(\"Average MAP: \", MAP_avg)\n",
    "print(\"##########\")\n",
    "\n",
    "for document in documents:\n",
    "    document.summary = ranking(document, max_sent, max_chars, order_ranked, corpus_idfs, {\"rank_option\": \"bm25\", \"mmr\": False})\n",
    "\n",
    "precision_avg, recall_avg, fbeta_avg, MAP_avg = calculate_statistics(documents)\n",
    "print(\"### BM25 ###\")\n",
    "print(\"Average Precision: \", precision_avg)\n",
    "print(\"Average Recall: \", recall_avg)\n",
    "print(\"Average F-Beta: \", fbeta_avg)\n",
    "print(\"Average MAP: \", MAP_avg)\n",
    "print(\"##########\")\n",
    "\n",
    "for document in documents:\n",
    "    document.summary = ranking(document, max_sent, max_chars, order_ranked, corpus_idfs, {\"rank_option\": \"rrf\", \"mmr\": False})\n",
    "\n",
    "precision_avg, recall_avg, fbeta_avg, MAP_avg = calculate_statistics(documents)\n",
    "print(\"### RRF ###\")\n",
    "print(\"Average Precision: \", precision_avg)\n",
    "print(\"Average Recall: \", recall_avg)\n",
    "print(\"Average F-Beta: \", fbeta_avg)\n",
    "print(\"Average MAP: \", MAP_avg)\n",
    "print(\"##########\")\n",
    "\n",
    "for document in documents:\n",
    "    document.summary = ranking(document, max_sent, max_chars, order_ranked, corpus_idfs, {\"rank_option\": \"tf-idf\", \"mmr\": True})\n",
    "\n",
    "precision_avg, recall_avg, fbeta_avg, MAP_avg = calculate_statistics(documents)\n",
    "print(\"### MMR ###\")\n",
    "print(\"Average Precision: \", precision_avg)\n",
    "print(\"Average Recall: \", recall_avg)\n",
    "print(\"Average F-Beta: \", fbeta_avg)\n",
    "print(\"Average MAP: \", MAP_avg)\n",
    "print(\"##########\")"
   ]
  },
  {
   "cell_type": "markdown",
   "source": [],
   "metadata": {
    "collapsed": false
   }
  },
  {
   "cell_type": "code",
   "execution_count": null,
   "outputs": [],
   "source": [
    "#code, statistics and/or charts here\n",
    "order_ranked = True\n",
    "text_processing = True\n",
    "max_sent = 8\n",
    "max_chars = 1010\n",
    "documents = read_files(text_processing)\n",
    "\n",
    "corpus_index = indexing(list(map(attrgetter('text_terms'), documents)))\n",
    "corpus_idfs: {str: float} = {}\n",
    "\n",
    "for v in corpus_index:\n",
    "    corpus_idfs[v] = corpus_index[v].inverted_document_frequency"
   ],
   "metadata": {
    "collapsed": false,
    "pycharm": {
     "is_executing": true
    }
   }
  },
  {
   "cell_type": "code",
   "execution_count": null,
   "outputs": [],
   "source": [
    "#code, statistics and/or charts here\n",
    "for document in documents:\n",
    "    document.summary = ranking(document, max_sent, max_chars, order_ranked, corpus_idfs, {\"rank_option\": \"tf\", \"mmr\": False})\n",
    "\n",
    "precision_avg, recall_avg, fbeta_avg, MAP_avg = calculate_statistics(documents)\n",
    "print(\"### TF ###\")\n",
    "print(\"Average Precision: \", precision_avg)\n",
    "print(\"Average Recall: \", recall_avg)\n",
    "print(\"Average F-Beta: \", fbeta_avg)\n",
    "print(\"Average MAP: \", MAP_avg)\n",
    "print(\"##########\")\n",
    "\n",
    "for document in documents:\n",
    "    document.summary = ranking(document, max_sent, max_chars, order_ranked, corpus_idfs, {\"rank_option\": \"tf-idf\", \"mmr\": False})\n",
    "\n",
    "precision_avg, recall_avg, fbeta_avg, MAP_avg = calculate_statistics(documents)\n",
    "print(\"### TF-IDF ###\")\n",
    "print(\"Average Precision: \", precision_avg)\n",
    "print(\"Average Recall: \", recall_avg)\n",
    "print(\"Average F-Beta: \", fbeta_avg)\n",
    "print(\"Average MAP: \", MAP_avg)\n",
    "print(\"##########\")\n",
    "\n",
    "for document in documents:\n",
    "    document.summary = ranking(document, max_sent, max_chars, order_ranked, corpus_idfs, {\"rank_option\": \"bm25\", \"mmr\": False})\n",
    "\n",
    "precision_avg, recall_avg, fbeta_avg, MAP_avg = calculate_statistics(documents)\n",
    "print(\"### BM25 ###\")\n",
    "print(\"Average Precision: \", precision_avg)\n",
    "print(\"Average Recall: \", recall_avg)\n",
    "print(\"Average F-Beta: \", fbeta_avg)\n",
    "print(\"Average MAP: \", MAP_avg)\n",
    "print(\"##########\")\n",
    "\n",
    "for document in documents:\n",
    "    document.summary = ranking(document, max_sent, max_chars, order_ranked, corpus_idfs, {\"rank_option\": \"rrf\", \"mmr\": False})\n",
    "\n",
    "precision_avg, recall_avg, fbeta_avg, MAP_avg = calculate_statistics(documents)\n",
    "print(\"### RRF ###\")\n",
    "print(\"Average Precision: \", precision_avg)\n",
    "print(\"Average Recall: \", recall_avg)\n",
    "print(\"Average F-Beta: \", fbeta_avg)\n",
    "print(\"Average MAP: \", MAP_avg)\n",
    "print(\"##########\")\n",
    "\n",
    "for document in documents:\n",
    "    document.summary = ranking(document, max_sent, max_chars, order_ranked, corpus_idfs, {\"rank_option\": \"tf-idf\", \"mmr\": True})\n",
    "\n",
    "precision_avg, recall_avg, fbeta_avg, MAP_avg = calculate_statistics(documents)\n",
    "print(\"### MMR ###\")\n",
    "print(\"Average Precision: \", precision_avg)\n",
    "print(\"Average Recall: \", recall_avg)\n",
    "print(\"Average F-Beta: \", fbeta_avg)\n",
    "print(\"Average MAP: \", MAP_avg)\n",
    "print(\"##########\")"
   ],
   "metadata": {
    "collapsed": false,
    "pycharm": {
     "is_executing": true
    }
   }
  },
  {
   "cell_type": "markdown",
   "metadata": {},
   "source": [
    "<H3>Part II: questions materials (optional)</H3>"
   ]
  },
  {
   "cell_type": "markdown",
   "metadata": {},
   "source": [
    "**(a)** Corpus and summary description. Distribution of informative terms before and after text processing."
   ]
  },
  {
   "cell_type": "code",
   "execution_count": null,
   "metadata": {
    "pycharm": {
     "is_executing": true
    }
   },
   "outputs": [],
   "source": [
    "#code, statistics and/or charts here"
   ]
  },
  {
   "cell_type": "markdown",
   "metadata": {},
   "source": [
    "**(b)** Summarization performance for the overall and category-conditional corpora."
   ]
  },
  {
   "cell_type": "code",
   "execution_count": null,
   "metadata": {
    "pycharm": {
     "is_executing": true
    }
   },
   "outputs": [],
   "source": [
    "#code, statistics and/or charts here"
   ]
  },
  {
   "cell_type": "code",
   "execution_count": 6,
   "outputs": [
    {
     "ename": "ImportError",
     "evalue": "cannot import name 'write_to_csv' from 'src.helper.helper' (D:\\STUDIA\\Tecnico\\RGI_proj\\RGIProject\\src\\helper\\helper.py)",
     "output_type": "error",
     "traceback": [
      "\u001B[1;31m---------------------------------------------------------------------------\u001B[0m",
      "\u001B[1;31mImportError\u001B[0m                               Traceback (most recent call last)",
      "Cell \u001B[1;32mIn [6], line 16\u001B[0m\n\u001B[0;32m     13\u001B[0m \u001B[38;5;28;01mfrom\u001B[39;00m \u001B[38;5;21;01msrc\u001B[39;00m\u001B[38;5;21;01m.\u001B[39;00m\u001B[38;5;21;01mmainFunctions\u001B[39;00m\u001B[38;5;21;01m.\u001B[39;00m\u001B[38;5;21;01mevaluation\u001B[39;00m \u001B[38;5;28;01mimport\u001B[39;00m calculate_precision_recall\n\u001B[0;32m     14\u001B[0m \u001B[38;5;28;01mfrom\u001B[39;00m \u001B[38;5;21;01msrc\u001B[39;00m\u001B[38;5;21;01m.\u001B[39;00m\u001B[38;5;21;01mmainFunctions\u001B[39;00m\u001B[38;5;21;01m.\u001B[39;00m\u001B[38;5;21;01mevaluation\u001B[39;00m \u001B[38;5;28;01mimport\u001B[39;00m calculate_fbeta_measure\n\u001B[1;32m---> 16\u001B[0m \u001B[38;5;28;01mfrom\u001B[39;00m \u001B[38;5;21;01msrc\u001B[39;00m\u001B[38;5;21;01m.\u001B[39;00m\u001B[38;5;21;01mhelper\u001B[39;00m\u001B[38;5;21;01m.\u001B[39;00m\u001B[38;5;21;01mhelper\u001B[39;00m \u001B[38;5;28;01mimport\u001B[39;00m write_to_csv\n\u001B[0;32m     18\u001B[0m order_ranked \u001B[38;5;241m=\u001B[39m \u001B[38;5;28;01mTrue\u001B[39;00m\n\u001B[0;32m     19\u001B[0m text_processing \u001B[38;5;241m=\u001B[39m \u001B[38;5;28;01mTrue\u001B[39;00m\n",
      "\u001B[1;31mImportError\u001B[0m: cannot import name 'write_to_csv' from 'src.helper.helper' (D:\\STUDIA\\Tecnico\\RGI_proj\\RGIProject\\src\\helper\\helper.py)"
     ]
    }
   ],
   "source": [
    "#question 2\n",
    "from operator import attrgetter\n",
    "\n",
    "from src.mainFunctions.indexing import indexing\n",
    "from src.helper.documentHelper import read_files\n",
    "from src.mainFunctions.ranking import ranking\n",
    "\n",
    "from src.mainFunctions.evaluation import calculate_true_pos\n",
    "from src.mainFunctions.evaluation import get_MAP_avg_by_cat_and_standard_deviation\n",
    "from src.mainFunctions.evaluation import draw_MAP_chart\n",
    "from src.mainFunctions.evaluation import calculate_precision_recall_tables_and_MAP_param\n",
    "from src.mainFunctions.evaluation import draw_precision_recall_curve\n",
    "from src.mainFunctions.evaluation import calculate_precision_recall\n",
    "from src.mainFunctions.evaluation import calculate_fbeta_measure\n",
    "\n",
    "from src.helper.helper import write_to_csv\n",
    "\n",
    "order_ranked = True\n",
    "text_processing = True\n",
    "documents = read_files(text_processing)\n",
    "index = indexing(list(map(attrgetter('text_terms'), documents)))\n",
    "corpus_idfs: {str: float} = {}\n",
    "for v in index:\n",
    "    corpus_idfs[v] = index[v].inverted_document_frequency\n",
    "fbeta_list_tf = []\n",
    "# MAP_avg_by_cat_and_standard_deviation, interpolated recall-and-precision curve for doc 2 - tf\n",
    "for document in documents:\n",
    "    document.summary = ranking(document, 8, 1010, order_ranked, corpus_idfs, {\"rank_option\": \"tf\", \"mmr\": False})\n",
    "    true_pos = calculate_true_pos(document)\n",
    "    precision_recall_tuple = calculate_precision_recall(document.referenceSummary, document.summary, true_pos)\n",
    "    fbeta_list_tf.append(calculate_fbeta_measure(precision_recall_tuple[0], precision_recall_tuple[1]))\n",
    "    precision_recall_tuple_table = calculate_precision_recall_tables_and_MAP_param(document.summary,\n",
    "                                                                             true_pos)\n",
    "    if document.id == 2:\n",
    "        draw_precision_recall_curve(precision_recall_tuple_table)\n",
    "\n",
    "avg_fbeta_tf = sum(fbeta_list_tf) / len(fbeta_list_tf)\n",
    "print(avg_fbeta_tf)\n",
    "\n",
    "business_docs = list(filter(lambda d: d.category == \"business\", documents))\n",
    "business = get_MAP_avg_by_cat_and_standard_deviation(business_docs)\n",
    "\n",
    "entertainment_docs = list(filter(lambda d: d.category == \"entertainment\", documents))\n",
    "entertainment = get_MAP_avg_by_cat_and_standard_deviation(entertainment_docs)\n",
    "\n",
    "politics_docs = list(filter(lambda d: d.category == \"politics\", documents))\n",
    "politics = get_MAP_avg_by_cat_and_standard_deviation(politics_docs)\n",
    "\n",
    "sport_docs = list(filter(lambda d: d.category == \"sport\", documents))\n",
    "sport = get_MAP_avg_by_cat_and_standard_deviation(sport_docs)\n",
    "\n",
    "tech_docs = list(filter(lambda d: d.category == \"tech\", documents))\n",
    "tech = get_MAP_avg_by_cat_and_standard_deviation(tech_docs)\n",
    "\n",
    "draw_MAP_chart(business, entertainment, politics, sport, tech)\n",
    "\n",
    "fbeta_list_tf_idf = []\n",
    "# MAP_avg_by_cat_and_standard_deviation, interpolated recall-and-precision curve for doc 2 - tf-idf\n",
    "for document in documents:\n",
    "    document.summary = ranking(document, 8, 1010, order_ranked, corpus_idfs, {\"rank_option\": \"tf-idf\", \"mmr\": False})\n",
    "    true_pos = calculate_true_pos(document)\n",
    "    precision_recall_tuple = calculate_precision_recall(document.referenceSummary, document.summary, true_pos)\n",
    "    fbeta_list_tf_idf.append(calculate_fbeta_measure(precision_recall_tuple[0], precision_recall_tuple[1]))\n",
    "    precision_recall_tuple_table = calculate_precision_recall_tables_and_MAP_param(document.summary,\n",
    "                                                                                   true_pos)\n",
    "    if document.id == 2:\n",
    "        draw_precision_recall_curve(precision_recall_tuple_table)\n",
    "\n",
    "avg_fbeta_tf_idf = sum(fbeta_list_tf_idf) / len(fbeta_list_tf_idf)\n",
    "print(avg_fbeta_tf_idf)\n",
    "\n",
    "business_docs = list(filter(lambda d: d.category == \"business\", documents))\n",
    "business = get_MAP_avg_by_cat_and_standard_deviation(business_docs)\n",
    "\n",
    "entertainment_docs = list(filter(lambda d: d.category == \"entertainment\", documents))\n",
    "entertainment = get_MAP_avg_by_cat_and_standard_deviation(entertainment_docs)\n",
    "\n",
    "politics_docs = list(filter(lambda d: d.category == \"politics\", documents))\n",
    "politics = get_MAP_avg_by_cat_and_standard_deviation(politics_docs)\n",
    "\n",
    "sport_docs = list(filter(lambda d: d.category == \"sport\", documents))\n",
    "sport = get_MAP_avg_by_cat_and_standard_deviation(sport_docs)\n",
    "\n",
    "tech_docs = list(filter(lambda d: d.category == \"tech\", documents))\n",
    "tech = get_MAP_avg_by_cat_and_standard_deviation(tech_docs)\n",
    "\n",
    "draw_MAP_chart(business, entertainment, politics, sport, tech)\n",
    "\n",
    "fbeta_list_bm25 = []\n",
    "# MAP_avg_by_cat_and_standard_deviation, interpolated recall-and-precision curve for doc 2 - bm25\n",
    "for document in documents:\n",
    "    document.summary = ranking(document, 8, 1010, order_ranked, corpus_idfs, {\"rank_option\": \"bm25\", \"mmr\": False})\n",
    "    true_pos = calculate_true_pos(document)\n",
    "    precision_recall_tuple = calculate_precision_recall(document.referenceSummary, document.summary, true_pos)\n",
    "    fbeta_list_bm25.append(calculate_fbeta_measure(precision_recall_tuple[0], precision_recall_tuple[1]))\n",
    "    precision_recall_tuple_table = calculate_precision_recall_tables_and_MAP_param(document.summary,\n",
    "                                                                                   true_pos)\n",
    "    if document.id == 2:\n",
    "        draw_precision_recall_curve(precision_recall_tuple_table)\n",
    "\n",
    "avg_fbeta_bm25 = sum(fbeta_list_bm25) / len(fbeta_list_bm25)\n",
    "print(avg_fbeta_bm25)\n",
    "\n",
    "business_docs = list(filter(lambda d: d.category == \"business\", documents))\n",
    "business = get_MAP_avg_by_cat_and_standard_deviation(business_docs)\n",
    "\n",
    "entertainment_docs = list(filter(lambda d: d.category == \"entertainment\", documents))\n",
    "entertainment = get_MAP_avg_by_cat_and_standard_deviation(entertainment_docs)\n",
    "\n",
    "politics_docs = list(filter(lambda d: d.category == \"politics\", documents))\n",
    "politics = get_MAP_avg_by_cat_and_standard_deviation(politics_docs)\n",
    "\n",
    "sport_docs = list(filter(lambda d: d.category == \"sport\", documents))\n",
    "sport = get_MAP_avg_by_cat_and_standard_deviation(sport_docs)\n",
    "\n",
    "tech_docs = list(filter(lambda d: d.category == \"tech\", documents))\n",
    "tech = get_MAP_avg_by_cat_and_standard_deviation(tech_docs)\n",
    "\n",
    "draw_MAP_chart(business, entertainment, politics, sport, tech)\n",
    "\n",
    "fbeta_header = ['all_docs_tf', 'all_docs_tf_idf', 'all_docs_bm25']\n",
    "fbeta_data = [avg_fbeta_tf, avg_fbeta_tf_idf, avg_fbeta_bm25]\n",
    "write_to_csv('fbeta.csv', fbeta_header, [fbeta_data])\n"
   ],
   "metadata": {
    "collapsed": false
   }
  },
  {
   "cell_type": "code",
   "execution_count": 7,
   "outputs": [
    {
     "ename": "ImportError",
     "evalue": "cannot import name 'write_to_csv' from 'src.helper.helper' (D:\\STUDIA\\Tecnico\\RGI_proj\\RGIProject\\src\\helper\\helper.py)",
     "output_type": "error",
     "traceback": [
      "\u001B[1;31m---------------------------------------------------------------------------\u001B[0m",
      "\u001B[1;31mImportError\u001B[0m                               Traceback (most recent call last)",
      "Cell \u001B[1;32mIn [7], line 16\u001B[0m\n\u001B[0;32m     13\u001B[0m \u001B[38;5;28;01mfrom\u001B[39;00m \u001B[38;5;21;01msrc\u001B[39;00m\u001B[38;5;21;01m.\u001B[39;00m\u001B[38;5;21;01mmainFunctions\u001B[39;00m\u001B[38;5;21;01m.\u001B[39;00m\u001B[38;5;21;01mevaluation\u001B[39;00m \u001B[38;5;28;01mimport\u001B[39;00m calculate_precision_recall\n\u001B[0;32m     14\u001B[0m \u001B[38;5;28;01mfrom\u001B[39;00m \u001B[38;5;21;01msrc\u001B[39;00m\u001B[38;5;21;01m.\u001B[39;00m\u001B[38;5;21;01mmainFunctions\u001B[39;00m\u001B[38;5;21;01m.\u001B[39;00m\u001B[38;5;21;01mevaluation\u001B[39;00m \u001B[38;5;28;01mimport\u001B[39;00m calculate_fbeta_measure\n\u001B[1;32m---> 16\u001B[0m \u001B[38;5;28;01mfrom\u001B[39;00m \u001B[38;5;21;01msrc\u001B[39;00m\u001B[38;5;21;01m.\u001B[39;00m\u001B[38;5;21;01mhelper\u001B[39;00m\u001B[38;5;21;01m.\u001B[39;00m\u001B[38;5;21;01mhelper\u001B[39;00m \u001B[38;5;28;01mimport\u001B[39;00m write_to_csv\n\u001B[0;32m     18\u001B[0m \u001B[38;5;28;01mdef\u001B[39;00m \u001B[38;5;21mcalculate_avg_precision_recall_for_category\u001B[39m(category_docs, p, l):\n\u001B[0;32m     19\u001B[0m     precision_table \u001B[38;5;241m=\u001B[39m []\n",
      "\u001B[1;31mImportError\u001B[0m: cannot import name 'write_to_csv' from 'src.helper.helper' (D:\\STUDIA\\Tecnico\\RGI_proj\\RGIProject\\src\\helper\\helper.py)"
     ]
    }
   ],
   "source": [
    "#question 4\n",
    "from operator import attrgetter\n",
    "\n",
    "from src.mainFunctions.indexing import indexing\n",
    "from src.helper.documentHelper import read_files\n",
    "from src.mainFunctions.ranking import ranking\n",
    "\n",
    "from src.mainFunctions.evaluation import calculate_true_pos\n",
    "from src.mainFunctions.evaluation import get_MAP_avg_by_cat_and_standard_deviation\n",
    "from src.mainFunctions.evaluation import draw_MAP_chart\n",
    "from src.mainFunctions.evaluation import calculate_precision_recall_tables_and_MAP_param\n",
    "from src.mainFunctions.evaluation import draw_precision_recall_curve\n",
    "from src.mainFunctions.evaluation import calculate_precision_recall\n",
    "from src.mainFunctions.evaluation import calculate_fbeta_measure\n",
    "\n",
    "from src.helper.helper import write_to_csv\n",
    "\n",
    "def calculate_avg_precision_recall_for_category(category_docs, p, l):\n",
    "    precision_table = []\n",
    "    recall_table = []\n",
    "    for document in category_docs:\n",
    "        document.summary = ranking(document, p, l, order_ranked, corpus_idfs,\n",
    "                                   {\"rank_option\": \"tf-idf\", \"mmr\": False})\n",
    "        true_pos = calculate_true_pos(document)\n",
    "        precision_recall_tuple = calculate_precision_recall(document.referenceSummary, document.summary, true_pos)\n",
    "        precision_table.append(precision_recall_tuple[0])\n",
    "        recall_table.append(precision_recall_tuple[1])\n",
    "\n",
    "    precision_avg = sum(precision_table) / len(recall_table)\n",
    "    recall_avg = sum(recall_table) / len(recall_table)\n",
    "    return precision_avg, recall_avg\n",
    "\n",
    "\n",
    "order_ranked = True\n",
    "text_processing = True\n",
    "documents = read_files(text_processing)\n",
    "index = indexing(list(map(attrgetter('text_terms'), documents)))\n",
    "corpus_idfs: {str: float} = {}\n",
    "for v in index:\n",
    "    corpus_idfs[v] = index[v].inverted_document_frequency\n",
    "\n",
    "row1 = [6, 800]\n",
    "row2 = [6, 1010]\n",
    "row3 = [6, 1200]\n",
    "row4 = [8, 800]\n",
    "row5 = [8, 1010]\n",
    "row6 = [8, 1200]\n",
    "row7 = [10, 800]\n",
    "row8 = [10, 1010]\n",
    "row9 = [10, 1200]\n",
    "\n",
    "\n",
    "all_documents_6_800 = calculate_avg_precision_recall_for_category(documents, 6, 800)\n",
    "precision_avg_6_800 = all_documents_6_800[0]\n",
    "recall_avg_6_800 = all_documents_6_800[1]\n",
    "row1.append(precision_avg_6_800)\n",
    "row1.append(recall_avg_6_800)\n",
    "\n",
    "all_documents_6_1010 = calculate_avg_precision_recall_for_category(documents, 6, 1010)\n",
    "precision_avg_6_1010 = all_documents_6_1010[0]\n",
    "recall_avg_6_1010 = all_documents_6_1010[1]\n",
    "row2.append(precision_avg_6_1010)\n",
    "row2.append(recall_avg_6_1010)\n",
    "\n",
    "all_documents_6_1200 = calculate_avg_precision_recall_for_category(documents, 6, 1200)\n",
    "precision_avg_6_1200 = all_documents_6_1200[0]\n",
    "recall_avg_6_1200 = all_documents_6_1200[1]\n",
    "row3.append(precision_avg_6_1200)\n",
    "row3.append(recall_avg_6_1200)\n",
    "\n",
    "all_documents_8_800 = calculate_avg_precision_recall_for_category(documents, 8, 800)\n",
    "precision_avg_8_800 = all_documents_8_800[0]\n",
    "recall_avg_8_800 = all_documents_8_800[1]\n",
    "row4.append(precision_avg_8_800)\n",
    "row4.append(recall_avg_8_800)\n",
    "\n",
    "all_documents_8_1010 = calculate_avg_precision_recall_for_category(documents, 8, 1010)\n",
    "precision_avg_8_1010 = all_documents_8_1010[0]\n",
    "recall_avg_8_1010 = all_documents_8_1010[1]\n",
    "row5.append(precision_avg_8_1010)\n",
    "row5.append(recall_avg_8_1010)\n",
    "\n",
    "all_documents_8_1200 = calculate_avg_precision_recall_for_category(documents, 8, 1200)\n",
    "precision_avg_8_1200 = all_documents_8_1200[0]\n",
    "recall_avg_8_1200 = all_documents_8_1200[1]\n",
    "row6.append(precision_avg_8_1200)\n",
    "row6.append(recall_avg_8_1200)\n",
    "\n",
    "all_documents_10_800 = calculate_avg_precision_recall_for_category(documents, 10, 800)\n",
    "precision_avg_10_800 = all_documents_10_800[0]\n",
    "recall_avg_10_800 = all_documents_10_800[1]\n",
    "row7.append(precision_avg_10_800)\n",
    "row7.append(recall_avg_10_800)\n",
    "\n",
    "all_documents_10_1010 = calculate_avg_precision_recall_for_category(documents, 10, 1010)\n",
    "precision_avg_10_1010 = all_documents_10_1010[0]\n",
    "recall_avg_10_1010 = all_documents_10_1010[1]\n",
    "row8.append(precision_avg_10_1010)\n",
    "row8.append(recall_avg_10_1010)\n",
    "\n",
    "all_documents_10_1200 = calculate_avg_precision_recall_for_category(documents, 10, 1200)\n",
    "precision_avg_10_1200 = all_documents_10_1200[0]\n",
    "recall_avg_10_1200 = all_documents_10_1200[1]\n",
    "row9.append(precision_avg_10_1200)\n",
    "row9.append(recall_avg_10_1200)\n",
    "\n",
    "business_docs = list(filter(lambda d: d.category == \"business\", documents))\n",
    "\n",
    "business_6_800 = calculate_avg_precision_recall_for_category(business_docs, 6, 800)\n",
    "business_precision_avg_6_800 = business_6_800[0]\n",
    "business_recall_avg_6_800 = business_6_800[1]\n",
    "row1.append(business_precision_avg_6_800)\n",
    "row1.append(business_precision_avg_6_800)\n",
    "\n",
    "business_6_1010 = calculate_avg_precision_recall_for_category(business_docs, 6, 1010)\n",
    "business_precision_avg_6_1010 = business_6_1010[0]\n",
    "business_recall_avg_6_1010 = business_6_1010[1]\n",
    "row2.append(business_precision_avg_6_1010)\n",
    "row2.append(business_recall_avg_6_1010)\n",
    "\n",
    "business_6_1200 = calculate_avg_precision_recall_for_category(business_docs, 6, 1200)\n",
    "business_precision_avg_6_1200 = business_6_1200[0]\n",
    "business_recall_avg_6_1200 = business_6_1200[1]\n",
    "row3.append(business_precision_avg_6_1200)\n",
    "row3.append(business_recall_avg_6_1200)\n",
    "\n",
    "business_8_800 = calculate_avg_precision_recall_for_category(business_docs, 8, 800)\n",
    "business_precision_avg_8_800 = business_8_800[0]\n",
    "business_recall_avg_8_800 = business_8_800[1]\n",
    "row4.append(business_precision_avg_8_800)\n",
    "row4.append(business_recall_avg_8_800)\n",
    "\n",
    "business_8_1010 = calculate_avg_precision_recall_for_category(business_docs, 8, 1010)\n",
    "business_precision_avg_8_1010 = business_8_1010[0]\n",
    "business_recall_avg_8_1010 = business_8_1010[1]\n",
    "row5.append(business_precision_avg_8_1010)\n",
    "row5.append(business_recall_avg_8_1010)\n",
    "\n",
    "business_8_1200 = calculate_avg_precision_recall_for_category(business_docs, 8, 1200)\n",
    "business_precision_avg_8_1200 = business_8_1200[0]\n",
    "business_recall_avg_8_1200 = business_8_1200[1]\n",
    "row6.append(business_precision_avg_8_1200)\n",
    "row6.append(business_recall_avg_8_1200)\n",
    "\n",
    "business_10_800 = calculate_avg_precision_recall_for_category(business_docs, 10, 800)\n",
    "business_precision_avg_10_800 = business_10_800[0]\n",
    "business_recall_avg_10_800 = business_10_800[1]\n",
    "row7.append(business_precision_avg_10_800)\n",
    "row7.append(business_recall_avg_10_800)\n",
    "\n",
    "business_10_1010 = calculate_avg_precision_recall_for_category(business_docs, 10, 1010)\n",
    "business_precision_avg_10_1010 = business_10_1010[0]\n",
    "business_recall_avg_10_1010 = business_10_1010[1]\n",
    "row8.append(business_precision_avg_10_1010)\n",
    "row8.append(business_recall_avg_10_1010)\n",
    "\n",
    "business_10_1200 = calculate_avg_precision_recall_for_category(business_docs, 10, 1200)\n",
    "business_precision_avg_10_1200 = business_10_1200[0]\n",
    "business_recall_avg_10_1200 = business_10_1200[1]\n",
    "row9.append(business_precision_avg_10_1200)\n",
    "row9.append(business_recall_avg_10_1200)\n",
    "\n",
    "entertainment_docs = list(filter(lambda d: d.category == \"entertainment\", documents))\n",
    "\n",
    "entertainment_6_800 = calculate_avg_precision_recall_for_category(entertainment_docs, 6, 800)\n",
    "entertainment_precision_avg_6_800 = entertainment_6_800[0]\n",
    "entertainment_recall_avg_6_800 = entertainment_6_800[1]\n",
    "row1.append(entertainment_precision_avg_6_800)\n",
    "row1.append(entertainment_precision_avg_6_800)\n",
    "\n",
    "entertainment_6_1010 = calculate_avg_precision_recall_for_category(entertainment_docs, 6, 1010)\n",
    "entertainment_precision_avg_6_1010 = entertainment_6_1010[0]\n",
    "entertainment_recall_avg_6_1010 = entertainment_6_1010[1]\n",
    "row2.append(entertainment_precision_avg_6_1010)\n",
    "row2.append(entertainment_recall_avg_6_1010)\n",
    "\n",
    "entertainment_6_1200 = calculate_avg_precision_recall_for_category(entertainment_docs, 6, 1200)\n",
    "entertainment_precision_avg_6_1200 = entertainment_6_1200[0]\n",
    "entertainment_recall_avg_6_1200 = entertainment_6_1200[1]\n",
    "row3.append(entertainment_precision_avg_6_1200)\n",
    "row3.append(entertainment_recall_avg_6_1200)\n",
    "\n",
    "entertainment_8_800 = calculate_avg_precision_recall_for_category(entertainment_docs, 8, 800)\n",
    "entertainment_precision_avg_8_800 = entertainment_8_800[0]\n",
    "entertainment_recall_avg_8_800 = entertainment_8_800[1]\n",
    "row4.append(entertainment_precision_avg_8_800)\n",
    "row4.append(entertainment_recall_avg_8_800)\n",
    "\n",
    "entertainment_8_1010 = calculate_avg_precision_recall_for_category(entertainment_docs, 8, 1010)\n",
    "entertainment_precision_avg_8_1010 = entertainment_8_1010[0]\n",
    "entertainment_recall_avg_8_1010 = entertainment_8_1010[1]\n",
    "row5.append(entertainment_precision_avg_8_1010)\n",
    "row5.append(entertainment_recall_avg_8_1010)\n",
    "\n",
    "entertainment_8_1200 = calculate_avg_precision_recall_for_category(entertainment_docs, 8, 1200)\n",
    "entertainment_precision_avg_8_1200 = entertainment_8_1200[0]\n",
    "entertainment_recall_avg_8_1200 = entertainment_8_1200[1]\n",
    "row6.append(entertainment_precision_avg_8_1200)\n",
    "row6.append(entertainment_recall_avg_8_1200)\n",
    "\n",
    "entertainment_10_800 = calculate_avg_precision_recall_for_category(entertainment_docs, 10, 800)\n",
    "entertainment_precision_avg_10_800 = entertainment_10_800[0]\n",
    "entertainment_recall_avg_10_800 = entertainment_10_800[1]\n",
    "row7.append(entertainment_precision_avg_10_800)\n",
    "row7.append(entertainment_recall_avg_10_800)\n",
    "\n",
    "entertainment_10_1010 = calculate_avg_precision_recall_for_category(entertainment_docs, 10, 1010)\n",
    "entertainment_precision_avg_10_1010 = entertainment_10_1010[0]\n",
    "entertainment_recall_avg_10_1010 = entertainment_10_1010[1]\n",
    "row8.append(entertainment_precision_avg_10_1010)\n",
    "row8.append(entertainment_recall_avg_10_1010)\n",
    "\n",
    "entertainment_10_1200 = calculate_avg_precision_recall_for_category(entertainment_docs, 10, 1200)\n",
    "entertainment_precision_avg_10_1200 = entertainment_10_1200[0]\n",
    "entertainment_recall_avg_10_1200 = entertainment_10_1200[1]\n",
    "row9.append(entertainment_precision_avg_10_1200)\n",
    "row9.append(entertainment_recall_avg_10_1200)\n",
    "\n",
    "politics_docs = list(filter(lambda d: d.category == \"politics\", documents))\n",
    "politics_6_800 = calculate_avg_precision_recall_for_category(politics_docs, 6, 800)\n",
    "politics_precision_avg_6_800 = politics_6_800[0]\n",
    "politics_recall_avg_6_800 = politics_6_800[1]\n",
    "row1.append(politics_precision_avg_6_800)\n",
    "row1.append(politics_precision_avg_6_800)\n",
    "\n",
    "politics_6_1010 = calculate_avg_precision_recall_for_category(politics_docs, 6, 1010)\n",
    "politics_precision_avg_6_1010 = politics_6_1010[0]\n",
    "politics_recall_avg_6_1010 = politics_6_1010[1]\n",
    "row2.append(politics_precision_avg_6_1010)\n",
    "row2.append(politics_recall_avg_6_1010)\n",
    "\n",
    "politics_6_1200 = calculate_avg_precision_recall_for_category(politics_docs, 6, 1200)\n",
    "politics_precision_avg_6_1200 = politics_6_1200[0]\n",
    "politics_recall_avg_6_1200 = politics_6_1200[1]\n",
    "row3.append(politics_precision_avg_6_1200)\n",
    "row3.append(politics_recall_avg_6_1200)\n",
    "\n",
    "politics_8_800 = calculate_avg_precision_recall_for_category(politics_docs, 8, 800)\n",
    "politics_precision_avg_8_800 = politics_8_800[0]\n",
    "politics_recall_avg_8_800 = politics_8_800[1]\n",
    "row4.append(politics_precision_avg_8_800)\n",
    "row4.append(politics_recall_avg_8_800)\n",
    "\n",
    "politics_8_1010 = calculate_avg_precision_recall_for_category(politics_docs, 8, 1010)\n",
    "politics_precision_avg_8_1010 = politics_8_1010[0]\n",
    "politics_recall_avg_8_1010 = politics_8_1010[1]\n",
    "row5.append(politics_precision_avg_8_1010)\n",
    "row5.append(politics_recall_avg_8_1010)\n",
    "\n",
    "politics_8_1200 = calculate_avg_precision_recall_for_category(politics_docs, 8, 1200)\n",
    "politics_precision_avg_8_1200 = politics_8_1200[0]\n",
    "politics_recall_avg_8_1200 = politics_8_1200[1]\n",
    "row6.append(politics_precision_avg_8_1200)\n",
    "row6.append(politics_recall_avg_8_1200)\n",
    "\n",
    "politics_10_800 = calculate_avg_precision_recall_for_category(politics_docs, 10, 800)\n",
    "politics_precision_avg_10_800 = politics_10_800[0]\n",
    "politics_recall_avg_10_800 = politics_10_800[1]\n",
    "row7.append(politics_precision_avg_10_800)\n",
    "row7.append(politics_recall_avg_10_800)\n",
    "\n",
    "politics_10_1010 = calculate_avg_precision_recall_for_category(politics_docs, 10, 1010)\n",
    "politics_precision_avg_10_1010 = politics_10_1010[0]\n",
    "politics_recall_avg_10_1010 = politics_10_1010[1]\n",
    "row8.append(politics_precision_avg_10_1010)\n",
    "row8.append(politics_recall_avg_10_1010)\n",
    "\n",
    "politics_10_1200 = calculate_avg_precision_recall_for_category(politics_docs, 10, 1200)\n",
    "politics_precision_avg_10_1200 = politics_10_1200[0]\n",
    "politics_recall_avg_10_1200 = politics_10_1200[1]\n",
    "row9.append(politics_precision_avg_10_1200)\n",
    "row9.append(politics_recall_avg_10_1200)\n",
    "\n",
    "sport_docs = list(filter(lambda d: d.category == \"sport\", documents))\n",
    "sport_6_800 = calculate_avg_precision_recall_for_category(sport_docs, 6, 800)\n",
    "sport_precision_avg_6_800 = sport_6_800[0]\n",
    "sport_recall_avg_6_800 = sport_6_800[1]\n",
    "row1.append(sport_precision_avg_6_800)\n",
    "row1.append(sport_precision_avg_6_800)\n",
    "\n",
    "sport_6_1010 = calculate_avg_precision_recall_for_category(sport_docs, 6, 1010)\n",
    "sport_precision_avg_6_1010 = sport_6_1010[0]\n",
    "sport_recall_avg_6_1010 = sport_6_1010[1]\n",
    "row2.append(sport_precision_avg_6_1010)\n",
    "row2.append(sport_recall_avg_6_1010)\n",
    "\n",
    "sport_6_1200 = calculate_avg_precision_recall_for_category(sport_docs, 6, 1200)\n",
    "sport_precision_avg_6_1200 = sport_6_1200[0]\n",
    "sport_recall_avg_6_1200 = sport_6_1200[1]\n",
    "row3.append(sport_precision_avg_6_1200)\n",
    "row3.append(sport_recall_avg_6_1200)\n",
    "\n",
    "sport_8_800 = calculate_avg_precision_recall_for_category(sport_docs, 8, 800)\n",
    "sport_precision_avg_8_800 = sport_8_800[0]\n",
    "sport_recall_avg_8_800 = sport_8_800[1]\n",
    "row4.append(sport_precision_avg_8_800)\n",
    "row4.append(sport_recall_avg_8_800)\n",
    "\n",
    "sport_8_1010 = calculate_avg_precision_recall_for_category(sport_docs, 8, 1010)\n",
    "sport_precision_avg_8_1010 = sport_8_1010[0]\n",
    "sport_recall_avg_8_1010 = sport_8_1010[1]\n",
    "row5.append(sport_precision_avg_8_1010)\n",
    "row5.append(sport_recall_avg_8_1010)\n",
    "\n",
    "sport_8_1200 = calculate_avg_precision_recall_for_category(sport_docs, 8, 1200)\n",
    "sport_precision_avg_8_1200 = sport_8_1200[0]\n",
    "sport_recall_avg_8_1200 = sport_8_1200[1]\n",
    "row6.append(sport_precision_avg_8_1200)\n",
    "row6.append(sport_recall_avg_8_1200)\n",
    "\n",
    "sport_10_800 = calculate_avg_precision_recall_for_category(sport_docs, 10, 800)\n",
    "sport_precision_avg_10_800 = sport_10_800[0]\n",
    "sport_recall_avg_10_800 = sport_10_800[1]\n",
    "row7.append(sport_precision_avg_10_800)\n",
    "row7.append(sport_recall_avg_10_800)\n",
    "\n",
    "sport_10_1010 = calculate_avg_precision_recall_for_category(sport_docs, 10, 1010)\n",
    "sport_precision_avg_10_1010 = sport_10_1010[0]\n",
    "sport_recall_avg_10_1010 = sport_10_1010[1]\n",
    "row8.append(sport_precision_avg_10_1010)\n",
    "row8.append(sport_recall_avg_10_1010)\n",
    "\n",
    "sport_10_1200 = calculate_avg_precision_recall_for_category(sport_docs, 10, 1200)\n",
    "sport_precision_avg_10_1200 = sport_10_1200[0]\n",
    "sport_recall_avg_10_1200 = sport_10_1200[1]\n",
    "row9.append(sport_precision_avg_10_1200)\n",
    "row9.append(sport_recall_avg_10_1200)\n",
    "\n",
    "\n",
    "tech_docs = list(filter(lambda d: d.category == \"tech\", documents))\n",
    "tech_6_800 = calculate_avg_precision_recall_for_category(tech_docs, 6, 800)\n",
    "tech_precision_avg_6_800 = tech_6_800[0]\n",
    "tech_recall_avg_6_800 = tech_6_800[1]\n",
    "row1.append(tech_precision_avg_6_800)\n",
    "row1.append(tech_precision_avg_6_800)\n",
    "\n",
    "tech_6_1010 = calculate_avg_precision_recall_for_category(tech_docs, 6, 1010)\n",
    "tech_precision_avg_6_1010 = tech_6_1010[0]\n",
    "tech_recall_avg_6_1010 = tech_6_1010[1]\n",
    "row2.append(tech_precision_avg_6_1010)\n",
    "row2.append(tech_recall_avg_6_1010)\n",
    "\n",
    "tech_6_1200 = calculate_avg_precision_recall_for_category(tech_docs, 6, 1200)\n",
    "tech_precision_avg_6_1200 = tech_6_1200[0]\n",
    "tech_recall_avg_6_1200 = tech_6_1200[1]\n",
    "row3.append(tech_precision_avg_6_1200)\n",
    "row3.append(tech_recall_avg_6_1200)\n",
    "\n",
    "tech_8_800 = calculate_avg_precision_recall_for_category(tech_docs, 8, 800)\n",
    "tech_precision_avg_8_800 = tech_8_800[0]\n",
    "tech_recall_avg_8_800 = tech_8_800[1]\n",
    "row4.append(tech_precision_avg_8_800)\n",
    "row4.append(tech_recall_avg_8_800)\n",
    "\n",
    "tech_8_1010 = calculate_avg_precision_recall_for_category(tech_docs, 8, 1010)\n",
    "tech_precision_avg_8_1010 = tech_8_1010[0]\n",
    "tech_recall_avg_8_1010 = tech_8_1010[1]\n",
    "row5.append(tech_precision_avg_8_1010)\n",
    "row5.append(tech_recall_avg_8_1010)\n",
    "\n",
    "tech_8_1200 = calculate_avg_precision_recall_for_category(tech_docs, 8, 1200)\n",
    "tech_precision_avg_8_1200 = tech_8_1200[0]\n",
    "tech_recall_avg_8_1200 = tech_8_1200[1]\n",
    "row6.append(tech_precision_avg_8_1200)\n",
    "row6.append(tech_recall_avg_8_1200)\n",
    "\n",
    "tech_10_800 = calculate_avg_precision_recall_for_category(tech_docs, 10, 800)\n",
    "tech_precision_avg_10_800 = tech_10_800[0]\n",
    "tech_recall_avg_10_800 = tech_10_800[1]\n",
    "row7.append(tech_precision_avg_10_800)\n",
    "row7.append(tech_recall_avg_10_800)\n",
    "\n",
    "tech_10_1010 = calculate_avg_precision_recall_for_category(tech_docs, 10, 1010)\n",
    "tech_precision_avg_10_1010 = tech_10_1010[0]\n",
    "tech_recall_avg_10_1010 = tech_10_1010[1]\n",
    "row8.append(tech_precision_avg_10_1010)\n",
    "row8.append(tech_recall_avg_10_1010)\n",
    "\n",
    "tech_10_1200 = calculate_avg_precision_recall_for_category(tech_docs, 10, 1200)\n",
    "tech_precision_avg_10_1200 = tech_10_1200[0]\n",
    "tech_recall_avg_10_1200 = tech_10_1200[1]\n",
    "row9.append(tech_precision_avg_10_1200)\n",
    "row9.append(tech_recall_avg_10_1200)\n",
    "\n",
    "\n",
    "header = [\"p\", \"l\", \"all_docs_precision\", \"all_docs_recall\", \"business_precision\", \"business_recall\",\"entertainment_precision\", \"entertainment_recall\",\"politics_precision\", \"politics_recall\",\"sport_precision\", \"sport_recall\",\"tech_precision\", \"tech_recall\"]\n",
    "data = [row1, row2, row3, row4, row5, row6, row7, row8, row9]\n",
    "write_to_csv('precision_recall.csv', header, data)"
   ],
   "metadata": {
    "collapsed": false
   }
  },
  {
   "cell_type": "markdown",
   "metadata": {},
   "source": [
    "**...** (additional questions with empirical results)"
   ]
  },
  {
   "cell_type": "markdown",
   "source": [
    "<H3>Part III: Other caluclations to support the project</H3>"
   ],
   "metadata": {
    "collapsed": false
   }
  },
  {
   "cell_type": "code",
   "execution_count": null,
   "outputs": [],
   "source": [
    "# get average sentences and characters of the reference summaries\n",
    "from helper.documentHelper import read_files\n",
    "totalSentences = 0\n",
    "totalCharacters = 0\n",
    "totalDocuments = 0\n",
    "documents = read_files(False)\n",
    "\n",
    "for document in documents:\n",
    "    sentences = document.referenceSummary\n",
    "    totalSentences += len(sentences)\n",
    "    totalCharacters += len(\" \".join(sentences))\n",
    "    totalDocuments +=1\n",
    "\n",
    "print(\"avg sentences\", totalSentences / totalDocuments)\n",
    "print(\"avg characters\", totalCharacters /totalDocuments)"
   ],
   "metadata": {
    "collapsed": false,
    "pycharm": {
     "is_executing": true
    }
   }
  },
  {
   "cell_type": "markdown",
   "metadata": {},
   "source": [
    "<H3>END</H3>"
   ]
  }
 ],
 "metadata": {
  "kernelspec": {
   "display_name": "Python 3 (ipykernel)",
   "language": "python",
   "name": "python3"
  },
  "language_info": {
   "codemirror_mode": {
    "name": "ipython",
    "version": 3
   },
   "file_extension": ".py",
   "mimetype": "text/x-python",
   "name": "python",
   "nbconvert_exporter": "python",
   "pygments_lexer": "ipython3",
   "version": "3.10.7"
  }
 },
 "nbformat": 4,
 "nbformat_minor": 4
}
