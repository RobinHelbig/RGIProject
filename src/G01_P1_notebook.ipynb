{
 "cells": [
  {
   "cell_type": "markdown",
   "metadata": {},
   "source": [
    "<H3>PRI 2022: first project delivery</H3>"
   ]
  },
  {
   "cell_type": "markdown",
   "metadata": {},
   "source": [
    "**GROUP X**\n",
    "- name, number\n",
    "- name, number\n",
    "- name, number"
   ]
  },
  {
   "cell_type": "markdown",
   "metadata": {},
   "source": [
    "<H3>Part I: demo of facilities</H3>"
   ]
  },
  {
   "cell_type": "code",
   "execution_count": 1,
   "outputs": [],
   "source": [
    "from IPython.core.display import HTML\n",
    "\n",
    "#imports\n",
    "\n",
    "from mainFunctions.ranking import ranking\n",
    "from operator import attrgetter\n",
    "from helper.documentHelper import read_files\n",
    "from mainFunctions.indexing import indexing\n",
    "from src.helper.mockDataVisualize import transfer_function_output_ranking\n",
    "from src.mainFunctions.evaluation import calculate_true_pos, calculate_precision_recall, calculate_fbeta_measure, \\\n",
    "    calculate_precision_recall_tables_and_MAP_param, draw_precision_recall_curve\n",
    "from src.mainFunctions.visualize import run_visualize"
   ],
   "metadata": {
    "collapsed": false
   }
  },
  {
   "cell_type": "markdown",
   "metadata": {},
   "source": [
    "**A) Indexing facilities**"
   ]
  },
  {
   "cell_type": "markdown",
   "metadata": {},
   "source": [
    "*A.1 Preprocessing options: statistics*"
   ]
  },
  {
   "cell_type": "code",
   "execution_count": 2,
   "metadata": {},
   "outputs": [],
   "source": [
    "#rare, most common terms\n"
   ]
  },
  {
   "cell_type": "markdown",
   "metadata": {},
   "source": [
    "*A.2 Indexing statistics*"
   ]
  },
  {
   "cell_type": "code",
   "execution_count": 3,
   "metadata": {},
   "outputs": [],
   "source": [
    "#code, statistics and/or charts here\n",
    "#time, memory"
   ]
  },
  {
   "cell_type": "markdown",
   "metadata": {},
   "source": [
    "**B) Ranking facilities**"
   ]
  },
  {
   "cell_type": "code",
   "execution_count": 4,
   "outputs": [
    {
     "name": "stdout",
     "output_type": "stream",
     "text": [
      "Warning: parsing empty text\n",
      "['\"Although it is commonly assumed on the basis of anecdotal evidence that disasters result in business failures and bankruptcies on a large scale, our research indicates that most businesses, even those that are especially hard-hit, do indeed recover,\" the authors concluded.', 'The need to find money to replace lost and damaged property is balanced by the beneficial effect of reconstruction activity; there is rarely, the centre says, any sort of rebuilding boom, but in most cases sizeable indirect losses are avoided.', 'The overwhelming majority of the victims will have had no insurance: according to estimates from India, only one-quarter of those affected there were wealthy enough to afford insurance, and only one-quarter of that group at most will have taken out policies.', 'The MSCI World share index, a measure of global stock market performance, hit its highest level this week since early 2001; the BBC Global 30 has risen by 3% in the past week.', 'A study of the 1993 Des Moines floods, from the Disaster Research Center at the University of Delaware*, found that 70% of local businesses were no worse off after the disaster, and another 18% felt themselves better off.', 'Stock markets in Indonesia and India have hit all-time highs this week; even in Sri Lanka, more comprehensively affected, the main index has lost only 5% since the waves hit.', 'And where insurance certainly is in place - in, for example, the many tourist complexes affected - the costs will be borne in far-away corners of the global reinsurance market, rather than landing locally.', 'A series of recent shocks, the Colorado centre has argued, have demonstrated that this seamless global contagion hardly ever happens: market tremors rarely translate into economic slumps, and economic woes rarely seriously undermine markets.']\n",
      "\n",
      "\n",
      "['\"Although it is commonly assumed on the basis of anecdotal evidence that disasters result in business failures and bankruptcies on a large scale, our research indicates that most businesses, even those that are especially hard-hit, do indeed recover,\" the authors concluded.', 'The need to find money to replace lost and damaged property is balanced by the beneficial effect of reconstruction activity; there is rarely, the centre says, any sort of rebuilding boom, but in most cases sizeable indirect losses are avoided.', 'A study of the 1993 Des Moines floods, from the Disaster Research Center at the University of Delaware*, found that 70% of local businesses were no worse off after the disaster, and another 18% felt themselves better off.', 'The overwhelming majority of the victims will have had no insurance: according to estimates from India, only one-quarter of those affected there were wealthy enough to afford insurance, and only one-quarter of that group at most will have taken out policies.', 'A series of recent shocks, the Colorado centre has argued, have demonstrated that this seamless global contagion hardly ever happens: market tremors rarely translate into economic slumps, and economic woes rarely seriously undermine markets.', 'The MSCI World share index, a measure of global stock market performance, hit its highest level this week since early 2001; the BBC Global 30 has risen by 3% in the past week.', 'And this at a time when - all sentiment aside - insurance costs are already estimated in the tens of billions of dollars, and countries around the region are looking at trimming their growth forecasts.', 'And where insurance certainly is in place - in, for example, the many tourist complexes affected - the costs will be borne in far-away corners of the global reinsurance market, rather than landing locally.']\n"
     ]
    }
   ],
   "source": [
    "# load files\n",
    "\n",
    "order_ranked = True\n",
    "text_processing = True\n",
    "max_sent = 8\n",
    "max_chars = 1010\n",
    "documents = read_files(text_processing, [\"business\"])\n",
    "\n",
    "corpus_index = indexing(list(map(attrgetter('text_terms'), documents)))\n",
    "corpus_idfs: {str: float} = {}\n",
    "\n",
    "for v in corpus_index:\n",
    "    corpus_idfs[v] = corpus_index[v].inverted_document_frequency\n",
    "\n",
    "document = documents[32]\n",
    "\n",
    "summary_tf = ranking(document, max_sent, max_chars, order_ranked, corpus_idfs, {\"rank_option\": \"tf\", \"mmr\": False})\n",
    "summary_tfidf = ranking(document, max_sent, max_chars, order_ranked, corpus_idfs, {\"rank_option\": \"tf-idf\", \"mmr\": False})\n",
    "summary_bm25 = ranking(document, max_sent, max_chars, order_ranked, corpus_idfs, {\"rank_option\": \"bm25\", \"mmr\": False})\n",
    "summary_rrf = ranking(document, max_sent, max_chars, order_ranked, corpus_idfs, {\"rank_option\": \"rrf\", \"mmr\": False})\n",
    "summary_mmr = ranking(document, max_sent, max_chars, order_ranked, corpus_idfs, {\"rank_option\": \"tf-idf\", \"mmr\": True})\n",
    "\n",
    "print(summary_tf)\n",
    "print(\"\\n\")\n",
    "print(summary_tfidf)"
   ],
   "metadata": {
    "collapsed": false
   }
  },
  {
   "cell_type": "markdown",
   "metadata": {},
   "source": [
    "*B.1 Summarization solution: results for a given document*"
   ]
  },
  {
   "cell_type": "code",
   "execution_count": 5,
   "metadata": {},
   "outputs": [
    {
     "name": "stdout",
     "output_type": "stream",
     "text": [
      "TF Ranking\n",
      "Precision:  0.5\n",
      "Recall:  0.2857142857142857\n",
      "F-beta:  0.4347826086956521\n",
      "MAP:  0.4303571428571428\n"
     ]
    },
    {
     "name": "stderr",
     "output_type": "stream",
     "text": [
      "/Users/robinhelbig/Dev/Semester 3/RGI/Project/src/mainFunctions/evaluation.py:91: UserWarning: color is redundantly defined by the 'color' keyword argument and the fmt string \"k-\" (-> color='k'). The keyword argument will take precedence.\n",
      "  ax.plot((r[i],\n",
      "/Users/robinhelbig/Dev/Semester 3/RGI/Project/src/mainFunctions/evaluation.py:93: UserWarning: color is redundantly defined by the 'color' keyword argument and the fmt string \"k-\" (-> color='k'). The keyword argument will take precedence.\n",
      "  ax.plot((r[i], r[i + 1]), (p[i + 1], p[i + 1]), 'k-', label='', color='red')\n",
      "/Users/robinhelbig/Dev/Semester 3/RGI/Project/src/mainFunctions/evaluation.py:95: UserWarning: color is redundantly defined by the 'color' keyword argument and the fmt string \"k--\" (-> color='k'). The keyword argument will take precedence.\n",
      "  ax.plot(r, dup_p, 'k--', color='blue')\n",
      "/Users/robinhelbig/Dev/PythonInterpreter/lib/python3.10/site-packages/IPython/core/pylabtools.py:151: UserWarning: This figure includes Axes that are not compatible with tight_layout, so results might be incorrect.\n",
      "  fig.canvas.print_figure(bytes_io, **kw)\n"
     ]
    },
    {
     "data": {
      "text/plain": "<Figure size 750x350 with 1 Axes>",
      "image/png": "[encoded data removed]"
     },
     "metadata": {},
     "output_type": "display_data"
    }
   ],
   "source": [
    "document.summary = summary_tf\n",
    "\n",
    "TP = calculate_true_pos(document)\n",
    "precision, recall = calculate_precision_recall(document.referenceSummary, document.summary, TP)\n",
    "fbeta = calculate_fbeta_measure(precision, recall)\n",
    "recall_table, precision_table, MAP = calculate_precision_recall_tables_and_MAP_param(document.summary, TP)\n",
    "precision_recall_tuple = (recall_table, precision_table)\n",
    "\n",
    "print(\"TF Ranking\")\n",
    "print(\"Precision: \", precision)\n",
    "print(\"Recall: \", recall)\n",
    "print(\"F-beta: \", fbeta)\n",
    "print(\"MAP: \", MAP)\n",
    "draw_precision_recall_curve(precision_recall_tuple)"
   ]
  },
  {
   "cell_type": "markdown",
   "metadata": {},
   "source": [
    "*B.2 Classic IR models: differences*"
   ]
  },
  {
   "cell_type": "code",
   "execution_count": 6,
   "metadata": {},
   "outputs": [
    {
     "name": "stdout",
     "output_type": "stream",
     "text": [
      "TF-IDF Ranking\n",
      "Precision:  0.375\n",
      "Recall:  0.21428571428571427\n",
      "F-beta:  0.3260869565217391\n",
      "MAP:  0.34722222222222215\n",
      "\n",
      "\n",
      "BM25 Ranking\n",
      "Precision:  0.375\n",
      "Recall:  0.21428571428571427\n",
      "F-beta:  0.3260869565217391\n",
      "MAP:  0.7000000000000001\n"
     ]
    }
   ],
   "source": [
    "document.summary = summary_tfidf\n",
    "\n",
    "TP = calculate_true_pos(document)\n",
    "precision, recall = calculate_precision_recall(document.referenceSummary, document.summary, TP)\n",
    "fbeta = calculate_fbeta_measure(precision, recall)\n",
    "_, _, MAP = calculate_precision_recall_tables_and_MAP_param(document.summary, TP)\n",
    "\n",
    "print(\"TF-IDF Ranking\")\n",
    "print(\"Precision: \", precision)\n",
    "print(\"Recall: \", recall)\n",
    "print(\"F-beta: \", fbeta)\n",
    "print(\"MAP: \", MAP)\n",
    "\n",
    "document.summary = summary_bm25\n",
    "\n",
    "TP = calculate_true_pos(document)\n",
    "precision, recall = calculate_precision_recall(document.referenceSummary, document.summary, TP)\n",
    "fbeta = calculate_fbeta_measure(precision, recall)\n",
    "_, _, MAP = calculate_precision_recall_tables_and_MAP_param(document.summary, TP)\n",
    "\n",
    "print(\"\\n\")\n",
    "print(\"BM25 Ranking\")\n",
    "print(\"Precision: \", precision)\n",
    "print(\"Recall: \", recall)\n",
    "print(\"F-beta: \", fbeta)\n",
    "print(\"MAP: \", MAP)"
   ]
  },
  {
   "cell_type": "markdown",
   "metadata": {},
   "source": [
    "*B.3 Reciprocal rank funsion*"
   ]
  },
  {
   "cell_type": "code",
   "execution_count": 7,
   "metadata": {},
   "outputs": [
    {
     "name": "stdout",
     "output_type": "stream",
     "text": [
      "RRF Ranking\n",
      "Precision:  0.5\n",
      "Recall:  0.2857142857142857\n",
      "F-beta:  0.4347826086956521\n",
      "MAP:  0.4583333333333333\n"
     ]
    }
   ],
   "source": [
    "document.summary = summary_rrf\n",
    "\n",
    "TP = calculate_true_pos(document)\n",
    "precision, recall = calculate_precision_recall(document.referenceSummary, document.summary, TP)\n",
    "fbeta = calculate_fbeta_measure(precision, recall)\n",
    "_, _, MAP = calculate_precision_recall_tables_and_MAP_param(document.summary, TP)\n",
    "\n",
    "print(\"RRF Ranking\")\n",
    "print(\"Precision: \", precision)\n",
    "print(\"Recall: \", recall)\n",
    "print(\"F-beta: \", fbeta)\n",
    "print(\"MAP: \", MAP)"
   ]
  },
  {
   "cell_type": "markdown",
   "metadata": {},
   "source": [
    "*B.4 Maximal Marginal Relevance*"
   ]
  },
  {
   "cell_type": "code",
   "execution_count": 8,
   "metadata": {},
   "outputs": [],
   "source": [
    "document.summary = summary_mmr\n",
    "\n",
    "TP = calculate_true_pos(document)\n",
    "precision, recall = calculate_precision_recall(document.referenceSummary, document.summary, TP)\n",
    "fbeta = calculate_fbeta_measure(precision, recall)\n",
    "_, _, MAP = calculate_precision_recall_tables_and_MAP_param(document.summary, TP)\n",
    "\n",
    "print(\"MMR Ranking\")\n",
    "print(\"Precision: \", precision)\n",
    "print(\"Recall: \", recall)\n",
    "print(\"F-beta: \", fbeta)\n",
    "print(\"MAP: \", MAP)"
   ]
  },
  {
   "cell_type": "markdown",
   "metadata": {},
   "source": [
    "**C) Sentence higlighting facilities**"
   ]
  },
  {
   "cell_type": "markdown",
   "source": [],
   "metadata": {
    "collapsed": false
   }
  },
  {
   "cell_type": "code",
   "execution_count": 9,
   "metadata": {},
   "outputs": [
    {
     "data": {
      "text/plain": "<IPython.core.display.HTML object>",
      "text/html": "<html>\n    <head>\n    <title>summaries/summary1</title>\n    </head> \n    <body>\n    <p>The market, former British government minister Michael Heseltine once said, has no morality.And indeed, stock exchange traders around Asia have wasted little time regretting the victims of this week's disaster.<b> <span style=\"color:orange;\">Stock markets in Indonesia and India have hit all-time highs this week; even in Sri Lanka, more comprehensively affected, the main index has lost only 5% since the waves hit.</span></b>Bigger markets further afield have barely twitched.<b> <span style=\"color:orange;\">The MSCI World share index, a measure of global stock market performance, hit its highest level this week since early 2001; the BBC Global 30 has risen by 3% in the past week.</span></b>And this at a time when - all sentiment aside - insurance costs are already estimated in the tens of billions of dollars, and countries around the region are looking at trimming their growth forecasts.In fact, the markets are being perfectly rational.For a start, the notional insurance cost of the disaster will have little bearing on corporate bottom lines.<b> <span style=\"color:orange;\">The overwhelming majority of the victims will have had no insurance: according to estimates from India, only one-quarter of those affected there were wealthy enough to afford insurance, and only one-quarter of that group at most will have taken out policies.</span></b>Indonesia is likely to have even lower take-up rates.<b> <span style=\"color:orange;\">And where insurance certainly is in place - in, for example, the many tourist complexes affected - the costs will be borne in far-away corners of the global reinsurance market, rather than landing locally.</span></b>Second, stock markets do not trade the sort of companies likely to have been damaged.Most of the biggest companies traded on the soaring Jakarta Stock Exchange are in oil, technology and financial services - none of which have been hit by the flooding.Tourist businesses, the most likely sufferers, are either foreign-owned or too small to have their shares listed.Those that are listed have suffered: Confifi Hotel Holdings, a small Sri Lankan tourism firm, has halved in value this week.But there are winners as well as losers.Asian stock markets are heavily inclined towards property and construction companies, many of which will be rubbing their hands over the reconstruction opportunities.In Indonesia, shares in state construction companies Adhi Karya and Semen Gresik have jumped sharply this week.More broadly, the academic consensus is that major disasters are largely neutral in their longer-term economic impact.According to the Natural Hazards Research and Applications Information Center at Colorado State University, there is little evidence that disasters are inevitably followed by a depression.<b> <span style=\"color:orange;\">The need to find money to replace lost and damaged property is balanced by the beneficial effect of reconstruction activity; there is rarely, the centre says, any sort of rebuilding boom, but in most cases sizeable indirect losses are avoided.</span></b><b> <span style=\"color:orange;\">A study of the 1993 Des Moines floods, from the Disaster Research Center at the University of Delaware*, found that 70% of local businesses were no worse off after the disaster, and another 18% felt themselves better off.</span></b><b> <span style=\"color:orange;\">\"Although it is commonly assumed on the basis of anecdotal evidence that disasters result in business failures and bankruptcies on a large scale, our research indicates that most businesses, even those that are especially hard-hit, do indeed recover,\" the authors concluded.</span></b>But disasters have a vast psychological impact, and markets are driven by psychological factors.In particular, many analysts warn of panic spreading unchecked through the global financial system, as investors seek to cover themselves against the unforeseeable effects of unguessable events.In fact, again, the risks here are lower than they seem.Even the costliest natural disaster is rendered minuscule by the global capital market - currently $30 trillion and rising.<b> <span style=\"color:orange;\">A series of recent shocks, the Colorado centre has argued, have demonstrated that this seamless global contagion hardly ever happens: market tremors rarely translate into economic slumps, and economic woes rarely seriously undermine markets.</span></b>The trillion-dollar debts of Japan's banks, for example, have had no effect on stock markets further afield than Tokyo.And the US stock market was on its way down long before 11 September, 2001; it rose by 20% during the six months following the attacks.\"It is not that the broking community is indifferent to disasters or feelings,\" one Bombay trader said this week.\"But the reaction would have been seen if business had been affected.Business sense probably tends to overrule everything else.\"</p> \n    </body>\n    </html>"
     },
     "execution_count": 9,
     "metadata": {},
     "output_type": "execute_result"
    }
   ],
   "source": [
    "dict = transfer_function_output_ranking(document.text_sentences, summary_tf)\n",
    "doc_path = \"summaries/summary1\"\n",
    "run_visualize(doc_path, dict, 3)\n",
    "HTML(filename=doc_path + \".html\")"
   ]
  },
  {
   "cell_type": "code",
   "execution_count": 10,
   "outputs": [
    {
     "data": {
      "text/plain": "<IPython.core.display.HTML object>",
      "text/html": "<html>\n    <head>\n    <title>summaries/summary2</title>\n    </head> \n    <body>\n    <p>The market, former British government minister Michael Heseltine once said, has no morality.And indeed, stock exchange traders around Asia have wasted little time regretting the victims of this week's disaster.Stock markets in Indonesia and India have hit all-time highs this week; even in Sri Lanka, more comprehensively affected, the main index has lost only 5% since the waves hit.Bigger markets further afield have barely twitched.<b> <span style=\"color:orange;\">The MSCI World share index, a measure of global stock market performance, hit its highest level this week since early 2001; the BBC Global 30 has risen by 3% in the past week.</span></b><b> <span style=\"color:orange;\">And this at a time when - all sentiment aside - insurance costs are already estimated in the tens of billions of dollars, and countries around the region are looking at trimming their growth forecasts.</span></b>In fact, the markets are being perfectly rational.For a start, the notional insurance cost of the disaster will have little bearing on corporate bottom lines.<b> <span style=\"color:orange;\">The overwhelming majority of the victims will have had no insurance: according to estimates from India, only one-quarter of those affected there were wealthy enough to afford insurance, and only one-quarter of that group at most will have taken out policies.</span></b>Indonesia is likely to have even lower take-up rates.<b> <span style=\"color:orange;\">And where insurance certainly is in place - in, for example, the many tourist complexes affected - the costs will be borne in far-away corners of the global reinsurance market, rather than landing locally.</span></b>Second, stock markets do not trade the sort of companies likely to have been damaged.Most of the biggest companies traded on the soaring Jakarta Stock Exchange are in oil, technology and financial services - none of which have been hit by the flooding.Tourist businesses, the most likely sufferers, are either foreign-owned or too small to have their shares listed.Those that are listed have suffered: Confifi Hotel Holdings, a small Sri Lankan tourism firm, has halved in value this week.But there are winners as well as losers.Asian stock markets are heavily inclined towards property and construction companies, many of which will be rubbing their hands over the reconstruction opportunities.In Indonesia, shares in state construction companies Adhi Karya and Semen Gresik have jumped sharply this week.More broadly, the academic consensus is that major disasters are largely neutral in their longer-term economic impact.According to the Natural Hazards Research and Applications Information Center at Colorado State University, there is little evidence that disasters are inevitably followed by a depression.<b> <span style=\"color:orange;\">The need to find money to replace lost and damaged property is balanced by the beneficial effect of reconstruction activity; there is rarely, the centre says, any sort of rebuilding boom, but in most cases sizeable indirect losses are avoided.</span></b><b> <span style=\"color:orange;\">A study of the 1993 Des Moines floods, from the Disaster Research Center at the University of Delaware*, found that 70% of local businesses were no worse off after the disaster, and another 18% felt themselves better off.</span></b><b> <span style=\"color:orange;\">\"Although it is commonly assumed on the basis of anecdotal evidence that disasters result in business failures and bankruptcies on a large scale, our research indicates that most businesses, even those that are especially hard-hit, do indeed recover,\" the authors concluded.</span></b>But disasters have a vast psychological impact, and markets are driven by psychological factors.In particular, many analysts warn of panic spreading unchecked through the global financial system, as investors seek to cover themselves against the unforeseeable effects of unguessable events.In fact, again, the risks here are lower than they seem.Even the costliest natural disaster is rendered minuscule by the global capital market - currently $30 trillion and rising.<b> <span style=\"color:orange;\">A series of recent shocks, the Colorado centre has argued, have demonstrated that this seamless global contagion hardly ever happens: market tremors rarely translate into economic slumps, and economic woes rarely seriously undermine markets.</span></b>The trillion-dollar debts of Japan's banks, for example, have had no effect on stock markets further afield than Tokyo.And the US stock market was on its way down long before 11 September, 2001; it rose by 20% during the six months following the attacks.\"It is not that the broking community is indifferent to disasters or feelings,\" one Bombay trader said this week.\"But the reaction would have been seen if business had been affected.Business sense probably tends to overrule everything else.\"</p> \n    </body>\n    </html>"
     },
     "execution_count": 10,
     "metadata": {},
     "output_type": "execute_result"
    }
   ],
   "source": [
    "dict = transfer_function_output_ranking(document.text_sentences, summary_tfidf)\n",
    "doc_path = \"summaries/summary2\"\n",
    "run_visualize(doc_path, dict, 3)\n",
    "HTML(filename=doc_path + \".html\")"
   ],
   "metadata": {
    "collapsed": false
   }
  },
  {
   "cell_type": "code",
   "execution_count": 11,
   "outputs": [
    {
     "data": {
      "text/plain": "<IPython.core.display.HTML object>",
      "text/html": "<html>\n    <head>\n    <title>summaries/summary3</title>\n    </head> \n    <body>\n    <p>The market, former British government minister Michael Heseltine once said, has no morality.And indeed, stock exchange traders around Asia have wasted little time regretting the victims of this week's disaster.<b> <span style=\"color:orange;\">Stock markets in Indonesia and India have hit all-time highs this week; even in Sri Lanka, more comprehensively affected, the main index has lost only 5% since the waves hit.</span></b>Bigger markets further afield have barely twitched.<b> <span style=\"color:orange;\">The MSCI World share index, a measure of global stock market performance, hit its highest level this week since early 2001; the BBC Global 30 has risen by 3% in the past week.</span></b>And this at a time when - all sentiment aside - insurance costs are already estimated in the tens of billions of dollars, and countries around the region are looking at trimming their growth forecasts.In fact, the markets are being perfectly rational.For a start, the notional insurance cost of the disaster will have little bearing on corporate bottom lines.<b> <span style=\"color:orange;\">The overwhelming majority of the victims will have had no insurance: according to estimates from India, only one-quarter of those affected there were wealthy enough to afford insurance, and only one-quarter of that group at most will have taken out policies.</span></b>Indonesia is likely to have even lower take-up rates.And where insurance certainly is in place - in, for example, the many tourist complexes affected - the costs will be borne in far-away corners of the global reinsurance market, rather than landing locally.Second, stock markets do not trade the sort of companies likely to have been damaged.Most of the biggest companies traded on the soaring Jakarta Stock Exchange are in oil, technology and financial services - none of which have been hit by the flooding.Tourist businesses, the most likely sufferers, are either foreign-owned or too small to have their shares listed.Those that are listed have suffered: Confifi Hotel Holdings, a small Sri Lankan tourism firm, has halved in value this week.But there are winners as well as losers.Asian stock markets are heavily inclined towards property and construction companies, many of which will be rubbing their hands over the reconstruction opportunities.In Indonesia, shares in state construction companies Adhi Karya and Semen Gresik have jumped sharply this week.More broadly, the academic consensus is that major disasters are largely neutral in their longer-term economic impact.<b> <span style=\"color:orange;\">According to the Natural Hazards Research and Applications Information Center at Colorado State University, there is little evidence that disasters are inevitably followed by a depression.</span></b><b> <span style=\"color:orange;\">The need to find money to replace lost and damaged property is balanced by the beneficial effect of reconstruction activity; there is rarely, the centre says, any sort of rebuilding boom, but in most cases sizeable indirect losses are avoided.</span></b><b> <span style=\"color:orange;\">A study of the 1993 Des Moines floods, from the Disaster Research Center at the University of Delaware*, found that 70% of local businesses were no worse off after the disaster, and another 18% felt themselves better off.</span></b><b> <span style=\"color:orange;\">\"Although it is commonly assumed on the basis of anecdotal evidence that disasters result in business failures and bankruptcies on a large scale, our research indicates that most businesses, even those that are especially hard-hit, do indeed recover,\" the authors concluded.</span></b>But disasters have a vast psychological impact, and markets are driven by psychological factors.In particular, many analysts warn of panic spreading unchecked through the global financial system, as investors seek to cover themselves against the unforeseeable effects of unguessable events.In fact, again, the risks here are lower than they seem.Even the costliest natural disaster is rendered minuscule by the global capital market - currently $30 trillion and rising.<b> <span style=\"color:orange;\">A series of recent shocks, the Colorado centre has argued, have demonstrated that this seamless global contagion hardly ever happens: market tremors rarely translate into economic slumps, and economic woes rarely seriously undermine markets.</span></b>The trillion-dollar debts of Japan's banks, for example, have had no effect on stock markets further afield than Tokyo.And the US stock market was on its way down long before 11 September, 2001; it rose by 20% during the six months following the attacks.\"It is not that the broking community is indifferent to disasters or feelings,\" one Bombay trader said this week.\"But the reaction would have been seen if business had been affected.Business sense probably tends to overrule everything else.\"</p> \n    </body>\n    </html>"
     },
     "execution_count": 11,
     "metadata": {},
     "output_type": "execute_result"
    }
   ],
   "source": [
    "dict = transfer_function_output_ranking(document.text_sentences, summary_bm25)\n",
    "doc_path = \"summaries/summary3\"\n",
    "run_visualize(doc_path, dict, 3)\n",
    "HTML(filename=doc_path + \".html\")"
   ],
   "metadata": {
    "collapsed": false
   }
  },
  {
   "cell_type": "markdown",
   "metadata": {},
   "source": [
    "**D) Evaluation facilities**"
   ]
  },
  {
   "cell_type": "markdown",
   "metadata": {},
   "source": [
    "*D.1 Evaluation options*"
   ]
  },
  {
   "cell_type": "code",
   "execution_count": 12,
   "metadata": {},
   "outputs": [],
   "source": [
    "#code, statistics and/or charts here"
   ]
  },
  {
   "cell_type": "markdown",
   "metadata": {},
   "source": [
    "*D.2 Comparison of settings (IR models, preprocessing)*"
   ]
  },
  {
   "cell_type": "code",
   "execution_count": 13,
   "metadata": {},
   "outputs": [],
   "source": [
    "#code, statistics and/or charts here"
   ]
  },
  {
   "cell_type": "markdown",
   "metadata": {},
   "source": [
    "<H3>Part II: questions materials (optional)</H3>"
   ]
  },
  {
   "cell_type": "markdown",
   "metadata": {},
   "source": [
    "**(a)** Corpus and summary description. Distribution of informative terms before and after text processing."
   ]
  },
  {
   "cell_type": "code",
   "execution_count": 14,
   "metadata": {},
   "outputs": [],
   "source": [
    "#code, statistics and/or charts here"
   ]
  },
  {
   "cell_type": "markdown",
   "metadata": {},
   "source": [
    "**(b)** Summarization performance for the overall and category-conditional corpora."
   ]
  },
  {
   "cell_type": "code",
   "execution_count": 15,
   "metadata": {},
   "outputs": [],
   "source": [
    "#code, statistics and/or charts here"
   ]
  },
  {
   "cell_type": "markdown",
   "metadata": {},
   "source": [
    "**...** (additional questions with empirical results)"
   ]
  },
  {
   "cell_type": "markdown",
   "source": [
    "<H3>Part III: Other caluclations to support the project</H3>"
   ],
   "metadata": {
    "collapsed": false
   }
  },
  {
   "cell_type": "code",
   "execution_count": 16,
   "outputs": [
    {
     "name": "stdout",
     "output_type": "stream",
     "text": [
      "avg sentences 7.893483146067416\n",
      "avg characters 1008.9977528089887\n"
     ]
    }
   ],
   "source": [
    "# get average sentences and characters of the reference summaries\n",
    "from helper.documentHelper import read_files\n",
    "totalSentences = 0\n",
    "totalCharacters = 0\n",
    "totalDocuments = 0\n",
    "documents = read_files(False)\n",
    "\n",
    "for document in documents:\n",
    "    sentences = document.referenceSummary\n",
    "    totalSentences += len(sentences)\n",
    "    totalCharacters += len(\" \".join(sentences))\n",
    "    totalDocuments +=1\n",
    "\n",
    "print(\"avg sentences\", totalSentences / totalDocuments)\n",
    "print(\"avg characters\", totalCharacters /totalDocuments)"
   ],
   "metadata": {
    "collapsed": false
   }
  },
  {
   "cell_type": "markdown",
   "metadata": {},
   "source": [
    "<H3>END</H3>"
   ]
  }
 ],
 "metadata": {
  "kernelspec": {
   "display_name": "Python 3 (ipykernel)",
   "language": "python",
   "name": "python3"
  },
  "language_info": {
   "codemirror_mode": {
    "name": "ipython",
    "version": 3
   },
   "file_extension": ".py",
   "mimetype": "text/x-python",
   "name": "python",
   "nbconvert_exporter": "python",
   "pygments_lexer": "ipython3",
   "version": "3.10.7"
  }
 },
 "nbformat": 4,
 "nbformat_minor": 4
}
