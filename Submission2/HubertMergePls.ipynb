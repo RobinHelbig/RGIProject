{
 "metadata": {
  "language_info": {
   "codemirror_mode": {
    "name": "python",
    "version": 3
   },
   "file_extension": ".py",
   "mimetype": "text/x-python",
   "name": "python",
   "nbconvert_exporter": "python",
   "pygments_lexer": "ipython3",
   "version": "3.8"
  },
  "kernelspec": {
   "name": "python",
   "display_name": "Python (Pyodide)",
   "language": "python"
  }
 },
 "nbformat_minor": 4,
 "nbformat": 4,
 "cells": [
  {
   "cell_type": "code",
   "source": [
    "from mainFunctions.relevance.extraction import check_accuracy_documents_knn_idf, check_accuracy_documents_knn_no_idf, \\\n",
    "    check_accuracy_documents_bayes_no_idf, check_accuracy_documents_bayes_idf, feature_extraction_tf_idf, \\\n",
    "    map_vectors_to_data_frame, naive_bayes, knn_model, check_accuracy, check_accuracy_documents_bayes_no_idf_position, \\\n",
    "    check_accuracy_documents_bayes_idf_position, check_accuracy_documents_bayes_idf_cosine, check_accuracy_documents_bayes_no_idf_cosine\n",
    "import numpy as np\n",
    "from helper.documentHelper import read_files"
   ],
   "metadata": {},
   "execution_count": null,
   "outputs": []
  },
  {
   "cell_type": "code",
   "source": [
    "# loading documents"
   ],
   "metadata": {},
   "execution_count": null,
   "outputs": []
  },
  {
   "cell_type": "code",
   "source": [
    "text_processing = True\n",
    "np.warnings.filterwarnings('ignore', category=np.VisibleDeprecationWarning)\n",
    "documents = read_files(text_processing)"
   ],
   "metadata": {},
   "execution_count": null,
   "outputs": []
  },
  {
   "cell_type": "code",
   "source": [
    "# Feature vector extraction "
   ],
   "metadata": {},
   "execution_count": null,
   "outputs": []
  },
  {
   "cell_type": "code",
   "source": [
    "vectors = feature_extraction_tf_idf(documents[0], True)\n",
    "vectors_no_idf = feature_extraction_tf_idf(documents[0], False)\n",
    "print(vectors[0].to_string() + \"\\n\" + vectors[1].to_string() + \"\\n\" + vectors[2].to_string())\n",
    "print(vectors_no_idf[0].to_string() + \"\\n\" + vectors_no_idf[1].to_string()+ \"\\n\" + vectors_no_idf[2].to_string())"
   ],
   "metadata": {},
   "execution_count": null,
   "outputs": []
  },
  {
   "cell_type": "code",
   "source": [
    "# Transform to wanted data structure"
   ],
   "metadata": {},
   "execution_count": null,
   "outputs": []
  },
  {
   "cell_type": "code",
   "source": [
    "(data_bayes_idf, output_bayes_idf) = map_vectors_to_data_frame(vectors)\n",
    "(data_bayes_no_idf, output_bayes_no_idf) = map_vectors_to_data_frame(vectors_no_idf)\n",
    "(data_knn_idf, output_knn_idf) = map_vectors_to_data_frame(vectors)\n",
    "(data_knn_no_idf, output_knn_no_idf) = map_vectors_to_data_frame(vectors_no_idf)"
   ],
   "metadata": {},
   "execution_count": null,
   "outputs": []
  },
  {
   "cell_type": "code",
   "source": [
    "# Training"
   ],
   "metadata": {},
   "execution_count": null,
   "outputs": []
  },
  {
   "cell_type": "code",
   "source": [
    "bayes_idf_model, X_train1, X_test1, y_train1, y_test1 = naive_bayes(data_bayes_idf, output_bayes_idf)\n",
    "bayes_no_idf_model, X_train2, X_test2, y_train2, y_test2 = naive_bayes(data_bayes_no_idf, output_bayes_no_idf)\n",
    "knn_received_model, X_train3, X_test3, y_train3, y_test3 = knn_model(data_knn_no_idf, output_knn_no_idf)\n",
    "knn_idf_model, X_train4, X_test4, y_train4, y_test4 = knn_model(data_knn_idf, output_knn_idf)"
   ],
   "metadata": {},
   "execution_count": null,
   "outputs": []
  },
  {
   "cell_type": "code",
   "source": [
    "# Classifying"
   ],
   "metadata": {},
   "execution_count": null,
   "outputs": []
  },
  {
   "cell_type": "code",
   "source": [
    "print(check_accuracy(bayes_idf_model,X_test1, y_test1))\n",
    "print(check_accuracy(bayes_no_idf_model,X_test2, y_test2))\n",
    "print(check_accuracy(knn_received_model,X_test3, y_test3))\n",
    "print(check_accuracy(knn_idf_model,X_test4, y_test4))"
   ],
   "metadata": {},
   "execution_count": null,
   "outputs": []
  },
  {
   "cell_type": "code",
   "source": [
    "# Evaluate"
   ],
   "metadata": {},
   "execution_count": null,
   "outputs": []
  },
  {
   "cell_type": "code",
   "source": [
    "check_accuracy_documents_bayes_no_idf(documents)\n",
    "check_accuracy_documents_bayes_idf(documents)\n",
    "check_accuracy_documents_knn_idf(documents)\n",
    "check_accuracy_documents_knn_no_idf(documents)"
   ],
   "metadata": {},
   "execution_count": null,
   "outputs": []
  },
  {
   "cell_type": "code",
   "source": [
    "# Question 2.3"
   ],
   "metadata": {},
   "execution_count": null,
   "outputs": []
  },
  {
   "cell_type": "code",
   "source": [
    "check_accuracy_documents_bayes_idf_position(documents)\n",
    "check_accuracy_documents_bayes_idf_cosine(documents)\n",
    "check_accuracy_documents_bayes_no_idf_cosine(documents)\n",
    "check_accuracy_documents_bayes_no_idf_position(documents)"
   ],
   "metadata": {},
   "execution_count": null,
   "outputs": []
  }
 ]
}
