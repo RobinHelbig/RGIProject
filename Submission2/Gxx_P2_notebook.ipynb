{
 "cells": [
  {
   "cell_type": "markdown",
   "metadata": {},
   "source": [
    "<H3>PRI 2022: second\n",
    "    project delivery</H3>"
   ]
  },
  {
   "cell_type": "markdown",
   "metadata": {},
   "source": [
    "**GROUP 1**\n",
    "- Robin Helbig, ist1105007\n",
    "- Karolina Kowalczyk, ist1105122\n",
    "- Hubert Budny, ist1105348"
   ]
  },
  {
   "cell_type": "markdown",
   "metadata": {},
   "source": [
    "<H2>Main facilities</H2>"
   ]
  },
  {
   "cell_type": "markdown",
   "metadata": {},
   "source": [
    "<h3>Part I: clustering</h3>"
   ]
  },
  {
   "cell_type": "markdown",
   "source": [
    "*Load documents*"
   ],
   "metadata": {
    "collapsed": false
   }
  },
  {
   "cell_type": "code",
   "execution_count": 1,
   "outputs": [],
   "source": [
    "from helper.documentHelper import read_files, intToCategory\n",
    "from mainFunctions.clustering.clustering import clustering\n",
    "from mainFunctions.clustering.evaluate import evaluate\n",
    "from mainFunctions.clustering.interpret import interpret\n",
    "from mainFunctions.clustering.evaluate import plot_dendrogram\n",
    "\n",
    "text_processing = True\n",
    "documents = read_files(text_processing)\n",
    "\n",
    "args = {'n_clusters': 5, 'max_df': 0.1, 'criteria': 'mean'}"
   ],
   "metadata": {
    "collapsed": false
   }
  },
  {
   "cell_type": "markdown",
   "metadata": {},
   "source": [
    "*A) Clustering*"
   ]
  },
  {
   "cell_type": "code",
   "execution_count": 2,
   "metadata": {},
   "outputs": [],
   "source": [
    "#code here\n",
    "cluster_model = clustering(documents, args)\n",
    "cluster_data = cluster_model.labels_"
   ]
  },
  {
   "cell_type": "markdown",
   "metadata": {},
   "source": [
    "*B) Visualization*"
   ]
  },
  {
   "cell_type": "code",
   "execution_count": 3,
   "metadata": {},
   "outputs": [
    {
     "name": "stdout",
     "output_type": "stream",
     "text": [
      "\n",
      "\n",
      "Most important terms per cluster:\n",
      "Category: business\n",
      "Term: awards, TFIDF: 0.029638782939235393\n",
      "Term: award, TFIDF: 0.027870282217523162\n",
      "Term: band, TFIDF: 0.025300545710825056\n",
      "Term: album, TFIDF: 0.023638054325467568\n",
      "Term: festival, TFIDF: 0.022944911558794252\n",
      "Term: star, TFIDF: 0.021954673867717146\n",
      "Term: actor, TFIDF: 0.02079604072258534\n",
      "Term: films, TFIDF: 0.02026858120227055\n",
      "Term: actress, TFIDF: 0.01822316851797028\n",
      "Term: singer, TFIDF: 0.01771153600970941\n",
      "\n",
      "\n",
      "Category: entertainment\n",
      "Term: club, TFIDF: 0.025576677783070836\n",
      "Term: match, TFIDF: 0.022996239915902193\n",
      "Term: cup, TFIDF: 0.02292059637224429\n",
      "Term: season, TFIDF: 0.020876713330710176\n",
      "Term: ireland, TFIDF: 0.020310766039873772\n",
      "Term: injury, TFIDF: 0.02027526327717748\n",
      "Term: side, TFIDF: 0.020061953883482756\n",
      "Term: chelsea, TFIDF: 0.019984747301923834\n",
      "Term: wales, TFIDF: 0.01914696115728931\n",
      "Term: coach, TFIDF: 0.019100986793921998\n",
      "\n",
      "\n",
      "Category: politics\n",
      "Term: ink, TFIDF: 0.3264374782273374\n",
      "Term: printer, TFIDF: 0.23800624148404068\n",
      "Term: cartridges, TFIDF: 0.16490530287504526\n",
      "Term: lawsuit, TFIDF: 0.16384717106902816\n",
      "Term: hp, TFIDF: 0.1498838283580414\n",
      "Term: inkjet, TFIDF: 0.12367897715628395\n",
      "Term: willis, TFIDF: 0.11806244776067462\n",
      "Term: cartridge, TFIDF: 0.11241287126853104\n",
      "Term: chip, TFIDF: 0.08329041001953598\n",
      "Term: elections, TFIDF: 0.07298859619471032\n",
      "\n",
      "\n",
      "Category: sport\n",
      "Term: carib, TFIDF: 0.1317218139827909\n",
      "Term: scott, TFIDF: 0.1240935256478146\n",
      "Term: subs, TFIDF: 0.11574232012296878\n",
      "Term: mcindoe, TFIDF: 0.11475224903594645\n",
      "Term: rigoglioso, TFIDF: 0.11475224903594645\n",
      "Term: williams, TFIDF: 0.11333165031329791\n",
      "Term: mansfield, TFIDF: 0.10301971285458704\n",
      "Term: cannibalism, TFIDF: 0.09879136048709315\n",
      "Term: caribs, TFIDF: 0.09879136048709315\n",
      "Term: dominica, TFIDF: 0.09879136048709315\n",
      "\n",
      "\n",
      "Category: tech\n",
      "Term: election, TFIDF: 0.017680951900515357\n",
      "Term: blair, TFIDF: 0.01580720420971086\n",
      "Term: mobile, TFIDF: 0.013206208644986587\n",
      "Term: economy, TFIDF: 0.013195338362460271\n",
      "Term: brown, TFIDF: 0.012579610173216299\n",
      "Term: sales, TFIDF: 0.012349309781194561\n",
      "Term: tax, TFIDF: 0.012117891437500665\n",
      "Term: economic, TFIDF: 0.011023566638292123\n",
      "Term: bank, TFIDF: 0.010778817941935442\n",
      "Term: services, TFIDF: 0.009888709669341317\n",
      "\n",
      "\n"
     ]
    }
   ],
   "source": [
    "#code and charts here\n",
    "print(\"\\n\\nMost important terms per cluster:\")\n",
    "relevant_term_list = interpret(cluster_data, documents, args)\n",
    "for index, cluster_relevant_terms in enumerate(relevant_term_list, start=0):\n",
    "    print(\"Cluster: \" + index)\n",
    "    for i in range(10):\n",
    "        term = cluster_relevant_terms[i][0]\n",
    "        tfidf = cluster_relevant_terms[i][1]\n",
    "        print(\"Term: \" + term + \", TFIDF: \" + str(tfidf))\n",
    "    print(\"\\n\")"
   ]
  },
  {
   "cell_type": "markdown",
   "metadata": {},
   "source": [
    "*C) Evaluation*"
   ]
  },
  {
   "cell_type": "code",
   "execution_count": 4,
   "metadata": {},
   "outputs": [
    {
     "name": "stdout",
     "output_type": "stream",
     "text": [
      "\n",
      "\n",
      "Evaluation:\n",
      "Silhouette score: 0.016981027585815402\n",
      "Ran score:  0.4068185049209356\n",
      "Purity score: 0.5955056179775281\n",
      "\n",
      "Dendrogram: \n"
     ]
    },
    {
     "data": {
      "text/plain": "<Figure size 640x480 with 1 Axes>",
      "image/png": "[encoded data removed]"
     },
     "metadata": {},
     "output_type": "display_data"
    }
   ],
   "source": [
    "#code, statistics and/or charts here\n",
    "sil_score, ran_score, pur_score = evaluate(cluster_data, documents, args)\n",
    "\n",
    "print(\"\\n\\nEvaluation:\")\n",
    "print(\"Silhouette score: \" + str(sil_score))\n",
    "print(\"Ran score: \", str(ran_score))\n",
    "print(\"Purity score: \" + str(pur_score))\n",
    "\n",
    "print(\"\\nDendrogram: \")\n",
    "plot_dendrogram(cluster_model, truncate_mode='level', p=3)"
   ]
  },
  {
   "cell_type": "markdown",
   "metadata": {},
   "source": [
    "<h3>Part II: classification</h3>"
   ]
  },
  {
   "cell_type": "markdown",
   "metadata": {},
   "source": [
    "*A) Feature extraction*"
   ]
  },
  {
   "cell_type": "code",
   "execution_count": 5,
   "metadata": {},
   "outputs": [],
   "source": [
    "#code and statistics here"
   ]
  },
  {
   "cell_type": "markdown",
   "metadata": {},
   "source": [
    "*B) Classification*"
   ]
  },
  {
   "cell_type": "code",
   "execution_count": 6,
   "metadata": {},
   "outputs": [],
   "source": [
    "#code here"
   ]
  },
  {
   "cell_type": "markdown",
   "metadata": {},
   "source": [
    "*C) Ranking extension*"
   ]
  },
  {
   "cell_type": "code",
   "execution_count": 7,
   "metadata": {},
   "outputs": [],
   "source": [
    "#code here"
   ]
  },
  {
   "cell_type": "markdown",
   "metadata": {},
   "source": [
    "*D) Evaluation*"
   ]
  },
  {
   "cell_type": "code",
   "execution_count": 8,
   "metadata": {},
   "outputs": [],
   "source": [
    "#code, statistics and/or charts here"
   ]
  },
  {
   "cell_type": "markdown",
   "metadata": {},
   "source": [
    "<h3>Part III: link analysis</h3>"
   ]
  },
  {
   "cell_type": "markdown",
   "metadata": {},
   "source": [
    "*A) Graph construction*"
   ]
  },
  {
   "cell_type": "code",
   "execution_count": 9,
   "metadata": {},
   "outputs": [],
   "source": [
    "#code, statistics and/or charts here"
   ]
  },
  {
   "cell_type": "markdown",
   "metadata": {},
   "source": [
    "*B) Undirected page rank*"
   ]
  },
  {
   "cell_type": "code",
   "execution_count": 10,
   "metadata": {},
   "outputs": [],
   "source": [
    "#code"
   ]
  },
  {
   "cell_type": "markdown",
   "metadata": {},
   "source": [
    "*C) Evaluation*"
   ]
  },
  {
   "cell_type": "code",
   "execution_count": 11,
   "metadata": {},
   "outputs": [],
   "source": [
    "#code, statistics and/or charts here"
   ]
  },
  {
   "cell_type": "markdown",
   "metadata": {},
   "source": [
    "<H2>Question materials (optional)</H2>"
   ]
  },
  {
   "cell_type": "markdown",
   "metadata": {},
   "source": [
    "<H3>Part I: clustering</H3>"
   ]
  },
  {
   "cell_type": "markdown",
   "metadata": {},
   "source": [
    "**(a)** What is the (hypothesized) number of document clusters? Are the clusters cohesive? And well\n",
    "separated?"
   ]
  },
  {
   "cell_type": "code",
   "execution_count": 12,
   "metadata": {},
   "outputs": [],
   "source": [
    "#code, statistics and/or charts here"
   ]
  },
  {
   "cell_type": "markdown",
   "metadata": {},
   "source": [
    "**(b)** What the clustering reveals regarding the conceptual organization of documents?"
   ]
  },
  {
   "cell_type": "code",
   "execution_count": 13,
   "metadata": {},
   "outputs": [],
   "source": [
    "#code, statistics and/or charts here"
   ]
  },
  {
   "cell_type": "markdown",
   "metadata": {},
   "source": [
    "**...** (additional questions with empirical results)"
   ]
  },
  {
   "cell_type": "markdown",
   "metadata": {},
   "source": [
    "<H3>END</H3>"
   ]
  }
 ],
 "metadata": {
  "kernelspec": {
   "display_name": "Python 3",
   "language": "python",
   "name": "python3"
  },
  "language_info": {
   "codemirror_mode": {
    "name": "ipython",
    "version": 3
   },
   "file_extension": ".py",
   "mimetype": "text/x-python",
   "name": "python",
   "nbconvert_exporter": "python",
   "pygments_lexer": "ipython3",
   "version": "3.8.5"
  }
 },
 "nbformat": 4,
 "nbformat_minor": 4
}
